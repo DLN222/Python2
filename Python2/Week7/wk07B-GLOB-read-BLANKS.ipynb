{
 "cells": [
  {
   "cell_type": "markdown",
   "metadata": {
    "id": "GZacCx2Yzims"
   },
   "source": [
    "# Grabbing files\n",
    "\n",
    "When we scrape and download documents (or if we receive a cache of documents), we'll need to read and analyze them.\n",
    "\n",
    "We might want quantify elements in the unstructured data and transfer to a spreadsheet. There are different ways to do that, but first a document has to be **read**.\n",
    "\n",
    "\n",
    "- [Download the sample files](https://drive.google.com/file/d/1wPknfzabti49EKxv9zAFkso_g2HrniQp/view?usp=share_link) we will need and place in the same folder as your ```.ipynb``` file."
   ]
  },
  {
   "cell_type": "markdown",
   "metadata": {},
   "source": [
    "glob is a UNIX-based library"
   ]
  },
  {
   "cell_type": "code",
   "execution_count": 1,
   "metadata": {},
   "outputs": [],
   "source": [
    "import glob"
   ]
  },
  {
   "cell_type": "code",
   "execution_count": 3,
   "metadata": {},
   "outputs": [
    {
     "data": {
      "text/plain": [
       "['demo-docs/fla_count_as_of_2020-08-19_time_11_31_00.csv']"
      ]
     },
     "execution_count": 3,
     "metadata": {},
     "output_type": "execute_result"
    }
   ],
   "source": [
    "glob.glob(\"demo-docs/fla_count_as_of_2020-08-19_time_11_31_00.csv\")\n",
    "### have to add the folder path/"
   ]
  },
  {
   "cell_type": "code",
   "execution_count": 5,
   "metadata": {},
   "outputs": [
    {
     "data": {
      "text/plain": [
       "['demo-docs/fla_count_as_of_2020-08-19_time_11_46_00.csv',\n",
       " 'demo-docs/fla_count_as_of_2020-08-19_time_11_31_00.csv',\n",
       " 'demo-docs/fla_count_as_of_2020-08-19_time_12_31_00.csv',\n",
       " 'demo-docs/fla_count_as_of_2020-08-19_time_12_01_00.csv',\n",
       " 'demo-docs/Pa_count_as_of_2020-08-19_time_12_16_00.csv']"
      ]
     },
     "execution_count": 5,
     "metadata": {},
     "output_type": "execute_result"
    }
   ],
   "source": [
    "##If you want to pull in ALL csv files\n",
    "## anything before *csv, without PA\n",
    "#glob.glob(\"demo-docs/fl*.csv\")\n",
    "#glob.glob(\"demo-docs/*la*.csv\")\n",
    "\n",
    "glob.glob(\"demo-docs/*.csv\")"
   ]
  },
  {
   "cell_type": "code",
   "execution_count": 6,
   "metadata": {},
   "outputs": [
    {
     "data": {
      "text/plain": [
       "['demo-docs/adolph-coors-2015.pdf',\n",
       " 'demo-docs/adolph-coors-2014.pdf',\n",
       " 'demo-docs/adolph-coors-2013.pdf']"
      ]
     },
     "execution_count": 6,
     "metadata": {},
     "output_type": "execute_result"
    }
   ],
   "source": [
    "glob.glob(\"demo-docs/*pdf\")"
   ]
  },
  {
   "cell_type": "code",
   "execution_count": 7,
   "metadata": {},
   "outputs": [
    {
     "data": {
      "text/plain": [
       "['demo-docs/fla_count_as_of_2020-08-19_time_11_46_00.csv',\n",
       " 'demo-docs/adolph-coors-2015.pdf',\n",
       " 'demo-docs/adolph-coors-2014.pdf',\n",
       " 'demo-docs/fla_count_as_of_2020-08-19_time_11_31_00.csv',\n",
       " 'demo-docs/adolph-coors-2013.pdf',\n",
       " 'demo-docs/fla_count_as_of_2020-08-19_time_12_31_00.csv',\n",
       " 'demo-docs/read_sample2.txt',\n",
       " 'demo-docs/read_sample1.txt',\n",
       " 'demo-docs/fla_count_as_of_2020-08-19_time_12_01_00.csv',\n",
       " 'demo-docs/Pa_count_as_of_2020-08-19_time_12_16_00.csv']"
      ]
     },
     "execution_count": 7,
     "metadata": {},
     "output_type": "execute_result"
    }
   ],
   "source": [
    "#grabs everything\n",
    "\n",
    "glob.glob(\"demo-docs/*\")"
   ]
  },
  {
   "cell_type": "code",
   "execution_count": 9,
   "metadata": {},
   "outputs": [
    {
     "data": {
      "text/plain": [
       "['demo-docs/read_sample2.txt', 'demo-docs/read_sample1.txt']"
      ]
     },
     "execution_count": 9,
     "metadata": {},
     "output_type": "execute_result"
    }
   ],
   "source": [
    "#name and pull txt files\n",
    "\n",
    "my_text_files = glob.glob(\"demo-docs/*txt\")\n",
    "my_text_files"
   ]
  },
  {
   "cell_type": "code",
   "execution_count": 17,
   "metadata": {},
   "outputs": [
    {
     "data": {
      "text/plain": [
       "'demo-docs/read_sample2.txt'"
      ]
     },
     "execution_count": 17,
     "metadata": {},
     "output_type": "execute_result"
    }
   ],
   "source": [
    "my_text_files[0]"
   ]
  },
  {
   "cell_type": "markdown",
   "metadata": {},
   "source": [
    "#Reading Files"
   ]
  },
  {
   "cell_type": "code",
   "execution_count": 18,
   "metadata": {},
   "outputs": [
    {
     "name": "stdout",
     "output_type": "stream",
     "text": [
      "<class '_io.TextIOWrapper'>\n"
     ]
    }
   ],
   "source": [
    "# open doc, read and close after the indent\n",
    "#TextIOWrapper\n",
    "\n",
    "with open(\"demo-docs/read_sample2.txt\", \"r\") as my_text:\n",
    "    print(type(my_text))"
   ]
  },
  {
   "cell_type": "code",
   "execution_count": 19,
   "metadata": {},
   "outputs": [
    {
     "name": "stdout",
     "output_type": "stream",
     "text": [
      "New Zealand to Reduce Covid Self-Isolation Period to Seven Days\n",
      "ByTracy Withers\n",
      "\n",
      "New Zealand will reduce the isolation period for Covid-19 cases and their household contacts to seven days in order to get more people back to work.\n",
      "\n",
      "The period will reduce from 10 days effective at 11:59 p.m. on Friday March 11 in Wellington, Minister for Covid Response Chris Hipkins said in a statement.\n",
      "\n"
     ]
    }
   ],
   "source": [
    "with open(my_text_files[0], \"r\") as my_text:\n",
    "    print(my_text.read())"
   ]
  },
  {
   "cell_type": "code",
   "execution_count": 21,
   "metadata": {},
   "outputs": [
    {
     "name": "stdout",
     "output_type": "stream",
     "text": [
      "McDonald’s, Coca-Cola Hit Pause on Russia Amid Ris\n"
     ]
    }
   ],
   "source": [
    "#[1] next file\n",
    "#50 characters\n",
    "\n",
    "with open(my_text_files[1], \"r\") as my_text:\n",
    "    print(my_text.read(50))"
   ]
  },
  {
   "cell_type": "code",
   "execution_count": null,
   "metadata": {},
   "outputs": [],
   "source": [
    "#this refers to the above line so it won't acknowledge the whole text just the first 50\n",
    "\n",
    "print(my_text.read(60))"
   ]
  },
  {
   "cell_type": "code",
   "execution_count": 22,
   "metadata": {},
   "outputs": [],
   "source": [
    "with open(my_text_files[1], \"r\") as my_text:\n",
    "    text50 = (my_text.read(50))"
   ]
  },
  {
   "cell_type": "code",
   "execution_count": 24,
   "metadata": {},
   "outputs": [
    {
     "data": {
      "text/plain": [
       "'McDonald’s, Coca-Cola Hit Pause on Russia Amid Ris'"
      ]
     },
     "execution_count": 24,
     "metadata": {},
     "output_type": "execute_result"
    }
   ],
   "source": [
    "text50"
   ]
  },
  {
   "cell_type": "code",
   "execution_count": 27,
   "metadata": {},
   "outputs": [],
   "source": [
    "\n",
    "\n",
    "with open(my_text_files[1], \"r\") as my_text:\n",
    "    first_line = my_text.readline()"
   ]
  },
  {
   "cell_type": "code",
   "execution_count": 28,
   "metadata": {},
   "outputs": [
    {
     "data": {
      "text/plain": [
       "'McDonald’s, Coca-Cola Hit Pause on Russia Amid Rising Backlash\\n'"
      ]
     },
     "execution_count": 28,
     "metadata": {},
     "output_type": "execute_result"
    }
   ],
   "source": [
    "first_line"
   ]
  },
  {
   "cell_type": "code",
   "execution_count": 33,
   "metadata": {},
   "outputs": [],
   "source": [
    "with open(my_text_files[1], \"r\") as my_text:\n",
    "    all_text = my_text.read()"
   ]
  },
  {
   "cell_type": "code",
   "execution_count": 34,
   "metadata": {},
   "outputs": [
    {
     "data": {
      "text/plain": [
       "'McDonald’s, Coca-Cola Hit Pause on Russia Amid Rising Backlash\\nBy Leslie Patton and Brendan Case\\n\\nMcDonald’s Corp., Coca-Cola Co. and Starbucks Corp. are temporarily halting business operations in Russia amid an intensifying backlash since the invasion of Ukraine started nearly two weeks ago. \\n\\nThe iconic U.S. brands, seen around the world as the face of U.S. capitalism, announced their decisions in a flurry of announcements on Tuesday afternoon, joining hundreds of other global companies that have halted work in Russia since the war began. PepsiCo Inc. said it would suspend soft drink sales in Russia but would continue to sell daily essentials such as milk and baby formula.\\n'"
      ]
     },
     "execution_count": 34,
     "metadata": {},
     "output_type": "execute_result"
    }
   ],
   "source": [
    "all_text"
   ]
  },
  {
   "cell_type": "code",
   "execution_count": 36,
   "metadata": {},
   "outputs": [],
   "source": [
    "with open(my_text_files[1], \"r\") as my_text:\n",
    "    all_text_list = my_text.readlines()\n",
    "\n"
   ]
  },
  {
   "cell_type": "code",
   "execution_count": 37,
   "metadata": {},
   "outputs": [
    {
     "data": {
      "text/plain": [
       "['McDonald’s, Coca-Cola Hit Pause on Russia Amid Rising Backlash\\n',\n",
       " 'By Leslie Patton and Brendan Case\\n',\n",
       " '\\n',\n",
       " 'McDonald’s Corp., Coca-Cola Co. and Starbucks Corp. are temporarily halting business operations in Russia amid an intensifying backlash since the invasion of Ukraine started nearly two weeks ago. \\n',\n",
       " '\\n',\n",
       " 'The iconic U.S. brands, seen around the world as the face of U.S. capitalism, announced their decisions in a flurry of announcements on Tuesday afternoon, joining hundreds of other global companies that have halted work in Russia since the war began. PepsiCo Inc. said it would suspend soft drink sales in Russia but would continue to sell daily essentials such as milk and baby formula.\\n']"
      ]
     },
     "execution_count": 37,
     "metadata": {},
     "output_type": "execute_result"
    }
   ],
   "source": [
    "all_text_list"
   ]
  },
  {
   "cell_type": "code",
   "execution_count": 38,
   "metadata": {},
   "outputs": [
    {
     "data": {
      "text/plain": [
       "'McDonald’s, Coca-Cola Hit Pause on Russia Amid Rising Backlash\\n'"
      ]
     },
     "execution_count": 38,
     "metadata": {},
     "output_type": "execute_result"
    }
   ],
   "source": [
    "court_case_number = all_text_list[0]\n",
    "court_case_number"
   ]
  },
  {
   "cell_type": "code",
   "execution_count": 39,
   "metadata": {},
   "outputs": [
    {
     "data": {
      "text/plain": [
       "'McDonald’s Corp., Coca-Cola Co. and Starbucks Corp. are temporarily halting business operations in Russia amid an intensifying backlash since the invasion of Ukraine started nearly two weeks ago. \\n'"
      ]
     },
     "execution_count": 39,
     "metadata": {},
     "output_type": "execute_result"
    }
   ],
   "source": [
    "court_case_summary = all_text_list[3]\n",
    "court_case_summary"
   ]
  },
  {
   "cell_type": "code",
   "execution_count": null,
   "metadata": {},
   "outputs": [],
   "source": []
  },
  {
   "cell_type": "code",
   "execution_count": null,
   "metadata": {},
   "outputs": [],
   "source": []
  },
  {
   "cell_type": "code",
   "execution_count": null,
   "metadata": {},
   "outputs": [],
   "source": []
  }
 ],
 "metadata": {
  "colab": {
   "collapsed_sections": [],
   "name": "week-8B-file_folder_GLOB_READ_BLANK.ipynb",
   "provenance": [
    {
     "file_id": "1gCGeYOc9hI-v5dNhehTH_FE0g5UNiLW6",
     "timestamp": 1646785019864
    },
    {
     "file_id": "1kqd4HicmAldE-DZBOgLQjchxim-GVwYN",
     "timestamp": 1628626905369
    },
    {
     "file_id": "1C3xH08V3tJClZ_nWy3bNSUqRKcdYSC-f",
     "timestamp": 1620827792051
    }
   ]
  },
  "kernelspec": {
   "display_name": "Python 3 (ipykernel)",
   "language": "python",
   "name": "python3"
  },
  "language_info": {
   "codemirror_mode": {
    "name": "ipython",
    "version": 3
   },
   "file_extension": ".py",
   "mimetype": "text/x-python",
   "name": "python",
   "nbconvert_exporter": "python",
   "pygments_lexer": "ipython3",
   "version": "3.11.5"
  }
 },
 "nbformat": 4,
 "nbformat_minor": 1
}
