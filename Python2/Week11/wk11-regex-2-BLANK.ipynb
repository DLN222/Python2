{
 "cells": [
  {
   "cell_type": "markdown",
   "id": "eb73954a",
   "metadata": {},
   "source": [
    "# Regular Expressions (regex) - Part 2\n",
    "\n",
    "### We'll now connect ```regex``` to ```Python```.\n",
    "\n",
    "**Pages we need:**\n",
    "\n",
    "- Live Testing: https://regex101.com/\n",
    "- Sandeep's <a href=\"https://docs.google.com/spreadsheets/d/1A39lM4SiGZbzZPxrjEXkR05aksAewudccWmojoIU0Gk/edit?usp=sharing\">REGEX Tip sheet</a>\n",
    "- Download <a href=\"https://drive.google.com/file/d/1thZ7xDTb0IXiauaSvxMskDL_BAFjM_fi/view?usp=sharing\">this notebook demo text</a>\n",
    "- Download these <a href=\"https://drive.google.com/file/d/1nZ6GMwQKuQEQ2zKftkod4oHh-RqxfwXB/view?usp=sharing\">confesssion judgment excerpts</a>"
   ]
  },
  {
   "cell_type": "code",
   "execution_count": 1,
   "id": "f455e45c",
   "metadata": {},
   "outputs": [],
   "source": [
    "import regex as re\n",
    "import pandas as pd\n",
    "import glob"
   ]
  },
  {
   "cell_type": "code",
   "execution_count": 3,
   "id": "11fb26ca",
   "metadata": {},
   "outputs": [],
   "source": [
    "## Run this cell\n",
    "some_text = \"The dog barked at the other dog, cat and kitten.\""
   ]
  },
  {
   "cell_type": "code",
   "execution_count": 6,
   "id": "bdbd397c",
   "metadata": {},
   "outputs": [
    {
     "data": {
      "text/plain": [
       "True"
      ]
     },
     "execution_count": 6,
     "metadata": {},
     "output_type": "execute_result"
    }
   ],
   "source": [
    "\"dog\" in some_text"
   ]
  },
  {
   "cell_type": "code",
   "execution_count": 7,
   "id": "88470d6b",
   "metadata": {},
   "outputs": [
    {
     "data": {
      "text/plain": [
       "True"
      ]
     },
     "execution_count": 7,
     "metadata": {},
     "output_type": "execute_result"
    }
   ],
   "source": [
    "\"kitten\" in some_text"
   ]
  },
  {
   "cell_type": "code",
   "execution_count": 8,
   "id": "a2655ef0",
   "metadata": {},
   "outputs": [
    {
     "data": {
      "text/plain": [
       "False"
      ]
     },
     "execution_count": 8,
     "metadata": {},
     "output_type": "execute_result"
    }
   ],
   "source": [
    "\"bird\" in some_text"
   ]
  },
  {
   "cell_type": "code",
   "execution_count": 13,
   "id": "309ba64c",
   "metadata": {},
   "outputs": [],
   "source": [
    "dog_pat = re.compile(\"d\\wg\")\n",
    "#dog_pat = re.compile(r\"d\\wg\")"
   ]
  },
  {
   "cell_type": "code",
   "execution_count": 14,
   "id": "e8de56a5",
   "metadata": {},
   "outputs": [
    {
     "data": {
      "text/plain": [
       "_regex.Pattern"
      ]
     },
     "execution_count": 14,
     "metadata": {},
     "output_type": "execute_result"
    }
   ],
   "source": [
    "type(dog_pat)"
   ]
  },
  {
   "cell_type": "code",
   "execution_count": 15,
   "id": "705aa9f1",
   "metadata": {},
   "outputs": [
    {
     "data": {
      "text/plain": [
       "<regex.Match object; span=(4, 7), match='dog'>"
      ]
     },
     "execution_count": 15,
     "metadata": {},
     "output_type": "execute_result"
    }
   ],
   "source": [
    "dog_pat.search(some_text)"
   ]
  },
  {
   "cell_type": "code",
   "execution_count": 16,
   "id": "f75aa49d",
   "metadata": {},
   "outputs": [],
   "source": [
    "## run this\n",
    "other_text = \"The military vet who loves her dog was able to overcome her PTSD with the help of a service dog.\""
   ]
  },
  {
   "cell_type": "code",
   "execution_count": 17,
   "id": "1c702da5",
   "metadata": {},
   "outputs": [
    {
     "data": {
      "text/plain": [
       "_regex.Match"
      ]
     },
     "execution_count": 17,
     "metadata": {},
     "output_type": "execute_result"
    }
   ],
   "source": [
    "type(dog_pat.search(other_text))"
   ]
  },
  {
   "cell_type": "code",
   "execution_count": 18,
   "id": "e9eedc47",
   "metadata": {},
   "outputs": [
    {
     "data": {
      "text/plain": [
       "<regex.Match object; span=(31, 34), match='dog'>"
      ]
     },
     "execution_count": 18,
     "metadata": {},
     "output_type": "execute_result"
    }
   ],
   "source": [
    "dog_pat.search(other_text)"
   ]
  },
  {
   "cell_type": "code",
   "execution_count": 19,
   "id": "610c86bb",
   "metadata": {},
   "outputs": [
    {
     "data": {
      "text/plain": [
       "<regex.Match object; span=(31, 34), match='dog'>"
      ]
     },
     "execution_count": 19,
     "metadata": {},
     "output_type": "execute_result"
    }
   ],
   "source": [
    "vet_dog = dog_pat.search(other_text)\n",
    "vet_dog"
   ]
  },
  {
   "cell_type": "code",
   "execution_count": 20,
   "id": "65d84b42",
   "metadata": {},
   "outputs": [
    {
     "data": {
      "text/plain": [
       "'dog'"
      ]
     },
     "execution_count": 20,
     "metadata": {},
     "output_type": "execute_result"
    }
   ],
   "source": [
    "vet_dog.group()"
   ]
  },
  {
   "cell_type": "code",
   "execution_count": 21,
   "id": "0fef0a51",
   "metadata": {},
   "outputs": [
    {
     "data": {
      "text/plain": [
       "str"
      ]
     },
     "execution_count": 21,
     "metadata": {},
     "output_type": "execute_result"
    }
   ],
   "source": [
    "type(vet_dog.group())"
   ]
  },
  {
   "cell_type": "code",
   "execution_count": 27,
   "id": "091d47ec",
   "metadata": {},
   "outputs": [],
   "source": [
    "with open(\"regex-notebook-demo.txt\", \"r\") as text_obj:\n",
    "        demo_text = text_obj.read()"
   ]
  },
  {
   "cell_type": "code",
   "execution_count": 28,
   "id": "41b13cad",
   "metadata": {},
   "outputs": [
    {
     "data": {
      "text/plain": [
       "\"12534 127 ab aba abba sandeepj@bloomberg.net abbba, abbbbba, (518) 469-4581 abcde.The dog is a not a hog. ABA ABBA ABBBA.\\n\\nFlorence smith\\nJohn Smith\\nCarol Brown Tel. 212-452-5728\\n\\n\\nAb_CD123  123456 and 12456\\ttor 12531245134562. 123867584789. $40.44 or $3 or $52,583.08 or $610,235.11\\nTel. (917) 492-8601\\n\\nThe cat sat down and called 514-957-3453 while the other caaaaaat purred. This cat is in California while this caaaat is in Iraq, but none are in ct. My dog prefers cat food to dog food but hates fish food.My food tastes yummy!\\nPeter Trapp Jon Smythe Luca Smith John Smythe\\nMaggie Veach Tel. 718 601 7567\\n\\nAB_cd \\t<+>-.,!@# $%^&*();\\\\/|_^@1# (917) 488-5410\\n\\n*!dsar2d1\\n\\nI told him to search Jon Smith\\nKatie Pine\\nJohn Smth\\n\\nTELEPHONE NUMBERS\\nTel. 718-392-4793\\nTel. (646) 469-3211\\nTel. 917.425.2796\\n\\nNUMBERS\\n1\\n12\\n123\\n123,456\\n123,456,789\\n123,456,789.01\\n\\nEMAILS\\nsandeep.junnarkar@journalism.cuny.edu\\nsandeepj@gmail.com\\nsjunnarkar@bloomberg.net\\nsandeep.junnarkar@news.co.uk\\n\\n\\nPOLICE\\nDet. Frank Castille\\nPolice Officer Dan D. Dennings\\nLt. Patrician Grace\\nDetective Susan Treeble\\nOfficer Cantwell Brady-Stevens\\n\\nNovel Djokvichthe thesaurus where sandeep.junnarkar@journalism.cuny.edu he'd be able to sjnews@gmail.com find words like them.\\n\\nabcdefgczhijklmnopqrstuvwxyz\\tABCDEFGCZHIJKLMNOPQRSTUVWXYZ\\n\\nA h0g is a hog.\\n\\nDog and dog and DOG. His number is 415.458.9163. John Brown jon Smith\\nPeter Finch\\n\\n&^%@ 129\\n\\n$12,560\\n\\nabba\\n\\ncat 3452 black\\ndog 234 white\\nfish 3562 silver\\nrat 94 white\\nbird 1957 purple\\nhorse 3 black\\nchameleon  5724 green\\nsnake 6730 red\""
      ]
     },
     "execution_count": 28,
     "metadata": {},
     "output_type": "execute_result"
    }
   ],
   "source": [
    "demo_text"
   ]
  },
  {
   "cell_type": "code",
   "execution_count": 29,
   "id": "f9c0f3ae",
   "metadata": {},
   "outputs": [
    {
     "name": "stdout",
     "output_type": "stream",
     "text": [
      "12534 127 ab aba abba sandeepj@bloomberg.net abbba, abbbbba, (518) 469-4581 abcde.The dog is a not a hog. ABA ABBA ABBBA.\n",
      "\n",
      "Florence smith\n",
      "John Smith\n",
      "Carol Brown Tel. 212-452-5728\n",
      "\n",
      "\n",
      "Ab_CD123  123456 and 12456\ttor 12531245134562. 123867584789. $40.44 or $3 or $52,583.08 or $610,235.11\n",
      "Tel. (917) 492-8601\n",
      "\n",
      "The cat sat down and called 514-957-3453 while the other caaaaaat purred. This cat is in California while this caaaat is in Iraq, but none are in ct. My dog prefers cat food to dog food but hates fish food.My food tastes yummy!\n",
      "Peter Trapp Jon Smythe Luca Smith John Smythe\n",
      "Maggie Veach Tel. 718 601 7567\n",
      "\n",
      "AB_cd \t<+>-.,!@# $%^&*();\\/|_^@1# (917) 488-5410\n",
      "\n",
      "*!dsar2d1\n",
      "\n",
      "I told him to search Jon Smith\n",
      "Katie Pine\n",
      "John Smth\n",
      "\n",
      "TELEPHONE NUMBERS\n",
      "Tel. 718-392-4793\n",
      "Tel. (646) 469-3211\n",
      "Tel. 917.425.2796\n",
      "\n",
      "NUMBERS\n",
      "1\n",
      "12\n",
      "123\n",
      "123,456\n",
      "123,456,789\n",
      "123,456,789.01\n",
      "\n",
      "EMAILS\n",
      "sandeep.junnarkar@journalism.cuny.edu\n",
      "sandeepj@gmail.com\n",
      "sjunnarkar@bloomberg.net\n",
      "sandeep.junnarkar@news.co.uk\n",
      "\n",
      "\n",
      "POLICE\n",
      "Det. Frank Castille\n",
      "Police Officer Dan D. Dennings\n",
      "Lt. Patrician Grace\n",
      "Detective Susan Treeble\n",
      "Officer Cantwell Brady-Stevens\n",
      "\n",
      "Novel Djokvichthe thesaurus where sandeep.junnarkar@journalism.cuny.edu he'd be able to sjnews@gmail.com find words like them.\n",
      "\n",
      "abcdefgczhijklmnopqrstuvwxyz\tABCDEFGCZHIJKLMNOPQRSTUVWXYZ\n",
      "\n",
      "A h0g is a hog.\n",
      "\n",
      "Dog and dog and DOG. His number is 415.458.9163. John Brown jon Smith\n",
      "Peter Finch\n",
      "\n",
      "&^%@ 129\n",
      "\n",
      "$12,560\n",
      "\n",
      "abba\n",
      "\n",
      "cat 3452 black\n",
      "dog 234 white\n",
      "fish 3562 silver\n",
      "rat 94 white\n",
      "bird 1957 purple\n",
      "horse 3 black\n",
      "chameleon  5724 green\n",
      "snake 6730 red\n"
     ]
    }
   ],
   "source": [
    "print(demo_text)"
   ]
  },
  {
   "cell_type": "code",
   "execution_count": 31,
   "id": "3b796871",
   "metadata": {},
   "outputs": [
    {
     "data": {
      "text/plain": [
       "['12534',\n",
       " '127',\n",
       " 'ab',\n",
       " 'aba',\n",
       " 'abba',\n",
       " 'sandeepj',\n",
       " 'bloomberg',\n",
       " 'net',\n",
       " 'abbba',\n",
       " 'abbbbba',\n",
       " '518',\n",
       " '469',\n",
       " '4581',\n",
       " 'abcde',\n",
       " 'The',\n",
       " 'dog',\n",
       " 'is',\n",
       " 'a',\n",
       " 'not',\n",
       " 'a',\n",
       " 'hog',\n",
       " 'ABA',\n",
       " 'ABBA',\n",
       " 'ABBBA',\n",
       " 'Florence',\n",
       " 'smith',\n",
       " 'John',\n",
       " 'Smith',\n",
       " 'Carol',\n",
       " 'Brown',\n",
       " 'Tel',\n",
       " '212',\n",
       " '452',\n",
       " '5728',\n",
       " 'Ab_CD123',\n",
       " '123456',\n",
       " 'and',\n",
       " '12456',\n",
       " 'tor',\n",
       " '12531245134562',\n",
       " '123867584789',\n",
       " '40',\n",
       " '44',\n",
       " 'or',\n",
       " '3',\n",
       " 'or',\n",
       " '52',\n",
       " '583',\n",
       " '08',\n",
       " 'or',\n",
       " '610',\n",
       " '235',\n",
       " '11',\n",
       " 'Tel',\n",
       " '917',\n",
       " '492',\n",
       " '8601',\n",
       " 'The',\n",
       " 'cat',\n",
       " 'sat',\n",
       " 'down',\n",
       " 'and',\n",
       " 'called',\n",
       " '514',\n",
       " '957',\n",
       " '3453',\n",
       " 'while',\n",
       " 'the',\n",
       " 'other',\n",
       " 'caaaaaat',\n",
       " 'purred',\n",
       " 'This',\n",
       " 'cat',\n",
       " 'is',\n",
       " 'in',\n",
       " 'California',\n",
       " 'while',\n",
       " 'this',\n",
       " 'caaaat',\n",
       " 'is',\n",
       " 'in',\n",
       " 'Iraq',\n",
       " 'but',\n",
       " 'none',\n",
       " 'are',\n",
       " 'in',\n",
       " 'ct',\n",
       " 'My',\n",
       " 'dog',\n",
       " 'prefers',\n",
       " 'cat',\n",
       " 'food',\n",
       " 'to',\n",
       " 'dog',\n",
       " 'food',\n",
       " 'but',\n",
       " 'hates',\n",
       " 'fish',\n",
       " 'food',\n",
       " 'My',\n",
       " 'food',\n",
       " 'tastes',\n",
       " 'yummy',\n",
       " 'Peter',\n",
       " 'Trapp',\n",
       " 'Jon',\n",
       " 'Smythe',\n",
       " 'Luca',\n",
       " 'Smith',\n",
       " 'John',\n",
       " 'Smythe',\n",
       " 'Maggie',\n",
       " 'Veach',\n",
       " 'Tel',\n",
       " '718',\n",
       " '601',\n",
       " '7567',\n",
       " 'AB_cd',\n",
       " '_',\n",
       " '1',\n",
       " '917',\n",
       " '488',\n",
       " '5410',\n",
       " 'dsar2d1',\n",
       " 'I',\n",
       " 'told',\n",
       " 'him',\n",
       " 'to',\n",
       " 'search',\n",
       " 'Jon',\n",
       " 'Smith',\n",
       " 'Katie',\n",
       " 'Pine',\n",
       " 'John',\n",
       " 'Smth',\n",
       " 'TELEPHONE',\n",
       " 'NUMBERS',\n",
       " 'Tel',\n",
       " '718',\n",
       " '392',\n",
       " '4793',\n",
       " 'Tel',\n",
       " '646',\n",
       " '469',\n",
       " '3211',\n",
       " 'Tel',\n",
       " '917',\n",
       " '425',\n",
       " '2796',\n",
       " 'NUMBERS',\n",
       " '1',\n",
       " '12',\n",
       " '123',\n",
       " '123',\n",
       " '456',\n",
       " '123',\n",
       " '456',\n",
       " '789',\n",
       " '123',\n",
       " '456',\n",
       " '789',\n",
       " '01',\n",
       " 'EMAILS',\n",
       " 'sandeep',\n",
       " 'junnarkar',\n",
       " 'journalism',\n",
       " 'cuny',\n",
       " 'edu',\n",
       " 'sandeepj',\n",
       " 'gmail',\n",
       " 'com',\n",
       " 'sjunnarkar',\n",
       " 'bloomberg',\n",
       " 'net',\n",
       " 'sandeep',\n",
       " 'junnarkar',\n",
       " 'news',\n",
       " 'co',\n",
       " 'uk',\n",
       " 'POLICE',\n",
       " 'Det',\n",
       " 'Frank',\n",
       " 'Castille',\n",
       " 'Police',\n",
       " 'Officer',\n",
       " 'Dan',\n",
       " 'D',\n",
       " 'Dennings',\n",
       " 'Lt',\n",
       " 'Patrician',\n",
       " 'Grace',\n",
       " 'Detective',\n",
       " 'Susan',\n",
       " 'Treeble',\n",
       " 'Officer',\n",
       " 'Cantwell',\n",
       " 'Brady',\n",
       " 'Stevens',\n",
       " 'Novel',\n",
       " 'Djokvichthe',\n",
       " 'thesaurus',\n",
       " 'where',\n",
       " 'sandeep',\n",
       " 'junnarkar',\n",
       " 'journalism',\n",
       " 'cuny',\n",
       " 'edu',\n",
       " 'he',\n",
       " 'd',\n",
       " 'be',\n",
       " 'able',\n",
       " 'to',\n",
       " 'sjnews',\n",
       " 'gmail',\n",
       " 'com',\n",
       " 'find',\n",
       " 'words',\n",
       " 'like',\n",
       " 'them',\n",
       " 'abcdefgczhijklmnopqrstuvwxyz',\n",
       " 'ABCDEFGCZHIJKLMNOPQRSTUVWXYZ',\n",
       " 'A',\n",
       " 'h0g',\n",
       " 'is',\n",
       " 'a',\n",
       " 'hog',\n",
       " 'Dog',\n",
       " 'and',\n",
       " 'dog',\n",
       " 'and',\n",
       " 'DOG',\n",
       " 'His',\n",
       " 'number',\n",
       " 'is',\n",
       " '415',\n",
       " '458',\n",
       " '9163',\n",
       " 'John',\n",
       " 'Brown',\n",
       " 'jon',\n",
       " 'Smith',\n",
       " 'Peter',\n",
       " 'Finch',\n",
       " '129',\n",
       " '12',\n",
       " '560',\n",
       " 'abba',\n",
       " 'cat',\n",
       " '3452',\n",
       " 'black',\n",
       " 'dog',\n",
       " '234',\n",
       " 'white',\n",
       " 'fish',\n",
       " '3562',\n",
       " 'silver',\n",
       " 'rat',\n",
       " '94',\n",
       " 'white',\n",
       " 'bird',\n",
       " '1957',\n",
       " 'purple',\n",
       " 'horse',\n",
       " '3',\n",
       " 'black',\n",
       " 'chameleon',\n",
       " '5724',\n",
       " 'green',\n",
       " 'snake',\n",
       " '6730',\n",
       " 'red']"
      ]
     },
     "execution_count": 31,
     "metadata": {},
     "output_type": "execute_result"
    }
   ],
   "source": [
    "pat1= re.compile(r\"\\w+\")\n",
    "pat1.findall(demo_text)"
   ]
  },
  {
   "cell_type": "code",
   "execution_count": 32,
   "id": "036fcc21",
   "metadata": {},
   "outputs": [
    {
     "data": {
      "text/plain": [
       "list"
      ]
     },
     "execution_count": 32,
     "metadata": {},
     "output_type": "execute_result"
    }
   ],
   "source": [
    "type(pat1.findall(demo_text))"
   ]
  },
  {
   "cell_type": "code",
   "execution_count": 34,
   "id": "f08b4eeb",
   "metadata": {},
   "outputs": [],
   "source": [
    "pat2 = re.compile(r\"ab{1,2}\")"
   ]
  },
  {
   "cell_type": "code",
   "execution_count": 35,
   "id": "0fdc7a8e",
   "metadata": {},
   "outputs": [
    {
     "data": {
      "text/plain": [
       "['ab', 'ab', 'abb', 'abb', 'abb', 'ab', 'ab', 'ab', 'abb']"
      ]
     },
     "execution_count": 35,
     "metadata": {},
     "output_type": "execute_result"
    }
   ],
   "source": [
    "pat2.findall(demo_text)"
   ]
  },
  {
   "cell_type": "code",
   "execution_count": 36,
   "id": "f3efcbb7",
   "metadata": {},
   "outputs": [
    {
     "data": {
      "text/plain": [
       "regex.Regex('ab{1,2}', flags=regex.V0)"
      ]
     },
     "execution_count": 36,
     "metadata": {},
     "output_type": "execute_result"
    }
   ],
   "source": [
    "pat2"
   ]
  },
  {
   "cell_type": "code",
   "execution_count": 39,
   "id": "a663d5c4",
   "metadata": {},
   "outputs": [],
   "source": [
    "pat2 = re.compile(r\"ab{1,2}\", re.I)"
   ]
  },
  {
   "cell_type": "code",
   "execution_count": 40,
   "id": "2b8603d1",
   "metadata": {},
   "outputs": [
    {
     "data": {
      "text/plain": [
       "['ab',\n",
       " 'ab',\n",
       " 'abb',\n",
       " 'abb',\n",
       " 'abb',\n",
       " 'ab',\n",
       " 'AB',\n",
       " 'ABB',\n",
       " 'ABB',\n",
       " 'Ab',\n",
       " 'AB',\n",
       " 'ab',\n",
       " 'ab',\n",
       " 'AB',\n",
       " 'abb']"
      ]
     },
     "execution_count": 40,
     "metadata": {},
     "output_type": "execute_result"
    }
   ],
   "source": [
    "pat2.findall(demo_text)"
   ]
  },
  {
   "cell_type": "code",
   "execution_count": 41,
   "id": "26301bb9",
   "metadata": {},
   "outputs": [],
   "source": [
    "pat3 = re.compile(r\"dog\", re.I)"
   ]
  },
  {
   "cell_type": "code",
   "execution_count": 42,
   "id": "2aee54f1",
   "metadata": {},
   "outputs": [
    {
     "data": {
      "text/plain": [
       "['dog', 'dog', 'dog', 'Dog', 'dog', 'DOG', 'dog']"
      ]
     },
     "execution_count": 42,
     "metadata": {},
     "output_type": "execute_result"
    }
   ],
   "source": [
    "pat3.findall(demo_text)"
   ]
  },
  {
   "cell_type": "code",
   "execution_count": 43,
   "id": "1c4cee8f",
   "metadata": {},
   "outputs": [],
   "source": [
    "pat4 = re.compile(r\"dog\")"
   ]
  },
  {
   "cell_type": "code",
   "execution_count": 44,
   "id": "f6a42eeb",
   "metadata": {},
   "outputs": [
    {
     "data": {
      "text/plain": [
       "['dog', 'dog', 'dog', 'dog', 'dog']"
      ]
     },
     "execution_count": 44,
     "metadata": {},
     "output_type": "execute_result"
    }
   ],
   "source": [
    "pat4.findall(demo_text)"
   ]
  },
  {
   "cell_type": "code",
   "execution_count": 45,
   "id": "6334f302",
   "metadata": {},
   "outputs": [],
   "source": [
    "## text string for demo\n",
    "string = '''line 1 with more to follow.\n",
    "\n",
    "this is line 2\n",
    "\n",
    "LINE 3 has more...\n",
    "\n",
    "Text before line 4\n",
    "'''"
   ]
  },
  {
   "cell_type": "code",
   "execution_count": 46,
   "id": "ebf162da",
   "metadata": {},
   "outputs": [
    {
     "name": "stdout",
     "output_type": "stream",
     "text": [
      "line 1 with more to follow.\n",
      "\n",
      "this is line 2\n",
      "\n",
      "LINE 3 has more...\n",
      "\n",
      "Text before line 4\n",
      "\n"
     ]
    }
   ],
   "source": [
    "print(string)"
   ]
  },
  {
   "cell_type": "code",
   "execution_count": 47,
   "id": "065acf06",
   "metadata": {},
   "outputs": [
    {
     "data": {
      "text/plain": [
       "'line 1 with more to follow.\\n\\nthis is line 2\\n\\nLINE 3 has more...\\n\\nText before line 4\\n'"
      ]
     },
     "execution_count": 47,
     "metadata": {},
     "output_type": "execute_result"
    }
   ],
   "source": [
    "string"
   ]
  },
  {
   "cell_type": "code",
   "execution_count": 48,
   "id": "e31db0c7",
   "metadata": {},
   "outputs": [],
   "source": [
    "pat = re.compile(r\"line\\s\\d\")"
   ]
  },
  {
   "cell_type": "code",
   "execution_count": 49,
   "id": "87255090",
   "metadata": {},
   "outputs": [
    {
     "data": {
      "text/plain": [
       "['line 1', 'line 2', 'line 4']"
      ]
     },
     "execution_count": 49,
     "metadata": {},
     "output_type": "execute_result"
    }
   ],
   "source": [
    "pat.findall(string)"
   ]
  },
  {
   "cell_type": "code",
   "execution_count": 51,
   "id": "e92a3df0",
   "metadata": {},
   "outputs": [],
   "source": [
    "pat2 = re.compile(r\"^line\\s\\d\")"
   ]
  },
  {
   "cell_type": "code",
   "execution_count": 52,
   "id": "32afdb11",
   "metadata": {},
   "outputs": [
    {
     "data": {
      "text/plain": [
       "['line 1']"
      ]
     },
     "execution_count": 52,
     "metadata": {},
     "output_type": "execute_result"
    }
   ],
   "source": [
    "pat2.findall(string)"
   ]
  },
  {
   "cell_type": "code",
   "execution_count": 53,
   "id": "b1728846",
   "metadata": {},
   "outputs": [],
   "source": [
    "pat3 = re.compile(r\"line\\s\\d\", flags = re.I | re.M)"
   ]
  },
  {
   "cell_type": "code",
   "execution_count": 54,
   "id": "d4df6cf5",
   "metadata": {},
   "outputs": [
    {
     "data": {
      "text/plain": [
       "['line 1', 'line 2', 'LINE 3', 'line 4']"
      ]
     },
     "execution_count": 54,
     "metadata": {},
     "output_type": "execute_result"
    }
   ],
   "source": [
    "pat3.findall(string)"
   ]
  },
  {
   "cell_type": "code",
   "execution_count": 73,
   "id": "ceb537e6",
   "metadata": {},
   "outputs": [],
   "source": [
    "pat4 = re.compile(r\"line\\s\\d$\", flags = re.I | re.M)"
   ]
  },
  {
   "cell_type": "code",
   "execution_count": 74,
   "id": "918ee6c8",
   "metadata": {},
   "outputs": [
    {
     "data": {
      "text/plain": [
       "['line 2', 'line 4']"
      ]
     },
     "execution_count": 74,
     "metadata": {},
     "output_type": "execute_result"
    }
   ],
   "source": [
    "pat4.findall(string)"
   ]
  },
  {
   "cell_type": "code",
   "execution_count": 75,
   "id": "9bba03cf",
   "metadata": {},
   "outputs": [],
   "source": [
    "pat5 = re.compile(r\".*\")"
   ]
  },
  {
   "cell_type": "code",
   "execution_count": 76,
   "id": "5d7206c5",
   "metadata": {},
   "outputs": [
    {
     "data": {
      "text/plain": [
       "<regex.Match object; span=(0, 27), match='line 1 with more to follow.'>"
      ]
     },
     "execution_count": 76,
     "metadata": {},
     "output_type": "execute_result"
    }
   ],
   "source": [
    "pat5.search(string)"
   ]
  },
  {
   "cell_type": "code",
   "execution_count": 77,
   "id": "31f295e4",
   "metadata": {},
   "outputs": [],
   "source": [
    "pat6 = pat5 = re.compile(r\".*\", re.DOTALL)\n",
    "#get around new line charactor issues"
   ]
  },
  {
   "cell_type": "code",
   "execution_count": 78,
   "id": "acf7e4ff",
   "metadata": {},
   "outputs": [
    {
     "data": {
      "text/plain": [
       "<regex.Match object; span=(0, 84), match='line 1 with more to follow.\\n\\nthis is line 2\\n\\nLINE 3 has more...\\n\\nText before line 4\\n'>"
      ]
     },
     "execution_count": 78,
     "metadata": {},
     "output_type": "execute_result"
    }
   ],
   "source": [
    "pat6.search(string)"
   ]
  },
  {
   "cell_type": "code",
   "execution_count": 96,
   "id": "a178f732",
   "metadata": {},
   "outputs": [],
   "source": [
    "pat8 = re.compile(r\".*\", re.DOTALL)"
   ]
  },
  {
   "cell_type": "code",
   "execution_count": 97,
   "id": "bc24e4d6",
   "metadata": {},
   "outputs": [
    {
     "data": {
      "text/plain": [
       "<regex.Match object; span=(0, 84), match='line 1 with more to follow.\\n\\nthis is line 2\\n\\nLINE 3 has more...\\n\\nText before line 4\\n'>"
      ]
     },
     "execution_count": 97,
     "metadata": {},
     "output_type": "execute_result"
    }
   ],
   "source": [
    "pat8.search(string)"
   ]
  },
  {
   "cell_type": "code",
   "execution_count": 89,
   "id": "4ddb5401",
   "metadata": {},
   "outputs": [
    {
     "data": {
      "text/plain": [
       "[('cat', '3452 black'),\n",
       " ('dog', '234 white'),\n",
       " ('fish', '3562 silver'),\n",
       " ('rat', '94 white'),\n",
       " ('bird', '1957 purple'),\n",
       " ('horse', '3 black'),\n",
       " ('chameleon', '5724 green'),\n",
       " ('snake', '6730 red')]"
      ]
     },
     "execution_count": 89,
     "metadata": {},
     "output_type": "execute_result"
    }
   ],
   "source": [
    "animal_pat = re.compile(r\"^([a-z]+)\\s+(\\d{1,4}\\s\\w+)\", re.M)\n",
    "animal_data = animal_pat.findall(demo_text)\n",
    "animal_data"
   ]
  },
  {
   "cell_type": "code",
   "execution_count": 90,
   "id": "e22b1c9d",
   "metadata": {},
   "outputs": [
    {
     "data": {
      "text/plain": [
       "[('cat', '3452 black'),\n",
       " ('dog', '234 white'),\n",
       " ('fish', '3562 silver'),\n",
       " ('rat', '94 white'),\n",
       " ('bird', '1957 purple'),\n",
       " ('horse', '3 black'),\n",
       " ('chameleon', '5724 green'),\n",
       " ('snake', '6730 red')]"
      ]
     },
     "execution_count": 90,
     "metadata": {},
     "output_type": "execute_result"
    }
   ],
   "source": [
    "data = animal_pat.findall(demo_text)\n",
    "data"
   ]
  },
  {
   "cell_type": "code",
   "execution_count": 95,
   "id": "08c5dc48",
   "metadata": {},
   "outputs": [
    {
     "ename": "ValueError",
     "evalue": "Length mismatch: Expected axis has 2 elements, new values have 3 elements",
     "output_type": "error",
     "traceback": [
      "\u001b[0;31m---------------------------------------------------------------------------\u001b[0m",
      "\u001b[0;31mValueError\u001b[0m                                Traceback (most recent call last)",
      "Cell \u001b[0;32mIn[95], line 2\u001b[0m\n\u001b[1;32m      1\u001b[0m df \u001b[38;5;241m=\u001b[39m pd\u001b[38;5;241m.\u001b[39mDataFrame(data)\n\u001b[0;32m----> 2\u001b[0m df\u001b[38;5;241m.\u001b[39mcolumns \u001b[38;5;241m=\u001b[39m [\u001b[38;5;124m\"\u001b[39m\u001b[38;5;124mAnimals\u001b[39m\u001b[38;5;124m\"\u001b[39m, \u001b[38;5;124m\"\u001b[39m\u001b[38;5;124mQuantity\u001b[39m\u001b[38;5;124m\"\u001b[39m, \u001b[38;5;124m\"\u001b[39m\u001b[38;5;124mColor\u001b[39m\u001b[38;5;124m\"\u001b[39m]\n\u001b[1;32m      3\u001b[0m df\n",
      "File \u001b[0;32m~/anaconda3/lib/python3.11/site-packages/pandas/core/generic.py:6002\u001b[0m, in \u001b[0;36mNDFrame.__setattr__\u001b[0;34m(self, name, value)\u001b[0m\n\u001b[1;32m   6000\u001b[0m \u001b[38;5;28;01mtry\u001b[39;00m:\n\u001b[1;32m   6001\u001b[0m     \u001b[38;5;28mobject\u001b[39m\u001b[38;5;241m.\u001b[39m\u001b[38;5;21m__getattribute__\u001b[39m(\u001b[38;5;28mself\u001b[39m, name)\n\u001b[0;32m-> 6002\u001b[0m     \u001b[38;5;28;01mreturn\u001b[39;00m \u001b[38;5;28mobject\u001b[39m\u001b[38;5;241m.\u001b[39m\u001b[38;5;21m__setattr__\u001b[39m(\u001b[38;5;28mself\u001b[39m, name, value)\n\u001b[1;32m   6003\u001b[0m \u001b[38;5;28;01mexcept\u001b[39;00m \u001b[38;5;167;01mAttributeError\u001b[39;00m:\n\u001b[1;32m   6004\u001b[0m     \u001b[38;5;28;01mpass\u001b[39;00m\n",
      "File \u001b[0;32m~/anaconda3/lib/python3.11/site-packages/pandas/_libs/properties.pyx:69\u001b[0m, in \u001b[0;36mpandas._libs.properties.AxisProperty.__set__\u001b[0;34m()\u001b[0m\n",
      "File \u001b[0;32m~/anaconda3/lib/python3.11/site-packages/pandas/core/generic.py:730\u001b[0m, in \u001b[0;36mNDFrame._set_axis\u001b[0;34m(self, axis, labels)\u001b[0m\n\u001b[1;32m    725\u001b[0m \u001b[38;5;250m\u001b[39m\u001b[38;5;124;03m\"\"\"\u001b[39;00m\n\u001b[1;32m    726\u001b[0m \u001b[38;5;124;03mThis is called from the cython code when we set the `index` attribute\u001b[39;00m\n\u001b[1;32m    727\u001b[0m \u001b[38;5;124;03mdirectly, e.g. `series.index = [1, 2, 3]`.\u001b[39;00m\n\u001b[1;32m    728\u001b[0m \u001b[38;5;124;03m\"\"\"\u001b[39;00m\n\u001b[1;32m    729\u001b[0m labels \u001b[38;5;241m=\u001b[39m ensure_index(labels)\n\u001b[0;32m--> 730\u001b[0m \u001b[38;5;28mself\u001b[39m\u001b[38;5;241m.\u001b[39m_mgr\u001b[38;5;241m.\u001b[39mset_axis(axis, labels)\n\u001b[1;32m    731\u001b[0m \u001b[38;5;28mself\u001b[39m\u001b[38;5;241m.\u001b[39m_clear_item_cache()\n",
      "File \u001b[0;32m~/anaconda3/lib/python3.11/site-packages/pandas/core/internals/managers.py:225\u001b[0m, in \u001b[0;36mBaseBlockManager.set_axis\u001b[0;34m(self, axis, new_labels)\u001b[0m\n\u001b[1;32m    223\u001b[0m \u001b[38;5;28;01mdef\u001b[39;00m \u001b[38;5;21mset_axis\u001b[39m(\u001b[38;5;28mself\u001b[39m, axis: AxisInt, new_labels: Index) \u001b[38;5;241m-\u001b[39m\u001b[38;5;241m>\u001b[39m \u001b[38;5;28;01mNone\u001b[39;00m:\n\u001b[1;32m    224\u001b[0m     \u001b[38;5;66;03m# Caller is responsible for ensuring we have an Index object.\u001b[39;00m\n\u001b[0;32m--> 225\u001b[0m     \u001b[38;5;28mself\u001b[39m\u001b[38;5;241m.\u001b[39m_validate_set_axis(axis, new_labels)\n\u001b[1;32m    226\u001b[0m     \u001b[38;5;28mself\u001b[39m\u001b[38;5;241m.\u001b[39maxes[axis] \u001b[38;5;241m=\u001b[39m new_labels\n",
      "File \u001b[0;32m~/anaconda3/lib/python3.11/site-packages/pandas/core/internals/base.py:70\u001b[0m, in \u001b[0;36mDataManager._validate_set_axis\u001b[0;34m(self, axis, new_labels)\u001b[0m\n\u001b[1;32m     67\u001b[0m     \u001b[38;5;28;01mpass\u001b[39;00m\n\u001b[1;32m     69\u001b[0m \u001b[38;5;28;01melif\u001b[39;00m new_len \u001b[38;5;241m!=\u001b[39m old_len:\n\u001b[0;32m---> 70\u001b[0m     \u001b[38;5;28;01mraise\u001b[39;00m \u001b[38;5;167;01mValueError\u001b[39;00m(\n\u001b[1;32m     71\u001b[0m         \u001b[38;5;124mf\u001b[39m\u001b[38;5;124m\"\u001b[39m\u001b[38;5;124mLength mismatch: Expected axis has \u001b[39m\u001b[38;5;132;01m{\u001b[39;00mold_len\u001b[38;5;132;01m}\u001b[39;00m\u001b[38;5;124m elements, new \u001b[39m\u001b[38;5;124m\"\u001b[39m\n\u001b[1;32m     72\u001b[0m         \u001b[38;5;124mf\u001b[39m\u001b[38;5;124m\"\u001b[39m\u001b[38;5;124mvalues have \u001b[39m\u001b[38;5;132;01m{\u001b[39;00mnew_len\u001b[38;5;132;01m}\u001b[39;00m\u001b[38;5;124m elements\u001b[39m\u001b[38;5;124m\"\u001b[39m\n\u001b[1;32m     73\u001b[0m     )\n",
      "\u001b[0;31mValueError\u001b[0m: Length mismatch: Expected axis has 2 elements, new values have 3 elements"
     ]
    }
   ],
   "source": [
    "df = pd.DataFrame(data)\n",
    "df.columns = [\"Animals\", \"Quantity\", \"Color\"]\n",
    "df"
   ]
  },
  {
   "cell_type": "code",
   "execution_count": null,
   "id": "91b3d7a9",
   "metadata": {},
   "outputs": [],
   "source": []
  },
  {
   "cell_type": "code",
   "execution_count": null,
   "id": "05da917d",
   "metadata": {},
   "outputs": [],
   "source": []
  },
  {
   "cell_type": "markdown",
   "id": "5235f8b6",
   "metadata": {},
   "source": [
    "# Class Challenge"
   ]
  },
  {
   "cell_type": "markdown",
   "id": "41d655ce",
   "metadata": {},
   "source": [
    "## Confession Judgments\n",
    "\n",
    "Read <a href=\"https://drive.google.com/file/d/1nZ6GMwQKuQEQ2zKftkod4oHh-RqxfwXB/view?usp=sharing\">confesssion judgment excerpts</a> and place into a dataframe with column labels:\n",
    "\n",
    "- case number\n",
    "- date received\n",
    "- total repayment amount"
   ]
  },
  {
   "cell_type": "code",
   "execution_count": 99,
   "id": "d8fcd358",
   "metadata": {},
   "outputs": [],
   "source": [
    "pat_case = re.compile(r\"INDEX\\sNO\\.\\s(\\d+\\/\\d+)\", re.I)\n",
    "pat_date = re.compile(r\"NYSCEF:\\s\\d{2}\\/\\d{2}\\/\\d{4}\", re.I)\n",
    "pat_repay_total = re.compile(r\"\\(\\$(\\d{1,3}(?:,?\\d{3})*\\.\\d{2})\\)\\W? within\", re.I)"
   ]
  },
  {
   "cell_type": "code",
   "execution_count": 107,
   "id": "78a56bcf",
   "metadata": {},
   "outputs": [
    {
     "data": {
      "text/plain": [
       "'FILE_Info: conversion_img/811678_2020_Marie_A_Cannon_Commi_v_Marie_A_Cannon_Commi_CONFESSION_OF_JUDGM_1_page_1.jpg \\n\\n\\n              FILED: ERIE COUNTY CLERK 08/03/2020 02:27 PM INDEX NO. 811678/2020\\n\\nNYSCEF DOC. NO. 1 RECEIVED NYSCEF: 08/03/2020\\n\\nSTATE OF NEW YORK\\nSUPREME COURT: COUNTY OF ERIE\\n\\nAL Dirschberger PhD, as Acting Commissioner of\\nErie County Department of Social Services\\n\\nPLAINTIFF Affidavit of Confession of Judgment\\nOliveras, Ana\\nVS Index No.\\n\\nDEFENDANT\\nSID 6301\\n\\nSTATE OF NEW YORK |\\nCOUNTY OF ERIE ] SS:\\nCITY OF BUFFALO]\\n\\nThe Deponent being duly sworn, deposes and says:\\n1. I am the defendant in the above entitled action.\\n\\n2. [reside at 78 Elgas Street (upper), Burraco 14207, County of Ene, State of New York. I authorize entry of\\njudgment in Erie County, State of New York if my residence is not in New York State.\\n\\n3. confess judgment in this court, in favor of the plaintiff and against the defendant in the sum of Two\\nThousand One Hundred Doilars and 00/100 ($2100.00), and hereby authorize the plaintiff or her assigns to\\nenter judgment for that sum against me plus court costs and interest.\\n\\n4. This confession of judgment is for a debt to become justly due to the plaintiff arising out of the following\\nfacts:\\n\\nI applied to the Erie County Department of Social Services (ECDSS) for assistance to pay either rent\\narrears, property taxes or mortgage arrears. In accordance with Section 131-w of New York State\\nSocial Services Law (SSL) I was required to sign a repayment agreement on September 12, 2017, to\\nrepay assistance in the amount of Two Thousand One Hundred Dollars and 00/100 ($2100.00), within\\ntwelve months. I will repay the assistance in full, in equal installments One Hundred Seventy Five and\\n67/100 Dollars ($175.00) per month by September 31, 2018. The first installment is due on October 1,\\n2017. The ECDSS is permitted by Section 131-w of the SSL to enforce the repayment agreement by\\nany legal method available to a creditor.\\n\\n5. As of the date I signed this, I have no income or resources that I have not reported to ECDSS.\\n\\nAra R buceens\\n\\nAna Oliveras\\n\\nSworn to before me this\\nJZ. _ day of Super be , 2017\\n\\nK\\nSomaly Pagan\\nCOMMISIONER OF DEEDS\\nIn and for the City of Buffalo, Ene County NY\\nMy Commission Expires December 31, 2018\\n\\n1 of 1\\n\\n\\n\\nFILE_Info: conversion_img/813094_2020_Marie_A_Cannon_Commi_v_Marie_A_Cannon_Commi_CONFESSION_OF_JUDGM_1_page_1.jpg \\n\\n\\n              FILED: ERIE COUNTY CLERK 09/16/2020 03:11 PM INDEX NO. 813094/2020\\n\\nNYSCEF DOC. NO. 1 RECEIVED NYSCEF: 10/15/2020\\n\\nSTATE OF NEW YORK\\nSUPREME COURT: COUNTY OF ERIE\\n\\nAl Dirschberger PhD, as Commissioner of\\nErie County Department of Social Services\\n\\nPLAINTIFF Affidavit of Confession of Judgment\\nVv Index No.\\nScott Herberger\\nDEFENDANT\\n# 2647\\n\\nSTATE OF NEW YORK |\\nCOUNTY OF ERIB ] SS:\\nCITY OF BUFFALO\\n\\nThe Depondent being duly sworn, deposes and says:\\n1. Iam the defendant in the above entitled action.\\n\\n2. Ireside at 16 Brady Ave, Upper, Lancaster, County of Erie, State of New York. I authorize entry of\\njudgment in Erie County, State of New York if my residence is not in New York State.\\n\\n3. I confess judgment in this court, in favor of the plaintiff and against the defendant in the sum of Two\\nHundred Fourteen and 59/100 Dollars ($214.59) and hereby authorize the plaintiff or her assigns to enter\\njudgment for that sum against me plus court costs and interest.\\n\\n4, This confession of judgment is for a debt to become justly due to the plaintiff arising out of the following\\nfacts:\\n\\n| applied to the Erie County Department of Social Services (ECDSS) for assistance to pay any gas\\ncorporation, electric corporation or municipality to prevent utility shut-off or to restore utility service.\\nIn accordance with Section 131-s of New York State Social Services Law (SSL) I was required to sign\\na repayment agreement on November 6, 2017, to repay assistance in the amount of Two Hundred\\nFourteen and 59/100 Dollars ($214.59) within twenty-four months. I will repay the assistance in full,\\nin equal installments of Elght and 94/100 Dollars ($8.94) per month by December 31, 2019. The first\\ninstallment is due on January 1, 2018. The ECDSS is permitted by Section 131-s of the SSL to enforce\\nthe repayment agreement by any legal method available to a creditor.\\n\\n5. As of the date I signed this, | have no income or resources that I have not reported to ECDSS.\\n\\nScott Herbefger\\n\\nSworn to before mg this ,\\nday of Tplembe , 2017\\n\\nDawn M. Piatkowski\\n\\nCOMMISSIONER OF DEEDS\\n\\nIn and for the City of Buffalo, County of Erie, NY\\nMy Commission Expires December 31, 2018\\n\\n1 of 1\\n\\n\\n\\nFILE_Info: conversion_img/812560_2020_Erie_County_Department_v_Erie_County_Department_CONFESSION_OF_JUDGM_1_page_1.jpg \\n\\n\\n              FILED: ERIE COUNTY CLERK 01/28/2020 12:02 PM INDEX NO. 801263/2020\\n\\nNYSCEF DOC. NO. 1 ‘ RECEIVED NYSCEF: 01/28/2020\\n\\nSTATE OF NEW YORK\\nSUPREME COURT: COUNTY OF ERIE\\n\\nAL DIRSCHBERGER PH D, Commissioner of\\nErie County Department of Social Services\\n\\nPLAINTIFF Affidavit of Confession of Judgment\\nVv Index No\\nMarnita Peterson\\nDEFENDANT\\nSID 8452\\n\\nSTATE OF NEW YORK ]\\nCOUNTY OF ERIE ] SS:\\nCITY OF BUFFALO ]\\n\\nThe Deponent being duly sworn, deposes and says:\\n1. Iam the defendant in the above entitled action.\\n\\n2. I[reside at 147-A Langfield, Buffalo, County of Erie, State of New York. I authorize entry of judgment in\\nErie County, State of New York if my residence is not in New York State.\\n\\n3. I confess judgment in this court, in favor of the plaintiff and against the defendant in the sum of Eight\\nHundred Sixty-Two and 00/100 Dollars ($862.00) and hereby authorize the plaintiff or his assigns to enter\\njudgment for that sum against me plus court costs and interest.\\n\\n4. This confession of judgment is for a debt to become justly due to the plaintiff arising out of the following\\nfacts:\\n\\nI applied to the Erie County Department of Social Services (ECDSS) for assistance to pay either rent\\narrears, property taxes or mortgage arrears. In accordance with Section 131-w of New York State\\nSocial Services Law (SSL) I was required to sign a repayment agreement on February 15, 2017, to\\nrepay assistance in the amount of Eight Hundred Sixty-Two and 00/100 Dollars ($862.00) within\\ntwelve months. I will repay the assistance in full, in equal installments of Seventy-One and 83/100\\nDollars ($71.83) per month by March 31, 2018. The first installment is due on April 1, 2017. The\\nECDSS is permitted by Section 131-w of the SSL to enforce the repayment agreement by any legal\\nmethod available to a creditor.\\n\\n5. As of the date I signed this, I have no income or resources that I have not reported to ECDSS.\\nae a\\na. Chet ee.\\n\\nMarnita Peterson\\n\\nSworn to before me this\\n\\n_1§ day of Libre , 2017\\n\\nDawn M Piatkowski\\n\\nCOMMISSIONER OF DEEDS\\n\\nIn and for the City of Buffalo, Erie County NY\\nMy Commission Expires December 31, 2018\\n\\n1 of 1'"
      ]
     },
     "execution_count": 107,
     "metadata": {},
     "output_type": "execute_result"
    }
   ],
   "source": [
    "with open(\"confession-judgments.txt\", \"r\") as text_obj:\n",
    "    confessions_text = text_obj.read()\n",
    "    \n",
    "confessions_text"
   ]
  },
  {
   "cell_type": "code",
   "execution_count": 108,
   "id": "3e5a2e6e",
   "metadata": {},
   "outputs": [
    {
     "data": {
      "text/plain": [
       "4"
      ]
     },
     "execution_count": 108,
     "metadata": {},
     "output_type": "execute_result"
    }
   ],
   "source": [
    "cases = re.split(r\"FILE_Info: conversion_\", confessions_text, re.DOTALL)\n",
    "len(cases)"
   ]
  },
  {
   "cell_type": "code",
   "execution_count": 110,
   "id": "3b9c6467",
   "metadata": {},
   "outputs": [
    {
     "data": {
      "text/plain": [
       "[{'case': '811678/2020',\n",
       "  'date_receive': 'NYSCEF: 08/03/2020',\n",
       "  'total_due': '2100.00'},\n",
       " {'case': '813094/2020',\n",
       "  'date_receive': 'NYSCEF: 10/15/2020',\n",
       "  'total_due': '214.59'},\n",
       " {'case': '801263/2020',\n",
       "  'date_receive': 'NYSCEF: 01/28/2020',\n",
       "  'total_due': '862.00'}]"
      ]
     },
     "execution_count": 110,
     "metadata": {},
     "output_type": "execute_result"
    }
   ],
   "source": [
    "judgments_list = []\n",
    "\n",
    "for case in cases:\n",
    "    if pat_case.search(case) != None: #search only finds first instance\n",
    "        case_no = pat_case.findall(case)[0]\n",
    "        date_received = pat_date.findall(case)[0]\n",
    "        total_due = pat_repay_total.findall(case)[0]\n",
    "        \n",
    "        judgments_list.append({\"case\": case_no,\n",
    "                               \"date_receive\": date_received,\n",
    "                               \"total_due\": total_due})\n",
    "        \n",
    "judgments_list"
   ]
  },
  {
   "cell_type": "code",
   "execution_count": null,
   "id": "19b1e31e",
   "metadata": {},
   "outputs": [],
   "source": []
  }
 ],
 "metadata": {
  "kernelspec": {
   "display_name": "Python 3 (ipykernel)",
   "language": "python",
   "name": "python3"
  },
  "language_info": {
   "codemirror_mode": {
    "name": "ipython",
    "version": 3
   },
   "file_extension": ".py",
   "mimetype": "text/x-python",
   "name": "python",
   "nbconvert_exporter": "python",
   "pygments_lexer": "ipython3",
   "version": "3.11.5"
  }
 },
 "nbformat": 4,
 "nbformat_minor": 5
}
