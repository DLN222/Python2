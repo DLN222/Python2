{
 "cells": [
  {
   "cell_type": "code",
   "execution_count": 5,
   "id": "e3b7f466",
   "metadata": {},
   "outputs": [
    {
     "name": "stdout",
     "output_type": "stream",
     "text": [
      "\u001b[33mDEPRECATION: Loading egg at /Users/GSB/anaconda3/lib/python3.11/site-packages/dlib-19.24.99-py3.11-macosx-10.9-x86_64.egg is deprecated. pip 23.3 will enforce this behaviour change. A possible replacement is to use pip for package installation..\u001b[0m\u001b[33m\n",
      "\u001b[0mNote: you may need to restart the kernel to use updated packages.\n"
     ]
    }
   ],
   "source": [
    "pip install -q tabula-py"
   ]
  },
  {
   "cell_type": "code",
   "execution_count": 2,
   "id": "797e9537",
   "metadata": {},
   "outputs": [
    {
     "name": "stdout",
     "output_type": "stream",
     "text": [
      "\u001b[33mDEPRECATION: Loading egg at /Users/GSB/anaconda3/lib/python3.11/site-packages/dlib-19.24.99-py3.11-macosx-10.9-x86_64.egg is deprecated. pip 23.3 will enforce this behaviour change. A possible replacement is to use pip for package installation..\u001b[0m\u001b[33m\n",
      "\u001b[0mRequirement already satisfied: PyPDF2 in /Users/GSB/anaconda3/lib/python3.11/site-packages (3.0.1)\n",
      "Note: you may need to restart the kernel to use updated packages.\n"
     ]
    }
   ],
   "source": [
    " pip install PyPDF2"
   ]
  },
  {
   "cell_type": "code",
   "execution_count": 3,
   "id": "d9aac26d",
   "metadata": {},
   "outputs": [
    {
     "name": "stdout",
     "output_type": "stream",
     "text": [
      "\u001b[33mDEPRECATION: Loading egg at /Users/GSB/anaconda3/lib/python3.11/site-packages/dlib-19.24.99-py3.11-macosx-10.9-x86_64.egg is deprecated. pip 23.3 will enforce this behaviour change. A possible replacement is to use pip for package installation..\u001b[0m\u001b[33m\n",
      "\u001b[0mRequirement already satisfied: pymupdf4llm in /Users/GSB/anaconda3/lib/python3.11/site-packages (0.0.17)\n",
      "Requirement already satisfied: pymupdf>=1.24.10 in /Users/GSB/anaconda3/lib/python3.11/site-packages (from pymupdf4llm) (1.24.14)\n",
      "Note: you may need to restart the kernel to use updated packages.\n"
     ]
    }
   ],
   "source": [
    "pip install pymupdf4llm"
   ]
  },
  {
   "cell_type": "code",
   "execution_count": 4,
   "id": "520a708d",
   "metadata": {},
   "outputs": [
    {
     "name": "stdout",
     "output_type": "stream",
     "text": [
      "\u001b[33mDEPRECATION: Loading egg at /Users/GSB/anaconda3/lib/python3.11/site-packages/dlib-19.24.99-py3.11-macosx-10.9-x86_64.egg is deprecated. pip 23.3 will enforce this behaviour change. A possible replacement is to use pip for package installation..\u001b[0m\u001b[33m\n",
      "\u001b[0mRequirement already satisfied: mangoCR in /Users/GSB/anaconda3/lib/python3.11/site-packages (0.1.4)\n",
      "Requirement already satisfied: pymupdf in /Users/GSB/anaconda3/lib/python3.11/site-packages (from mangoCR) (1.24.14)\n",
      "Requirement already satisfied: pytesseract in /Users/GSB/anaconda3/lib/python3.11/site-packages (from mangoCR) (0.3.13)\n",
      "Requirement already satisfied: Pillow in /Users/GSB/anaconda3/lib/python3.11/site-packages (from mangoCR) (9.4.0)\n",
      "Requirement already satisfied: packaging>=21.3 in /Users/GSB/anaconda3/lib/python3.11/site-packages (from pytesseract->mangoCR) (23.1)\n",
      "Note: you may need to restart the kernel to use updated packages.\n"
     ]
    }
   ],
   "source": [
    "pip install mangoCR"
   ]
  },
  {
   "cell_type": "code",
   "execution_count": 5,
   "id": "746bf004",
   "metadata": {},
   "outputs": [
    {
     "name": "stdout",
     "output_type": "stream",
     "text": [
      "Python version:\n",
      "    3.11.5 (main, Sep 11 2023, 08:19:27) [Clang 14.0.6 ]\n",
      "Java version:\n",
      "    java version \"23.0.1\" 2024-10-15\n",
      "Java(TM) SE Runtime Environment (build 23.0.1+11-39)\n",
      "Java HotSpot(TM) 64-Bit Server VM (build 23.0.1+11-39, mixed mode, sharing)\n",
      "tabula-py version: 2.10.0\n",
      "platform: macOS-10.16-x86_64-i386-64bit\n",
      "uname:\n",
      "    uname_result(system='Darwin', node='gabriellas-MacBook.local', release='22.6.0', version='Darwin Kernel Version 22.6.0: Thu Sep  5 20:48:48 PDT 2024; root:xnu-8796.141.3.708.1~1/RELEASE_X86_64', machine='x86_64')\n",
      "linux_distribution: ('Darwin', '22.6.0', '')\n",
      "mac_ver: ('10.16', ('', '', ''), 'x86_64')\n"
     ]
    }
   ],
   "source": [
    "import pandas as pd ## pandas to work with data\n",
    "import glob\n",
    "import tabula\n",
    "tabula.environment_info() ## not need always ## check it's versioning\n",
    "import glob\n",
    "import PyPDF2\n",
    "import pymupdf4llm\n",
    "from mangoCR import pdf2image_ocr"
   ]
  },
  {
   "cell_type": "code",
   "execution_count": 6,
   "id": "1054a0f0",
   "metadata": {},
   "outputs": [
    {
     "name": "stdout",
     "output_type": "stream",
     "text": [
      "\u001b[34m==>\u001b[0m \u001b[1mDownloading https://formulae.brew.sh/api/formula.jws.json\u001b[0m\n",
      "######################################################################### 100.0%\n",
      "\u001b[34m==>\u001b[0m \u001b[1mDownloading https://formulae.brew.sh/api/cask.jws.json\u001b[0m\n",
      "######################################################################### 100.0%\n",
      "\u001b[33mWarning:\u001b[0m tesseract 5.5.0 is already installed and up-to-date.\n",
      "To reinstall 5.5.0, run:\n",
      "  brew reinstall tesseract\n"
     ]
    }
   ],
   "source": [
    "!brew install tesseract"
   ]
  },
  {
   "cell_type": "code",
   "execution_count": null,
   "id": "37561784",
   "metadata": {},
   "outputs": [],
   "source": []
  },
  {
   "cell_type": "code",
   "execution_count": 7,
   "id": "a8eee757",
   "metadata": {},
   "outputs": [],
   "source": [
    "import warnings\n",
    "\n",
    "\n",
    "warnings.filterwarnings(\"ignore\", category=FutureWarning, message=\".*errors='ignore' is deprecated.*\")\n"
   ]
  },
  {
   "cell_type": "code",
   "execution_count": 8,
   "id": "58f4ad3c",
   "metadata": {
    "scrolled": true
   },
   "outputs": [
    {
     "data": {
      "text/plain": [
       "['Originals-Court Documents/2023033_Warrant.pdf',\n",
       " 'Originals-Court Documents/20240208_Labrew_Takes_Over.pdf',\n",
       " 'Originals-Court Documents/20230223_FELICIA A. MENNIN_responce to evidence request.pdf',\n",
       " 'Originals-Court Documents/20240210_Labrew_takes over.pdf',\n",
       " 'Originals-Court Documents/Steven McEnaney, Ind, 70297-22 COURT APPEARANCES.pdf',\n",
       " 'Originals-Court Documents/20230413_Discovery_List.pdf',\n",
       " 'Originals-Court Documents/20230124_Southard-request-evidence-omni_bus.pdf',\n",
       " 'Originals-Court Documents/20231012_Richard Southard-protective order and WOA.pdf',\n",
       " 'Originals-Court Documents/20230206_DA_Response to Grand Jury request.pdf',\n",
       " 'Originals-Court Documents/20230124_Southard_Discovery_Request.pdf',\n",
       " 'Originals-Court Documents/20240215_LaBrew_Withdraw_Guilty_Plea-Probation_Interview.pdf',\n",
       " 'Originals-Court Documents/20230124-230131_Southard_Discovery_Request.pdf']"
      ]
     },
     "execution_count": 8,
     "metadata": {},
     "output_type": "execute_result"
    }
   ],
   "source": [
    "pdf_files = glob.glob(\"Originals-Court Documents/*.pdf\")\n",
    "pdf_files"
   ]
  },
  {
   "cell_type": "code",
   "execution_count": 9,
   "id": "47251c48",
   "metadata": {
    "scrolled": true
   },
   "outputs": [],
   "source": [
    "#shape.pdf_files[1]"
   ]
  },
  {
   "cell_type": "code",
   "execution_count": 10,
   "id": "50116b96",
   "metadata": {},
   "outputs": [
    {
     "name": "stdout",
     "output_type": "stream",
     "text": [
      "<class '_io.TextIOWrapper'>\n"
     ]
    }
   ],
   "source": [
    "with open(pdf_files[0], \"r\") as sm_text:\n",
    "    print(type(sm_text))"
   ]
  },
  {
   "cell_type": "code",
   "execution_count": 11,
   "id": "786268d1",
   "metadata": {},
   "outputs": [
    {
     "name": "stdout",
     "output_type": "stream",
     "text": [
      "Processing PDF 1 of 1: 2023033_Warrant.pdf\n",
      "  - Processed page 1 of 23 in 2023033_Warrant.pdf\n",
      "  - Processed page 2 of 23 in 2023033_Warrant.pdf\n",
      "  - Processed page 3 of 23 in 2023033_Warrant.pdf\n",
      "  - Processed page 4 of 23 in 2023033_Warrant.pdf\n",
      "  - Processed page 5 of 23 in 2023033_Warrant.pdf\n",
      "  - Processed page 6 of 23 in 2023033_Warrant.pdf\n",
      "  - Processed page 7 of 23 in 2023033_Warrant.pdf\n",
      "  - Processed page 8 of 23 in 2023033_Warrant.pdf\n",
      "  - Processed page 9 of 23 in 2023033_Warrant.pdf\n",
      "  - Processed page 10 of 23 in 2023033_Warrant.pdf\n",
      "  - Processed page 11 of 23 in 2023033_Warrant.pdf\n",
      "  - Processed page 12 of 23 in 2023033_Warrant.pdf\n",
      "  - Processed page 13 of 23 in 2023033_Warrant.pdf\n",
      "  - Processed page 14 of 23 in 2023033_Warrant.pdf\n",
      "  - Processed page 15 of 23 in 2023033_Warrant.pdf\n",
      "  - Processed page 16 of 23 in 2023033_Warrant.pdf\n",
      "  - Processed page 17 of 23 in 2023033_Warrant.pdf\n",
      "  - Processed page 18 of 23 in 2023033_Warrant.pdf\n",
      "  - Processed page 19 of 23 in 2023033_Warrant.pdf\n",
      "  - Processed page 20 of 23 in 2023033_Warrant.pdf\n",
      "  - Processed page 21 of 23 in 2023033_Warrant.pdf\n",
      "  - Processed page 22 of 23 in 2023033_Warrant.pdf\n",
      "  - Processed page 23 of 23 in 2023033_Warrant.pdf\n",
      "Finished processing 2023033_Warrant.pdf\n",
      "\n",
      "OCR results have been saved to ocr_results.md\n"
     ]
    }
   ],
   "source": [
    "sm_file1 =pdf2image_ocr(\"Originals-Court Documents/2023033_Warrant.pdf\")\n",
    "sm_file1"
   ]
  },
  {
   "cell_type": "code",
   "execution_count": 12,
   "id": "0708c4a4",
   "metadata": {},
   "outputs": [
    {
     "name": "stdout",
     "output_type": "stream",
     "text": [
      "Processing PDF 1 of 1: 2023033_Warrant.pdf\n",
      "  - Processed page 1 of 23 in 2023033_Warrant.pdf\n",
      "  - Processed page 2 of 23 in 2023033_Warrant.pdf\n",
      "  - Processed page 3 of 23 in 2023033_Warrant.pdf\n",
      "  - Processed page 4 of 23 in 2023033_Warrant.pdf\n",
      "  - Processed page 5 of 23 in 2023033_Warrant.pdf\n",
      "  - Processed page 6 of 23 in 2023033_Warrant.pdf\n",
      "  - Processed page 7 of 23 in 2023033_Warrant.pdf\n",
      "  - Processed page 8 of 23 in 2023033_Warrant.pdf\n",
      "  - Processed page 9 of 23 in 2023033_Warrant.pdf\n",
      "  - Processed page 10 of 23 in 2023033_Warrant.pdf\n",
      "  - Processed page 11 of 23 in 2023033_Warrant.pdf\n",
      "  - Processed page 12 of 23 in 2023033_Warrant.pdf\n",
      "  - Processed page 13 of 23 in 2023033_Warrant.pdf\n",
      "  - Processed page 14 of 23 in 2023033_Warrant.pdf\n",
      "  - Processed page 15 of 23 in 2023033_Warrant.pdf\n",
      "  - Processed page 16 of 23 in 2023033_Warrant.pdf\n",
      "  - Processed page 17 of 23 in 2023033_Warrant.pdf\n",
      "  - Processed page 18 of 23 in 2023033_Warrant.pdf\n",
      "  - Processed page 19 of 23 in 2023033_Warrant.pdf\n",
      "  - Processed page 20 of 23 in 2023033_Warrant.pdf\n",
      "  - Processed page 21 of 23 in 2023033_Warrant.pdf\n",
      "  - Processed page 22 of 23 in 2023033_Warrant.pdf\n",
      "  - Processed page 23 of 23 in 2023033_Warrant.pdf\n",
      "Finished processing 2023033_Warrant.pdf\n",
      "\n",
      "OCR results have been saved to sm1.pdf\n"
     ]
    }
   ],
   "source": [
    "pdf2image_ocr(\"Originals-Court Documents/2023033_Warrant.pdf\", output_file=\"sm1.pdf\")"
   ]
  },
  {
   "cell_type": "code",
   "execution_count": 4,
   "id": "ca2f8709",
   "metadata": {},
   "outputs": [
    {
     "ename": "NameError",
     "evalue": "name 'glob' is not defined",
     "output_type": "error",
     "traceback": [
      "\u001b[0;31m---------------------------------------------------------------------------\u001b[0m",
      "\u001b[0;31mNameError\u001b[0m                                 Traceback (most recent call last)",
      "Cell \u001b[0;32mIn[4], line 1\u001b[0m\n\u001b[0;32m----> 1\u001b[0m warrant \u001b[38;5;241m=\u001b[39m glob\u001b[38;5;241m.\u001b[39mglob(\u001b[38;5;124m\"\u001b[39m\u001b[38;5;124msm1.pdf\u001b[39m\u001b[38;5;124m\"\u001b[39m)\n\u001b[1;32m      2\u001b[0m warrant\n",
      "\u001b[0;31mNameError\u001b[0m: name 'glob' is not defined"
     ]
    }
   ],
   "source": [
    "warrant = glob.glob(\"sm1.pdf\")\n",
    "warrant"
   ]
  },
  {
   "cell_type": "code",
   "execution_count": 14,
   "id": "115ea6c8",
   "metadata": {},
   "outputs": [
    {
     "name": "stdout",
     "output_type": "stream",
     "text": [
      "<class '_io.TextIOWrapper'>\n"
     ]
    }
   ],
   "source": [
    "with open(\"sm1.pdf\", \"r\") as my_text:\n",
    "    print(type(my_text))"
   ]
  },
  {
   "cell_type": "code",
   "execution_count": 3,
   "id": "db38a3df",
   "metadata": {},
   "outputs": [
    {
     "ename": "NameError",
     "evalue": "name 'warrant' is not defined",
     "output_type": "error",
     "traceback": [
      "\u001b[0;31m---------------------------------------------------------------------------\u001b[0m",
      "\u001b[0;31mNameError\u001b[0m                                 Traceback (most recent call last)",
      "Cell \u001b[0;32mIn[3], line 1\u001b[0m\n\u001b[0;32m----> 1\u001b[0m \u001b[38;5;28;01mwith\u001b[39;00m \u001b[38;5;28mopen\u001b[39m(warrant[\u001b[38;5;241m0\u001b[39m], \u001b[38;5;124m\"\u001b[39m\u001b[38;5;124mr\u001b[39m\u001b[38;5;124m\"\u001b[39m) \u001b[38;5;28;01mas\u001b[39;00m my_text:\n\u001b[1;32m      2\u001b[0m     \u001b[38;5;28mprint\u001b[39m(my_text\u001b[38;5;241m.\u001b[39mread())\n",
      "\u001b[0;31mNameError\u001b[0m: name 'warrant' is not defined"
     ]
    }
   ],
   "source": [
    "with open(warrant[0], \"r\") as my_text:\n",
    "    print(my_text.read())"
   ]
  },
  {
   "cell_type": "code",
   "execution_count": 2,
   "id": "280d9fc6",
   "metadata": {},
   "outputs": [
    {
     "ename": "NameError",
     "evalue": "name 'my_text' is not defined",
     "output_type": "error",
     "traceback": [
      "\u001b[0;31m---------------------------------------------------------------------------\u001b[0m",
      "\u001b[0;31mNameError\u001b[0m                                 Traceback (most recent call last)",
      "Cell \u001b[0;32mIn[2], line 1\u001b[0m\n\u001b[0;32m----> 1\u001b[0m my_text\u001b[38;5;241m.\u001b[39mfind_all(\u001b[38;5;124m\"\u001b[39m\u001b[38;5;124m\"\u001b[39m\u001b[38;5;241m.\u001b[39mcom)\n",
      "\u001b[0;31mNameError\u001b[0m: name 'my_text' is not defined"
     ]
    }
   ],
   "source": [
    "my_text.find_all(\"\".com)"
   ]
  },
  {
   "cell_type": "code",
   "execution_count": null,
   "id": "bc9f7961",
   "metadata": {},
   "outputs": [],
   "source": [
    "sm_file2 =pdf2image_ocr(\"Originals-Court Documents/20240208_Labrew_Takes_Over.pdf\")\n",
    "sm_file2\n",
    "\n",
    "!tesseract --list-langs"
   ]
  },
  {
   "cell_type": "code",
   "execution_count": null,
   "id": "a06a04cd",
   "metadata": {},
   "outputs": [],
   "source": [
    "print(sm_file1)"
   ]
  },
  {
   "cell_type": "code",
   "execution_count": null,
   "id": "7804bf77",
   "metadata": {},
   "outputs": [],
   "source": [
    "pdf_file5 = \\\n",
    "pymupdf4llm.to_markdown(\"Originals-Court Documents/2023033_Warrant.pdf\", pages=[4])\n",
    "pdf_file5"
   ]
  },
  {
   "cell_type": "code",
   "execution_count": null,
   "id": "b20d1e7e",
   "metadata": {},
   "outputs": [],
   "source": [
    "#pdf2image_ocr(\"document.pdf\", output_file=\"custom_output.md\")"
   ]
  },
  {
   "cell_type": "code",
   "execution_count": null,
   "id": "c2408f31",
   "metadata": {},
   "outputs": [],
   "source": [
    "for f in pdf_files:\n",
    "    md_file_name = f.rstrip(\".pdf\")+ \".md\"\n",
    "    pdf2image_ocr(f, output_file = md_file_name)"
   ]
  },
  {
   "cell_type": "code",
   "execution_count": 19,
   "id": "c6ab3fe2",
   "metadata": {},
   "outputs": [
    {
     "data": {
      "text/plain": [
       "['Originals-Court Documents/2023033_Warrant.pdf',\n",
       " 'Originals-Court Documents/20240208_Labrew_Takes_Over.pdf',\n",
       " 'Originals-Court Documents/20230223_FELICIA A. MENNIN_responce to evidence request.pdf',\n",
       " 'Originals-Court Documents/20240210_Labrew_takes over.pdf',\n",
       " 'Originals-Court Documents/Steven McEnaney, Ind, 70297-22 COURT APPEARANCES.pdf',\n",
       " 'Originals-Court Documents/20230413_Discovery_List.pdf',\n",
       " 'Originals-Court Documents/20230124_Southard-request-evidence-omni_bus.pdf',\n",
       " 'Originals-Court Documents/20231012_Richard Southard-protective order and WOA.pdf',\n",
       " 'Originals-Court Documents/20230206_DA_Response to Grand Jury request.pdf',\n",
       " 'Originals-Court Documents/20230124_Southard_Discovery_Request.pdf',\n",
       " 'Originals-Court Documents/20240215_LaBrew_Withdraw_Guilty_Plea-Probation_Interview.pdf',\n",
       " 'Originals-Court Documents/20230124-230131_Southard_Discovery_Request.pdf']"
      ]
     },
     "execution_count": 19,
     "metadata": {},
     "output_type": "execute_result"
    }
   ],
   "source": [
    "pd.DataFrame(pdf_files)\n",
    "pdf_files"
   ]
  },
  {
   "cell_type": "code",
   "execution_count": 30,
   "id": "ac6592bb",
   "metadata": {},
   "outputs": [
    {
     "data": {
      "text/plain": [
       "'O'"
      ]
     },
     "execution_count": 30,
     "metadata": {},
     "output_type": "execute_result"
    }
   ],
   "source": [
    "pdf_files[0][26]"
   ]
  },
  {
   "cell_type": "code",
   "execution_count": 31,
   "id": "cf932ef4",
   "metadata": {},
   "outputs": [
    {
     "name": "stdout",
     "output_type": "stream",
     "text": [
      "['2023033_Warrant.pdf', '20240208_Labrew_Takes_Over.pdf', '20230223_FELICIA A. MENNIN_responce to evidence request.pdf', '20240210_Labrew_takes over.pdf', 'Steven McEnaney, Ind, 70297-22 COURT APPEARANCES.pdf', '20230413_Discovery_List.pdf', '20230124_Southard-request-evidence-omni_bus.pdf', '20231012_Richard Southard-protective order and WOA.pdf', '20230206_DA_Response to Grand Jury request.pdf', '20230124_Southard_Discovery_Request.pdf', '20240215_LaBrew_Withdraw_Guilty_Plea-Probation_Interview.pdf', '20230124-230131_Southard_Discovery_Request.pdf']\n"
     ]
    }
   ],
   "source": [
    "cleaned_paths = []\n",
    "\n",
    "for pdf in pdf_files:\n",
    "    cleaned_paths.append(pdf[26:])\n",
    "\n",
    "print(cleaned_paths)"
   ]
  },
  {
   "cell_type": "code",
   "execution_count": 35,
   "id": "565ee10f",
   "metadata": {},
   "outputs": [
    {
     "data": {
      "text/plain": [
       "['2023033_Warrant.pdf',\n",
       " '20240208_Labrew_Takes_Over.pdf',\n",
       " '20230223_FELICIA A. MENNIN_responce to evidence request.pdf',\n",
       " '20240210_Labrew_takes over.pdf',\n",
       " 'Steven McEnaney, Ind, 70297-22 COURT APPEARANCES.pdf',\n",
       " '20230413_Discovery_List.pdf',\n",
       " '20230124_Southard-request-evidence-omni_bus.pdf',\n",
       " '20231012_Richard Southard-protective order and WOA.pdf',\n",
       " '20230206_DA_Response to Grand Jury request.pdf',\n",
       " '20230124_Southard_Discovery_Request.pdf',\n",
       " '20240215_LaBrew_Withdraw_Guilty_Plea-Probation_Interview.pdf',\n",
       " '20230124-230131_Southard_Discovery_Request.pdf']"
      ]
     },
     "execution_count": 35,
     "metadata": {},
     "output_type": "execute_result"
    }
   ],
   "source": [
    "cleaned_paths"
   ]
  },
  {
   "cell_type": "code",
   "execution_count": null,
   "id": "02c658a9",
   "metadata": {},
   "outputs": [],
   "source": []
  },
  {
   "cell_type": "code",
   "execution_count": null,
   "id": "194a9846",
   "metadata": {},
   "outputs": [],
   "source": []
  },
  {
   "cell_type": "code",
   "execution_count": null,
   "id": "131ad91a",
   "metadata": {},
   "outputs": [],
   "source": []
  },
  {
   "cell_type": "code",
   "execution_count": null,
   "id": "c9057da3",
   "metadata": {},
   "outputs": [],
   "source": []
  },
  {
   "cell_type": "code",
   "execution_count": null,
   "id": "7b3dd356",
   "metadata": {},
   "outputs": [],
   "source": []
  }
 ],
 "metadata": {
  "kernelspec": {
   "display_name": "Python 3 (ipykernel)",
   "language": "python",
   "name": "python3"
  },
  "language_info": {
   "codemirror_mode": {
    "name": "ipython",
    "version": 3
   },
   "file_extension": ".py",
   "mimetype": "text/x-python",
   "name": "python",
   "nbconvert_exporter": "python",
   "pygments_lexer": "ipython3",
   "version": "3.11.5"
  }
 },
 "nbformat": 4,
 "nbformat_minor": 5
}
