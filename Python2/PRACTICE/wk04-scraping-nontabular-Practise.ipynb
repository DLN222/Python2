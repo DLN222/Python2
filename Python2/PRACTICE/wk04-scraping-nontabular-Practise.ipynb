{
 "cells": [
  {
   "cell_type": "markdown",
   "id": "58aed9e3",
   "metadata": {},
   "source": [
    "<img src=\"https://sandeepmj.github.io/image-host/green-scrapes.png\" >"
   ]
  },
  {
   "cell_type": "markdown",
   "id": "ce45f07b",
   "metadata": {},
   "source": [
    "# Scraping non-tabular content with ```BeautifulSoup```\n",
    "### We'll learn to some basic scraping techniques using this mock site <a href=\"https://sandeepmj.github.io/scrape-example-page/demo-text.html\">demo page</a>.\n"
   ]
  },
  {
   "cell_type": "code",
   "execution_count": 2,
   "id": "02291c65",
   "metadata": {},
   "outputs": [],
   "source": [
    "## create cells as necessary"
   ]
  },
  {
   "cell_type": "code",
   "execution_count": 15,
   "id": "5c01e31f",
   "metadata": {},
   "outputs": [],
   "source": [
    "import pandas as pd\n",
    "import requests\n",
    "from bs4 import BeautifulSoup"
   ]
  },
  {
   "cell_type": "code",
   "execution_count": 16,
   "id": "8bfd56ce",
   "metadata": {},
   "outputs": [],
   "source": [
    "url = \"https://sandeepmj.github.io/scrape-example-page/demo-text.html\""
   ]
  },
  {
   "cell_type": "code",
   "execution_count": 24,
   "id": "d1844fac",
   "metadata": {},
   "outputs": [
    {
     "data": {
      "text/plain": [
       "<Response [200]>"
      ]
     },
     "execution_count": 24,
     "metadata": {},
     "output_type": "execute_result"
    }
   ],
   "source": [
    "response = requests.get(url)\n",
    "response"
   ]
  },
  {
   "cell_type": "code",
   "execution_count": 26,
   "id": "e8c9ae94",
   "metadata": {
    "scrolled": true
   },
   "outputs": [
    {
     "data": {
      "text/plain": [
       "<!DOCTYPE html>\n",
       "\n",
       "<html lang=\"en\">\n",
       "<head>\n",
       "<title>title tag</title>\n",
       "<style>\n",
       "body {padding: 20px; max-width: 700px; margin: 0 auto;}\n",
       "</style>\n",
       "</head>\n",
       "<body>\n",
       "<h1 class=\"title\"><b>The title headline is Demo for BeautifulSoup</b></h1>\n",
       "<p>Learning to scrape using BeautifulSoup.</p>\n",
       "<div class=\"content article\">\n",
       "<section>\n",
       "<p>Here's some pretty useless info:</p>\n",
       "</section>\n",
       "<section class=\"main\" id=\"all_plants\">\n",
       "<h2 class=\"subhead\" id=\"vegitation\">Plants</h2>\n",
       "<p class=\"article\">Three plants that thrive in deep shade:</p>\n",
       "<ol>\n",
       "<li><a class=\"plants life\" href=\"http://example.com/plant1\" id=\"plant1\">Plant 1</a>: <span class=\"cost\">$10</span></li>\n",
       "<li><a class=\"plants life\" href=\"http://example.com/plant2\" id=\"plant2\">Plant 2</a>: <span class=\"cost\">$20</span></li>\n",
       "<li><a class=\"plants life\" href=\"http://example.com/plant3\" id=\"plant3\">Plant 3</a> <span class=\"cost\">$30</span></li>\n",
       "</ol>\n",
       "</section>\n",
       "<section class=\"main\" id=\"all_animals\">\n",
       "<h2 class=\"subhead\" id=\"creatures\">Animals</h2>\n",
       "<p class=\"article\"> Three animals in the barn:</p>\n",
       "<ol>\n",
       "<li><a class=\"animals life\" href=\"http://example.com/animal1\" id=\"animal1\">Animal 1</a>: <span class=\"cost\">$500</span></li>\n",
       "<li><a class=\"animals life\" href=\"http://example.com/animal2\" id=\"animal2\">Animal 2</a>: <span class=\"cost\">$600</span> </li>\n",
       "<li><a class=\"animals life\" href=\"http://example.com/animal3\" id=\"animal3\">Animal 3</a>: <span class=\"cost\">$700</span></li>\n",
       "</ol>\n",
       "</section>\n",
       "<section>\n",
       "<h2 class=\"subhead\" id=\"objects\">Objects</h2>\n",
       "<p class=\"article\"> Three shiny rocks:</p>\n",
       "<ol>\n",
       "<li><a class=\"rock inanimate\" href=\"http://example.com/rock1\" id=\"rock1\"><span>Rock 1</span></a></li>\n",
       "<li><a class=\"rock inanimate\" href=\"http://example.com/rock2\" id=\"rock2\"><span>Rock 2</span></a></li>\n",
       "<li><a class=\"rock inanimate\" href=\"http://example.com/rock2\" id=\"rock3\"><span>Rock 3</span></a></li>\n",
       "</ol>\n",
       "</section>\n",
       "<section>\n",
       "<h2>The seven classifications of animals</h2>\n",
       "<ul>\n",
       "<li><a class=\"animals\" href=\"http://example.com/kingdom\">Kingdom</a></li>\n",
       "<li><a class=\"animals\" href=\"http://example.com/phylum\">Phylum</a></li>\n",
       "<li><a class=\"animals\" href=\"http://example.com/class\">Class</a></li>\n",
       "<li><a class=\"animals\" href=\"http://example.com/order\">Order</a></li>\n",
       "<li><a class=\"animals\" href=\"http://example.com/family\">Family</a></li>\n",
       "<li><a class=\"animals\" href=\"http://example.com/genus\">Genus</a></li>\n",
       "<li><a class=\"animals\" href=\"http://example.com/species\">Species</a></li>\n",
       "</ul>\n",
       "</section>\n",
       "</div>\n",
       "</body>\n",
       "</html>"
      ]
     },
     "execution_count": 26,
     "metadata": {},
     "output_type": "execute_result"
    }
   ],
   "source": [
    "soup = BeautifulSoup(response.text, \"html.parser\")\n",
    "soup"
   ]
  },
  {
   "cell_type": "code",
   "execution_count": 27,
   "id": "01861850",
   "metadata": {},
   "outputs": [
    {
     "name": "stdout",
     "output_type": "stream",
     "text": [
      "<!DOCTYPE html>\n",
      "<html lang=\"en\">\n",
      " <head>\n",
      "  <title>\n",
      "   title tag\n",
      "  </title>\n",
      "  <style>\n",
      "   body {padding: 20px; max-width: 700px; margin: 0 auto;}\n",
      "  </style>\n",
      " </head>\n",
      " <body>\n",
      "  <h1 class=\"title\">\n",
      "   <b>\n",
      "    The title headline is Demo for BeautifulSoup\n",
      "   </b>\n",
      "  </h1>\n",
      "  <p>\n",
      "   Learning to scrape using BeautifulSoup.\n",
      "  </p>\n",
      "  <div class=\"content article\">\n",
      "   <section>\n",
      "    <p>\n",
      "     Here's some pretty useless info:\n",
      "    </p>\n",
      "   </section>\n",
      "   <section class=\"main\" id=\"all_plants\">\n",
      "    <h2 class=\"subhead\" id=\"vegitation\">\n",
      "     Plants\n",
      "    </h2>\n",
      "    <p class=\"article\">\n",
      "     Three plants that thrive in deep shade:\n",
      "    </p>\n",
      "    <ol>\n",
      "     <li>\n",
      "      <a class=\"plants life\" href=\"http://example.com/plant1\" id=\"plant1\">\n",
      "       Plant 1\n",
      "      </a>\n",
      "      :\n",
      "      <span class=\"cost\">\n",
      "       $10\n",
      "      </span>\n",
      "     </li>\n",
      "     <li>\n",
      "      <a class=\"plants life\" href=\"http://example.com/plant2\" id=\"plant2\">\n",
      "       Plant 2\n",
      "      </a>\n",
      "      :\n",
      "      <span class=\"cost\">\n",
      "       $20\n",
      "      </span>\n",
      "     </li>\n",
      "     <li>\n",
      "      <a class=\"plants life\" href=\"http://example.com/plant3\" id=\"plant3\">\n",
      "       Plant 3\n",
      "      </a>\n",
      "      <span class=\"cost\">\n",
      "       $30\n",
      "      </span>\n",
      "     </li>\n",
      "    </ol>\n",
      "   </section>\n",
      "   <section class=\"main\" id=\"all_animals\">\n",
      "    <h2 class=\"subhead\" id=\"creatures\">\n",
      "     Animals\n",
      "    </h2>\n",
      "    <p class=\"article\">\n",
      "     Three animals in the barn:\n",
      "    </p>\n",
      "    <ol>\n",
      "     <li>\n",
      "      <a class=\"animals life\" href=\"http://example.com/animal1\" id=\"animal1\">\n",
      "       Animal 1\n",
      "      </a>\n",
      "      :\n",
      "      <span class=\"cost\">\n",
      "       $500\n",
      "      </span>\n",
      "     </li>\n",
      "     <li>\n",
      "      <a class=\"animals life\" href=\"http://example.com/animal2\" id=\"animal2\">\n",
      "       Animal 2\n",
      "      </a>\n",
      "      :\n",
      "      <span class=\"cost\">\n",
      "       $600\n",
      "      </span>\n",
      "     </li>\n",
      "     <li>\n",
      "      <a class=\"animals life\" href=\"http://example.com/animal3\" id=\"animal3\">\n",
      "       Animal 3\n",
      "      </a>\n",
      "      :\n",
      "      <span class=\"cost\">\n",
      "       $700\n",
      "      </span>\n",
      "     </li>\n",
      "    </ol>\n",
      "   </section>\n",
      "   <section>\n",
      "    <h2 class=\"subhead\" id=\"objects\">\n",
      "     Objects\n",
      "    </h2>\n",
      "    <p class=\"article\">\n",
      "     Three shiny rocks:\n",
      "    </p>\n",
      "    <ol>\n",
      "     <li>\n",
      "      <a class=\"rock inanimate\" href=\"http://example.com/rock1\" id=\"rock1\">\n",
      "       <span>\n",
      "        Rock 1\n",
      "       </span>\n",
      "      </a>\n",
      "     </li>\n",
      "     <li>\n",
      "      <a class=\"rock inanimate\" href=\"http://example.com/rock2\" id=\"rock2\">\n",
      "       <span>\n",
      "        Rock 2\n",
      "       </span>\n",
      "      </a>\n",
      "     </li>\n",
      "     <li>\n",
      "      <a class=\"rock inanimate\" href=\"http://example.com/rock2\" id=\"rock3\">\n",
      "       <span>\n",
      "        Rock 3\n",
      "       </span>\n",
      "      </a>\n",
      "     </li>\n",
      "    </ol>\n",
      "   </section>\n",
      "   <section>\n",
      "    <h2>\n",
      "     The seven classifications of animals\n",
      "    </h2>\n",
      "    <ul>\n",
      "     <li>\n",
      "      <a class=\"animals\" href=\"http://example.com/kingdom\">\n",
      "       Kingdom\n",
      "      </a>\n",
      "     </li>\n",
      "     <li>\n",
      "      <a class=\"animals\" href=\"http://example.com/phylum\">\n",
      "       Phylum\n",
      "      </a>\n",
      "     </li>\n",
      "     <li>\n",
      "      <a class=\"animals\" href=\"http://example.com/class\">\n",
      "       Class\n",
      "      </a>\n",
      "     </li>\n",
      "     <li>\n",
      "      <a class=\"animals\" href=\"http://example.com/order\">\n",
      "       Order\n",
      "      </a>\n",
      "     </li>\n",
      "     <li>\n",
      "      <a class=\"animals\" href=\"http://example.com/family\">\n",
      "       Family\n",
      "      </a>\n",
      "     </li>\n",
      "     <li>\n",
      "      <a class=\"animals\" href=\"http://example.com/genus\">\n",
      "       Genus\n",
      "      </a>\n",
      "     </li>\n",
      "     <li>\n",
      "      <a class=\"animals\" href=\"http://example.com/species\">\n",
      "       Species\n",
      "      </a>\n",
      "     </li>\n",
      "    </ul>\n",
      "   </section>\n",
      "  </div>\n",
      " </body>\n",
      "</html>\n",
      "\n"
     ]
    }
   ],
   "source": [
    "print(soup.prettify())"
   ]
  },
  {
   "cell_type": "code",
   "execution_count": 32,
   "id": "05f547ce",
   "metadata": {},
   "outputs": [
    {
     "data": {
      "text/plain": [
       "[<a class=\"plants life\" href=\"http://example.com/plant1\" id=\"plant1\">Plant 1</a>,\n",
       " <a class=\"plants life\" href=\"http://example.com/plant2\" id=\"plant2\">Plant 2</a>,\n",
       " <a class=\"plants life\" href=\"http://example.com/plant3\" id=\"plant3\">Plant 3</a>,\n",
       " <a class=\"animals life\" href=\"http://example.com/animal1\" id=\"animal1\">Animal 1</a>,\n",
       " <a class=\"animals life\" href=\"http://example.com/animal2\" id=\"animal2\">Animal 2</a>,\n",
       " <a class=\"animals life\" href=\"http://example.com/animal3\" id=\"animal3\">Animal 3</a>]"
      ]
     },
     "execution_count": 32,
     "metadata": {},
     "output_type": "execute_result"
    }
   ],
   "source": [
    "lifeforms = soup.find_all(\"a\", class_=\"life\")\n",
    "lifeforms"
   ]
  },
  {
   "cell_type": "code",
   "execution_count": 37,
   "id": "6cc1ae4b",
   "metadata": {},
   "outputs": [
    {
     "name": "stdout",
     "output_type": "stream",
     "text": [
      "Plant 1\n",
      "Plant 2\n",
      "Plant 3\n",
      "Animal 1\n",
      "Animal 2\n",
      "Animal 3\n"
     ]
    }
   ],
   "source": [
    "lifeform_list = []\n",
    "for life in lifeforms:\n",
    "    print(life.get_text())"
   ]
  },
  {
   "cell_type": "code",
   "execution_count": 34,
   "id": "ff05fcb4",
   "metadata": {},
   "outputs": [
    {
     "data": {
      "text/plain": [
       "['Plant 1', 'Plant 2', 'Plant 3', 'Animal 1', 'Animal 2', 'Animal 3']"
      ]
     },
     "execution_count": 34,
     "metadata": {},
     "output_type": "execute_result"
    }
   ],
   "source": [
    "lifeforms_fl= []\n",
    "for life in lifeforms:\n",
    "    lifeforms_fl.append(life.get_text())\n",
    "    \n",
    "lifeforms_fl"
   ]
  },
  {
   "cell_type": "code",
   "execution_count": 41,
   "id": "55c03c66",
   "metadata": {},
   "outputs": [
    {
     "data": {
      "text/plain": [
       "[<a class=\"plants life\" href=\"http://example.com/plant1\" id=\"plant1\">Plant 1</a>,\n",
       " <a class=\"plants life\" href=\"http://example.com/plant2\" id=\"plant2\">Plant 2</a>,\n",
       " <a class=\"plants life\" href=\"http://example.com/plant3\" id=\"plant3\">Plant 3</a>,\n",
       " <a class=\"animals life\" href=\"http://example.com/animal1\" id=\"animal1\">Animal 1</a>,\n",
       " <a class=\"animals life\" href=\"http://example.com/animal2\" id=\"animal2\">Animal 2</a>,\n",
       " <a class=\"animals life\" href=\"http://example.com/animal3\" id=\"animal3\">Animal 3</a>]"
      ]
     },
     "execution_count": 41,
     "metadata": {},
     "output_type": "execute_result"
    }
   ],
   "source": [
    "lifeforms"
   ]
  },
  {
   "cell_type": "code",
   "execution_count": 53,
   "id": "2b299173",
   "metadata": {},
   "outputs": [
    {
     "name": "stdout",
     "output_type": "stream",
     "text": [
      "http://example.com/plant1\n",
      "http://example.com/plant2\n",
      "http://example.com/plant3\n",
      "http://example.com/animal1\n",
      "http://example.com/animal2\n",
      "http://example.com/animal3\n"
     ]
    }
   ],
   "source": [
    "links = []\n",
    "for life in lifeforms:\n",
    "    print(life.get(\"href\"))\n"
   ]
  },
  {
   "cell_type": "code",
   "execution_count": 49,
   "id": "d75047cb",
   "metadata": {},
   "outputs": [
    {
     "data": {
      "text/plain": [
       "[<span class=\"cost\">$10</span>,\n",
       " <span class=\"cost\">$20</span>,\n",
       " <span class=\"cost\">$30</span>,\n",
       " <span class=\"cost\">$500</span>,\n",
       " <span class=\"cost\">$600</span>,\n",
       " <span class=\"cost\">$700</span>]"
      ]
     },
     "execution_count": 49,
     "metadata": {},
     "output_type": "execute_result"
    }
   ],
   "source": [
    "costs = soup.find_all(\"span\", class_=\"cost\")\n",
    "costs"
   ]
  },
  {
   "cell_type": "code",
   "execution_count": 59,
   "id": "d050374b",
   "metadata": {},
   "outputs": [
    {
     "data": {
      "text/plain": [
       "['$10', '$20', '$30', '$500', '$600', '$700']"
      ]
     },
     "execution_count": 59,
     "metadata": {},
     "output_type": "execute_result"
    }
   ],
   "source": [
    "cost_list = []\n",
    "for cost in costs:\n",
    "    cost_list.append(cost.get_text())\n",
    "    \n",
    "cost_list"
   ]
  },
  {
   "cell_type": "code",
   "execution_count": 67,
   "id": "6f014a92",
   "metadata": {},
   "outputs": [
    {
     "data": {
      "text/plain": [
       "[]"
      ]
     },
     "execution_count": 67,
     "metadata": {},
     "output_type": "execute_result"
    }
   ],
   "source": [
    "life_list = []\n",
    "for (lifeforms, links, cost_list) in zip(lifeforms, links, cost_list):\n",
    "    life_list.append({\"life\": lifeforms,\n",
    "                    \"links\": links,\n",
    "                    \"cost\": costs})\n",
    "life_list"
   ]
  },
  {
   "cell_type": "code",
   "execution_count": null,
   "id": "471df7a4",
   "metadata": {},
   "outputs": [],
   "source": []
  }
 ],
 "metadata": {
  "kernelspec": {
   "display_name": "Python 3 (ipykernel)",
   "language": "python",
   "name": "python3"
  },
  "language_info": {
   "codemirror_mode": {
    "name": "ipython",
    "version": 3
   },
   "file_extension": ".py",
   "mimetype": "text/x-python",
   "name": "python",
   "nbconvert_exporter": "python",
   "pygments_lexer": "ipython3",
   "version": "3.11.5"
  }
 },
 "nbformat": 4,
 "nbformat_minor": 5
}
