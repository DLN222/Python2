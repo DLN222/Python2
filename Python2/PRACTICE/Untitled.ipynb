{
 "cells": [
  {
   "cell_type": "code",
   "execution_count": 9,
   "id": "f8217ed3",
   "metadata": {},
   "outputs": [],
   "source": [
    "import pandas as pd\n",
    "import requests\n",
    "from bs4 import BeautifulSoup"
   ]
  },
  {
   "cell_type": "code",
   "execution_count": 10,
   "id": "fb6f8899",
   "metadata": {},
   "outputs": [],
   "source": [
    "url = \"https://www.w3schools.com/w3css/tryw3css_templates_food_blog.htm\""
   ]
  },
  {
   "cell_type": "code",
   "execution_count": 11,
   "id": "0a7bbaae",
   "metadata": {},
   "outputs": [
    {
     "data": {
      "text/plain": [
       "<Response [200]>"
      ]
     },
     "execution_count": 11,
     "metadata": {},
     "output_type": "execute_result"
    }
   ],
   "source": [
    "response = requests.get(url)\n",
    "response"
   ]
  },
  {
   "cell_type": "code",
   "execution_count": 12,
   "id": "f8074c8f",
   "metadata": {},
   "outputs": [
    {
     "data": {
      "text/plain": [
       "<!DOCTYPE html>\n",
       "\n",
       "<html>\n",
       "<head>\n",
       "<title>W3.CSS Template</title>\n",
       "<meta charset=\"utf-8\"/>\n",
       "<meta content=\"width=device-width, initial-scale=1\" name=\"viewport\"/>\n",
       "<link href=\"https://www.w3schools.com/w3css/4/w3.css\" rel=\"stylesheet\"/>\n",
       "<link href=\"https://fonts.googleapis.com/css?family=Karma\" rel=\"stylesheet\"/>\n",
       "<style>\n",
       "body,h1,h2,h3,h4,h5,h6 {font-family: \"Karma\", sans-serif}\n",
       ".w3-bar-block .w3-bar-item {padding:20px}\n",
       "</style>\n",
       "</head>\n",
       "<body>\n",
       "<!-- Sidebar (hidden by default) -->\n",
       "<nav class=\"w3-sidebar w3-bar-block w3-card w3-top w3-xlarge w3-animate-left\" id=\"mySidebar\" style=\"display:none;z-index:2;width:40%;min-width:300px\">\n",
       "<a class=\"w3-bar-item w3-button\" href=\"javascript:void(0)\" onclick=\"w3_close()\">Close Menu</a>\n",
       "<a class=\"w3-bar-item w3-button\" href=\"#food\" onclick=\"w3_close()\">Food</a>\n",
       "<a class=\"w3-bar-item w3-button\" href=\"#about\" onclick=\"w3_close()\">About</a>\n",
       "</nav>\n",
       "<!-- Top menu -->\n",
       "<div class=\"w3-top\">\n",
       "<div class=\"w3-white w3-xlarge\" style=\"max-width:1200px;margin:auto\">\n",
       "<div class=\"w3-button w3-padding-16 w3-left\" onclick=\"w3_open()\">☰</div>\n",
       "<div class=\"w3-right w3-padding-16\">Mail</div>\n",
       "<div class=\"w3-center w3-padding-16\">My Food</div>\n",
       "</div>\n",
       "</div>\n",
       "<!-- !PAGE CONTENT! -->\n",
       "<div class=\"w3-main w3-content w3-padding\" style=\"max-width:1200px;margin-top:100px\">\n",
       "<!-- First Photo Grid-->\n",
       "<div class=\"w3-row-padding w3-padding-16 w3-center\" id=\"food\">\n",
       "<div class=\"w3-quarter\">\n",
       "<img alt=\"Sandwich\" src=\"/w3images/sandwich.jpg\" style=\"width:100%\"/>\n",
       "<h3>The Perfect Sandwich, A Real NYC Classic</h3>\n",
       "<p>Just some random text, lorem ipsum text praesent tincidunt ipsum lipsum.</p>\n",
       "</div>\n",
       "<div class=\"w3-quarter\">\n",
       "<img alt=\"Steak\" src=\"/w3images/steak.jpg\" style=\"width:100%\"/>\n",
       "<h3>Let Me Tell You About This Steak</h3>\n",
       "<p>Once again, some random text to lorem lorem lorem lorem ipsum text praesent tincidunt ipsum lipsum.</p>\n",
       "</div>\n",
       "<div class=\"w3-quarter\">\n",
       "<img alt=\"Cherries\" src=\"/w3images/cherries.jpg\" style=\"width:100%\"/>\n",
       "<h3>Cherries, interrupted</h3>\n",
       "<p>Lorem ipsum text praesent tincidunt ipsum lipsum.</p>\n",
       "<p>What else?</p>\n",
       "</div>\n",
       "<div class=\"w3-quarter\">\n",
       "<img alt=\"Pasta and Wine\" src=\"/w3images/wine.jpg\" style=\"width:100%\"/>\n",
       "<h3>Once Again, Robust Wine and Vegetable Pasta</h3>\n",
       "<p>Lorem ipsum text praesent tincidunt ipsum lipsum.</p>\n",
       "</div>\n",
       "</div>\n",
       "<!-- Second Photo Grid-->\n",
       "<div class=\"w3-row-padding w3-padding-16 w3-center\">\n",
       "<div class=\"w3-quarter\">\n",
       "<img alt=\"Popsicle\" src=\"/w3images/popsicle.jpg\" style=\"width:100%\"/>\n",
       "<h3>All I Need Is a Popsicle</h3>\n",
       "<p>Lorem ipsum text praesent tincidunt ipsum lipsum.</p>\n",
       "</div>\n",
       "<div class=\"w3-quarter\">\n",
       "<img alt=\"Salmon\" src=\"/w3images/salmon.jpg\" style=\"width:100%\"/>\n",
       "<h3>Salmon For Your Skin</h3>\n",
       "<p>Once again, some random text to lorem lorem lorem lorem ipsum text praesent tincidunt ipsum lipsum.</p>\n",
       "</div>\n",
       "<div class=\"w3-quarter\">\n",
       "<img alt=\"Sandwich\" src=\"/w3images/sandwich.jpg\" style=\"width:100%\"/>\n",
       "<h3>The Perfect Sandwich, A Real Classic</h3>\n",
       "<p>Just some random text, lorem ipsum text praesent tincidunt ipsum lipsum.</p>\n",
       "</div>\n",
       "<div class=\"w3-quarter\">\n",
       "<img alt=\"Croissant\" src=\"/w3images/croissant.jpg\" style=\"width:100%\"/>\n",
       "<h3>Le French</h3>\n",
       "<p>Lorem lorem lorem lorem ipsum text praesent tincidunt ipsum lipsum.</p>\n",
       "</div>\n",
       "</div>\n",
       "<!-- Pagination -->\n",
       "<div class=\"w3-center w3-padding-32\">\n",
       "<div class=\"w3-bar\">\n",
       "<a class=\"w3-bar-item w3-button w3-hover-black\" href=\"#\">«</a>\n",
       "<a class=\"w3-bar-item w3-black w3-button\" href=\"#\">1</a>\n",
       "<a class=\"w3-bar-item w3-button w3-hover-black\" href=\"#\">2</a>\n",
       "<a class=\"w3-bar-item w3-button w3-hover-black\" href=\"#\">3</a>\n",
       "<a class=\"w3-bar-item w3-button w3-hover-black\" href=\"#\">4</a>\n",
       "<a class=\"w3-bar-item w3-button w3-hover-black\" href=\"#\">»</a>\n",
       "</div>\n",
       "</div>\n",
       "<hr id=\"about\"/>\n",
       "<!-- About Section -->\n",
       "<div class=\"w3-container w3-padding-32 w3-center\">\n",
       "<h3>About Me, The Food Man</h3><br/>\n",
       "<img alt=\"Me\" class=\"w3-image\" height=\"533\" src=\"/w3images/chef.jpg\" style=\"display:block;margin:auto\" width=\"800\"/>\n",
       "<div class=\"w3-padding-32\">\n",
       "<h4><b>I am Who I Am!</b></h4>\n",
       "<h6><i>With Passion For Real, Good Food</i></h6>\n",
       "<p>Just me, myself and I, exploring the universe of unknownment. I have a heart of love and an interest of lorem ipsum and mauris neque quam blog. I want to share my world with you. Praesent tincidunt sed tellus ut rutrum. Sed vitae justo condimentum, porta lectus vitae, ultricies congue gravida diam non fringilla. Praesent tincidunt sed tellus ut rutrum. Sed vitae justo condimentum, porta lectus vitae, ultricies congue gravida diam non fringilla.</p>\n",
       "</div>\n",
       "</div>\n",
       "<hr/>\n",
       "<!-- Footer -->\n",
       "<footer class=\"w3-row-padding w3-padding-32\">\n",
       "<div class=\"w3-third\">\n",
       "<h3>FOOTER</h3>\n",
       "<p>Praesent tincidunt sed tellus ut rutrum. Sed vitae justo condimentum, porta lectus vitae, ultricies congue gravida diam non fringilla.</p>\n",
       "<p>Powered by <a href=\"https://www.w3schools.com/w3css/default.asp\" target=\"_blank\">w3.css</a></p>\n",
       "</div>\n",
       "<div class=\"w3-third\">\n",
       "<h3>BLOG POSTS</h3>\n",
       "<ul class=\"w3-ul w3-hoverable\">\n",
       "<li class=\"w3-padding-16\">\n",
       "<img class=\"w3-left w3-margin-right\" src=\"/w3images/workshop.jpg\" style=\"width:50px\"/>\n",
       "<span class=\"w3-large\">Lorem</span><br/>\n",
       "<span>Sed mattis nunc</span>\n",
       "</li>\n",
       "<li class=\"w3-padding-16\">\n",
       "<img class=\"w3-left w3-margin-right\" src=\"/w3images/gondol.jpg\" style=\"width:50px\"/>\n",
       "<span class=\"w3-large\">Ipsum</span><br/>\n",
       "<span>Praes tinci sed</span>\n",
       "</li>\n",
       "</ul>\n",
       "</div>\n",
       "<div class=\"w3-third w3-serif\">\n",
       "<h3>POPULAR TAGS</h3>\n",
       "<p>\n",
       "<span class=\"w3-tag w3-black w3-margin-bottom\">Travel</span> <span class=\"w3-tag w3-dark-grey w3-small w3-margin-bottom\">New York</span> <span class=\"w3-tag w3-dark-grey w3-small w3-margin-bottom\">Dinner</span>\n",
       "<span class=\"w3-tag w3-dark-grey w3-small w3-margin-bottom\">Salmon</span> <span class=\"w3-tag w3-dark-grey w3-small w3-margin-bottom\">France</span> <span class=\"w3-tag w3-dark-grey w3-small w3-margin-bottom\">Drinks</span>\n",
       "<span class=\"w3-tag w3-dark-grey w3-small w3-margin-bottom\">Ideas</span> <span class=\"w3-tag w3-dark-grey w3-small w3-margin-bottom\">Flavors</span> <span class=\"w3-tag w3-dark-grey w3-small w3-margin-bottom\">Cuisine</span>\n",
       "<span class=\"w3-tag w3-dark-grey w3-small w3-margin-bottom\">Chicken</span> <span class=\"w3-tag w3-dark-grey w3-small w3-margin-bottom\">Dressing</span> <span class=\"w3-tag w3-dark-grey w3-small w3-margin-bottom\">Fried</span>\n",
       "<span class=\"w3-tag w3-dark-grey w3-small w3-margin-bottom\">Fish</span> <span class=\"w3-tag w3-dark-grey w3-small w3-margin-bottom\">Duck</span>\n",
       "</p>\n",
       "</div>\n",
       "</footer>\n",
       "<!-- End page content -->\n",
       "</div>\n",
       "<script>\n",
       "// Script to open and close sidebar\n",
       "function w3_open() {\n",
       "  document.getElementById(\"mySidebar\").style.display = \"block\";\n",
       "}\n",
       " \n",
       "function w3_close() {\n",
       "  document.getElementById(\"mySidebar\").style.display = \"none\";\n",
       "}\n",
       "</script>\n",
       "</body>\n",
       "</html>"
      ]
     },
     "execution_count": 12,
     "metadata": {},
     "output_type": "execute_result"
    }
   ],
   "source": [
    "soup = BeautifulSoup(response.text, \"html.parser\")\n",
    "soup"
   ]
  },
  {
   "cell_type": "code",
   "execution_count": 13,
   "id": "fda94e66",
   "metadata": {
    "collapsed": true
   },
   "outputs": [
    {
     "name": "stdout",
     "output_type": "stream",
     "text": [
      "<!DOCTYPE html>\n",
      "<html>\n",
      " <head>\n",
      "  <title>\n",
      "   W3.CSS Template\n",
      "  </title>\n",
      "  <meta charset=\"utf-8\"/>\n",
      "  <meta content=\"width=device-width, initial-scale=1\" name=\"viewport\"/>\n",
      "  <link href=\"https://www.w3schools.com/w3css/4/w3.css\" rel=\"stylesheet\"/>\n",
      "  <link href=\"https://fonts.googleapis.com/css?family=Karma\" rel=\"stylesheet\"/>\n",
      "  <style>\n",
      "   body,h1,h2,h3,h4,h5,h6 {font-family: \"Karma\", sans-serif}\n",
      ".w3-bar-block .w3-bar-item {padding:20px}\n",
      "  </style>\n",
      " </head>\n",
      " <body>\n",
      "  <!-- Sidebar (hidden by default) -->\n",
      "  <nav class=\"w3-sidebar w3-bar-block w3-card w3-top w3-xlarge w3-animate-left\" id=\"mySidebar\" style=\"display:none;z-index:2;width:40%;min-width:300px\">\n",
      "   <a class=\"w3-bar-item w3-button\" href=\"javascript:void(0)\" onclick=\"w3_close()\">\n",
      "    Close Menu\n",
      "   </a>\n",
      "   <a class=\"w3-bar-item w3-button\" href=\"#food\" onclick=\"w3_close()\">\n",
      "    Food\n",
      "   </a>\n",
      "   <a class=\"w3-bar-item w3-button\" href=\"#about\" onclick=\"w3_close()\">\n",
      "    About\n",
      "   </a>\n",
      "  </nav>\n",
      "  <!-- Top menu -->\n",
      "  <div class=\"w3-top\">\n",
      "   <div class=\"w3-white w3-xlarge\" style=\"max-width:1200px;margin:auto\">\n",
      "    <div class=\"w3-button w3-padding-16 w3-left\" onclick=\"w3_open()\">\n",
      "     ☰\n",
      "    </div>\n",
      "    <div class=\"w3-right w3-padding-16\">\n",
      "     Mail\n",
      "    </div>\n",
      "    <div class=\"w3-center w3-padding-16\">\n",
      "     My Food\n",
      "    </div>\n",
      "   </div>\n",
      "  </div>\n",
      "  <!-- !PAGE CONTENT! -->\n",
      "  <div class=\"w3-main w3-content w3-padding\" style=\"max-width:1200px;margin-top:100px\">\n",
      "   <!-- First Photo Grid-->\n",
      "   <div class=\"w3-row-padding w3-padding-16 w3-center\" id=\"food\">\n",
      "    <div class=\"w3-quarter\">\n",
      "     <img alt=\"Sandwich\" src=\"/w3images/sandwich.jpg\" style=\"width:100%\"/>\n",
      "     <h3>\n",
      "      The Perfect Sandwich, A Real NYC Classic\n",
      "     </h3>\n",
      "     <p>\n",
      "      Just some random text, lorem ipsum text praesent tincidunt ipsum lipsum.\n",
      "     </p>\n",
      "    </div>\n",
      "    <div class=\"w3-quarter\">\n",
      "     <img alt=\"Steak\" src=\"/w3images/steak.jpg\" style=\"width:100%\"/>\n",
      "     <h3>\n",
      "      Let Me Tell You About This Steak\n",
      "     </h3>\n",
      "     <p>\n",
      "      Once again, some random text to lorem lorem lorem lorem ipsum text praesent tincidunt ipsum lipsum.\n",
      "     </p>\n",
      "    </div>\n",
      "    <div class=\"w3-quarter\">\n",
      "     <img alt=\"Cherries\" src=\"/w3images/cherries.jpg\" style=\"width:100%\"/>\n",
      "     <h3>\n",
      "      Cherries, interrupted\n",
      "     </h3>\n",
      "     <p>\n",
      "      Lorem ipsum text praesent tincidunt ipsum lipsum.\n",
      "     </p>\n",
      "     <p>\n",
      "      What else?\n",
      "     </p>\n",
      "    </div>\n",
      "    <div class=\"w3-quarter\">\n",
      "     <img alt=\"Pasta and Wine\" src=\"/w3images/wine.jpg\" style=\"width:100%\"/>\n",
      "     <h3>\n",
      "      Once Again, Robust Wine and Vegetable Pasta\n",
      "     </h3>\n",
      "     <p>\n",
      "      Lorem ipsum text praesent tincidunt ipsum lipsum.\n",
      "     </p>\n",
      "    </div>\n",
      "   </div>\n",
      "   <!-- Second Photo Grid-->\n",
      "   <div class=\"w3-row-padding w3-padding-16 w3-center\">\n",
      "    <div class=\"w3-quarter\">\n",
      "     <img alt=\"Popsicle\" src=\"/w3images/popsicle.jpg\" style=\"width:100%\"/>\n",
      "     <h3>\n",
      "      All I Need Is a Popsicle\n",
      "     </h3>\n",
      "     <p>\n",
      "      Lorem ipsum text praesent tincidunt ipsum lipsum.\n",
      "     </p>\n",
      "    </div>\n",
      "    <div class=\"w3-quarter\">\n",
      "     <img alt=\"Salmon\" src=\"/w3images/salmon.jpg\" style=\"width:100%\"/>\n",
      "     <h3>\n",
      "      Salmon For Your Skin\n",
      "     </h3>\n",
      "     <p>\n",
      "      Once again, some random text to lorem lorem lorem lorem ipsum text praesent tincidunt ipsum lipsum.\n",
      "     </p>\n",
      "    </div>\n",
      "    <div class=\"w3-quarter\">\n",
      "     <img alt=\"Sandwich\" src=\"/w3images/sandwich.jpg\" style=\"width:100%\"/>\n",
      "     <h3>\n",
      "      The Perfect Sandwich, A Real Classic\n",
      "     </h3>\n",
      "     <p>\n",
      "      Just some random text, lorem ipsum text praesent tincidunt ipsum lipsum.\n",
      "     </p>\n",
      "    </div>\n",
      "    <div class=\"w3-quarter\">\n",
      "     <img alt=\"Croissant\" src=\"/w3images/croissant.jpg\" style=\"width:100%\"/>\n",
      "     <h3>\n",
      "      Le French\n",
      "     </h3>\n",
      "     <p>\n",
      "      Lorem lorem lorem lorem ipsum text praesent tincidunt ipsum lipsum.\n",
      "     </p>\n",
      "    </div>\n",
      "   </div>\n",
      "   <!-- Pagination -->\n",
      "   <div class=\"w3-center w3-padding-32\">\n",
      "    <div class=\"w3-bar\">\n",
      "     <a class=\"w3-bar-item w3-button w3-hover-black\" href=\"#\">\n",
      "      «\n",
      "     </a>\n",
      "     <a class=\"w3-bar-item w3-black w3-button\" href=\"#\">\n",
      "      1\n",
      "     </a>\n",
      "     <a class=\"w3-bar-item w3-button w3-hover-black\" href=\"#\">\n",
      "      2\n",
      "     </a>\n",
      "     <a class=\"w3-bar-item w3-button w3-hover-black\" href=\"#\">\n",
      "      3\n",
      "     </a>\n",
      "     <a class=\"w3-bar-item w3-button w3-hover-black\" href=\"#\">\n",
      "      4\n",
      "     </a>\n",
      "     <a class=\"w3-bar-item w3-button w3-hover-black\" href=\"#\">\n",
      "      »\n",
      "     </a>\n",
      "    </div>\n",
      "   </div>\n",
      "   <hr id=\"about\"/>\n",
      "   <!-- About Section -->\n",
      "   <div class=\"w3-container w3-padding-32 w3-center\">\n",
      "    <h3>\n",
      "     About Me, The Food Man\n",
      "    </h3>\n",
      "    <br/>\n",
      "    <img alt=\"Me\" class=\"w3-image\" height=\"533\" src=\"/w3images/chef.jpg\" style=\"display:block;margin:auto\" width=\"800\"/>\n",
      "    <div class=\"w3-padding-32\">\n",
      "     <h4>\n",
      "      <b>\n",
      "       I am Who I Am!\n",
      "      </b>\n",
      "     </h4>\n",
      "     <h6>\n",
      "      <i>\n",
      "       With Passion For Real, Good Food\n",
      "      </i>\n",
      "     </h6>\n",
      "     <p>\n",
      "      Just me, myself and I, exploring the universe of unknownment. I have a heart of love and an interest of lorem ipsum and mauris neque quam blog. I want to share my world with you. Praesent tincidunt sed tellus ut rutrum. Sed vitae justo condimentum, porta lectus vitae, ultricies congue gravida diam non fringilla. Praesent tincidunt sed tellus ut rutrum. Sed vitae justo condimentum, porta lectus vitae, ultricies congue gravida diam non fringilla.\n",
      "     </p>\n",
      "    </div>\n",
      "   </div>\n",
      "   <hr/>\n",
      "   <!-- Footer -->\n",
      "   <footer class=\"w3-row-padding w3-padding-32\">\n",
      "    <div class=\"w3-third\">\n",
      "     <h3>\n",
      "      FOOTER\n",
      "     </h3>\n",
      "     <p>\n",
      "      Praesent tincidunt sed tellus ut rutrum. Sed vitae justo condimentum, porta lectus vitae, ultricies congue gravida diam non fringilla.\n",
      "     </p>\n",
      "     <p>\n",
      "      Powered by\n",
      "      <a href=\"https://www.w3schools.com/w3css/default.asp\" target=\"_blank\">\n",
      "       w3.css\n",
      "      </a>\n",
      "     </p>\n",
      "    </div>\n",
      "    <div class=\"w3-third\">\n",
      "     <h3>\n",
      "      BLOG POSTS\n",
      "     </h3>\n",
      "     <ul class=\"w3-ul w3-hoverable\">\n",
      "      <li class=\"w3-padding-16\">\n",
      "       <img class=\"w3-left w3-margin-right\" src=\"/w3images/workshop.jpg\" style=\"width:50px\"/>\n",
      "       <span class=\"w3-large\">\n",
      "        Lorem\n",
      "       </span>\n",
      "       <br/>\n",
      "       <span>\n",
      "        Sed mattis nunc\n",
      "       </span>\n",
      "      </li>\n",
      "      <li class=\"w3-padding-16\">\n",
      "       <img class=\"w3-left w3-margin-right\" src=\"/w3images/gondol.jpg\" style=\"width:50px\"/>\n",
      "       <span class=\"w3-large\">\n",
      "        Ipsum\n",
      "       </span>\n",
      "       <br/>\n",
      "       <span>\n",
      "        Praes tinci sed\n",
      "       </span>\n",
      "      </li>\n",
      "     </ul>\n",
      "    </div>\n",
      "    <div class=\"w3-third w3-serif\">\n",
      "     <h3>\n",
      "      POPULAR TAGS\n",
      "     </h3>\n",
      "     <p>\n",
      "      <span class=\"w3-tag w3-black w3-margin-bottom\">\n",
      "       Travel\n",
      "      </span>\n",
      "      <span class=\"w3-tag w3-dark-grey w3-small w3-margin-bottom\">\n",
      "       New York\n",
      "      </span>\n",
      "      <span class=\"w3-tag w3-dark-grey w3-small w3-margin-bottom\">\n",
      "       Dinner\n",
      "      </span>\n",
      "      <span class=\"w3-tag w3-dark-grey w3-small w3-margin-bottom\">\n",
      "       Salmon\n",
      "      </span>\n",
      "      <span class=\"w3-tag w3-dark-grey w3-small w3-margin-bottom\">\n",
      "       France\n",
      "      </span>\n",
      "      <span class=\"w3-tag w3-dark-grey w3-small w3-margin-bottom\">\n",
      "       Drinks\n",
      "      </span>\n",
      "      <span class=\"w3-tag w3-dark-grey w3-small w3-margin-bottom\">\n",
      "       Ideas\n",
      "      </span>\n",
      "      <span class=\"w3-tag w3-dark-grey w3-small w3-margin-bottom\">\n",
      "       Flavors\n",
      "      </span>\n",
      "      <span class=\"w3-tag w3-dark-grey w3-small w3-margin-bottom\">\n",
      "       Cuisine\n",
      "      </span>\n",
      "      <span class=\"w3-tag w3-dark-grey w3-small w3-margin-bottom\">\n",
      "       Chicken\n",
      "      </span>\n",
      "      <span class=\"w3-tag w3-dark-grey w3-small w3-margin-bottom\">\n",
      "       Dressing\n",
      "      </span>\n",
      "      <span class=\"w3-tag w3-dark-grey w3-small w3-margin-bottom\">\n",
      "       Fried\n",
      "      </span>\n",
      "      <span class=\"w3-tag w3-dark-grey w3-small w3-margin-bottom\">\n",
      "       Fish\n",
      "      </span>\n",
      "      <span class=\"w3-tag w3-dark-grey w3-small w3-margin-bottom\">\n",
      "       Duck\n",
      "      </span>\n",
      "     </p>\n",
      "    </div>\n",
      "   </footer>\n",
      "   <!-- End page content -->\n",
      "  </div>\n",
      "  <script>\n",
      "   // Script to open and close sidebar\n",
      "function w3_open() {\n",
      "  document.getElementById(\"mySidebar\").style.display = \"block\";\n",
      "}\n",
      " \n",
      "function w3_close() {\n",
      "  document.getElementById(\"mySidebar\").style.display = \"none\";\n",
      "}\n",
      "  </script>\n",
      " </body>\n",
      "</html>\n",
      "\n"
     ]
    }
   ],
   "source": [
    "print(soup.prettify())"
   ]
  },
  {
   "cell_type": "code",
   "execution_count": 14,
   "id": "121ad182",
   "metadata": {},
   "outputs": [
    {
     "data": {
      "text/plain": [
       "<h3>The Perfect Sandwich, A Real NYC Classic</h3>"
      ]
     },
     "execution_count": 14,
     "metadata": {},
     "output_type": "execute_result"
    }
   ],
   "source": [
    "soup.h3"
   ]
  },
  {
   "cell_type": "code",
   "execution_count": 15,
   "id": "b561dd4a",
   "metadata": {
    "collapsed": true
   },
   "outputs": [
    {
     "data": {
      "text/plain": [
       "[<div class=\"w3-row-padding w3-padding-16 w3-center\" id=\"food\">\n",
       " <div class=\"w3-quarter\">\n",
       " <img alt=\"Sandwich\" src=\"/w3images/sandwich.jpg\" style=\"width:100%\"/>\n",
       " <h3>The Perfect Sandwich, A Real NYC Classic</h3>\n",
       " <p>Just some random text, lorem ipsum text praesent tincidunt ipsum lipsum.</p>\n",
       " </div>\n",
       " <div class=\"w3-quarter\">\n",
       " <img alt=\"Steak\" src=\"/w3images/steak.jpg\" style=\"width:100%\"/>\n",
       " <h3>Let Me Tell You About This Steak</h3>\n",
       " <p>Once again, some random text to lorem lorem lorem lorem ipsum text praesent tincidunt ipsum lipsum.</p>\n",
       " </div>\n",
       " <div class=\"w3-quarter\">\n",
       " <img alt=\"Cherries\" src=\"/w3images/cherries.jpg\" style=\"width:100%\"/>\n",
       " <h3>Cherries, interrupted</h3>\n",
       " <p>Lorem ipsum text praesent tincidunt ipsum lipsum.</p>\n",
       " <p>What else?</p>\n",
       " </div>\n",
       " <div class=\"w3-quarter\">\n",
       " <img alt=\"Pasta and Wine\" src=\"/w3images/wine.jpg\" style=\"width:100%\"/>\n",
       " <h3>Once Again, Robust Wine and Vegetable Pasta</h3>\n",
       " <p>Lorem ipsum text praesent tincidunt ipsum lipsum.</p>\n",
       " </div>\n",
       " </div>]"
      ]
     },
     "execution_count": 15,
     "metadata": {},
     "output_type": "execute_result"
    }
   ],
   "source": [
    "soup(id=\"food\")"
   ]
  },
  {
   "cell_type": "code",
   "execution_count": 19,
   "id": "24d31f2f",
   "metadata": {},
   "outputs": [
    {
     "data": {
      "text/plain": [
       "<p>Just some random text, lorem ipsum text praesent tincidunt ipsum lipsum.</p>"
      ]
     },
     "execution_count": 19,
     "metadata": {},
     "output_type": "execute_result"
    }
   ],
   "source": [
    "soup.p\n",
    "soup.find(\"p\")"
   ]
  },
  {
   "cell_type": "code",
   "execution_count": 30,
   "id": "d9022221",
   "metadata": {},
   "outputs": [
    {
     "data": {
      "text/plain": [
       "[<div class=\"w3-main w3-content w3-padding\" style=\"max-width:1200px;margin-top:100px\">\n",
       " <!-- First Photo Grid-->\n",
       " <div class=\"w3-row-padding w3-padding-16 w3-center\" id=\"food\">\n",
       " <div class=\"w3-quarter\">\n",
       " <img alt=\"Sandwich\" src=\"/w3images/sandwich.jpg\" style=\"width:100%\"/>\n",
       " <h3>The Perfect Sandwich, A Real NYC Classic</h3>\n",
       " <p>Just some random text, lorem ipsum text praesent tincidunt ipsum lipsum.</p>\n",
       " </div>\n",
       " <div class=\"w3-quarter\">\n",
       " <img alt=\"Steak\" src=\"/w3images/steak.jpg\" style=\"width:100%\"/>\n",
       " <h3>Let Me Tell You About This Steak</h3>\n",
       " <p>Once again, some random text to lorem lorem lorem lorem ipsum text praesent tincidunt ipsum lipsum.</p>\n",
       " </div>\n",
       " <div class=\"w3-quarter\">\n",
       " <img alt=\"Cherries\" src=\"/w3images/cherries.jpg\" style=\"width:100%\"/>\n",
       " <h3>Cherries, interrupted</h3>\n",
       " <p>Lorem ipsum text praesent tincidunt ipsum lipsum.</p>\n",
       " <p>What else?</p>\n",
       " </div>\n",
       " <div class=\"w3-quarter\">\n",
       " <img alt=\"Pasta and Wine\" src=\"/w3images/wine.jpg\" style=\"width:100%\"/>\n",
       " <h3>Once Again, Robust Wine and Vegetable Pasta</h3>\n",
       " <p>Lorem ipsum text praesent tincidunt ipsum lipsum.</p>\n",
       " </div>\n",
       " </div>\n",
       " <!-- Second Photo Grid-->\n",
       " <div class=\"w3-row-padding w3-padding-16 w3-center\">\n",
       " <div class=\"w3-quarter\">\n",
       " <img alt=\"Popsicle\" src=\"/w3images/popsicle.jpg\" style=\"width:100%\"/>\n",
       " <h3>All I Need Is a Popsicle</h3>\n",
       " <p>Lorem ipsum text praesent tincidunt ipsum lipsum.</p>\n",
       " </div>\n",
       " <div class=\"w3-quarter\">\n",
       " <img alt=\"Salmon\" src=\"/w3images/salmon.jpg\" style=\"width:100%\"/>\n",
       " <h3>Salmon For Your Skin</h3>\n",
       " <p>Once again, some random text to lorem lorem lorem lorem ipsum text praesent tincidunt ipsum lipsum.</p>\n",
       " </div>\n",
       " <div class=\"w3-quarter\">\n",
       " <img alt=\"Sandwich\" src=\"/w3images/sandwich.jpg\" style=\"width:100%\"/>\n",
       " <h3>The Perfect Sandwich, A Real Classic</h3>\n",
       " <p>Just some random text, lorem ipsum text praesent tincidunt ipsum lipsum.</p>\n",
       " </div>\n",
       " <div class=\"w3-quarter\">\n",
       " <img alt=\"Croissant\" src=\"/w3images/croissant.jpg\" style=\"width:100%\"/>\n",
       " <h3>Le French</h3>\n",
       " <p>Lorem lorem lorem lorem ipsum text praesent tincidunt ipsum lipsum.</p>\n",
       " </div>\n",
       " </div>\n",
       " <!-- Pagination -->\n",
       " <div class=\"w3-center w3-padding-32\">\n",
       " <div class=\"w3-bar\">\n",
       " <a class=\"w3-bar-item w3-button w3-hover-black\" href=\"#\">«</a>\n",
       " <a class=\"w3-bar-item w3-black w3-button\" href=\"#\">1</a>\n",
       " <a class=\"w3-bar-item w3-button w3-hover-black\" href=\"#\">2</a>\n",
       " <a class=\"w3-bar-item w3-button w3-hover-black\" href=\"#\">3</a>\n",
       " <a class=\"w3-bar-item w3-button w3-hover-black\" href=\"#\">4</a>\n",
       " <a class=\"w3-bar-item w3-button w3-hover-black\" href=\"#\">»</a>\n",
       " </div>\n",
       " </div>\n",
       " <hr id=\"about\"/>\n",
       " <!-- About Section -->\n",
       " <div class=\"w3-container w3-padding-32 w3-center\">\n",
       " <h3>About Me, The Food Man</h3><br/>\n",
       " <img alt=\"Me\" class=\"w3-image\" height=\"533\" src=\"/w3images/chef.jpg\" style=\"display:block;margin:auto\" width=\"800\"/>\n",
       " <div class=\"w3-padding-32\">\n",
       " <h4><b>I am Who I Am!</b></h4>\n",
       " <h6><i>With Passion For Real, Good Food</i></h6>\n",
       " <p>Just me, myself and I, exploring the universe of unknownment. I have a heart of love and an interest of lorem ipsum and mauris neque quam blog. I want to share my world with you. Praesent tincidunt sed tellus ut rutrum. Sed vitae justo condimentum, porta lectus vitae, ultricies congue gravida diam non fringilla. Praesent tincidunt sed tellus ut rutrum. Sed vitae justo condimentum, porta lectus vitae, ultricies congue gravida diam non fringilla.</p>\n",
       " </div>\n",
       " </div>\n",
       " <hr/>\n",
       " <!-- Footer -->\n",
       " <footer class=\"w3-row-padding w3-padding-32\">\n",
       " <div class=\"w3-third\">\n",
       " <h3>FOOTER</h3>\n",
       " <p>Praesent tincidunt sed tellus ut rutrum. Sed vitae justo condimentum, porta lectus vitae, ultricies congue gravida diam non fringilla.</p>\n",
       " <p>Powered by <a href=\"https://www.w3schools.com/w3css/default.asp\" target=\"_blank\">w3.css</a></p>\n",
       " </div>\n",
       " <div class=\"w3-third\">\n",
       " <h3>BLOG POSTS</h3>\n",
       " <ul class=\"w3-ul w3-hoverable\">\n",
       " <li class=\"w3-padding-16\">\n",
       " <img class=\"w3-left w3-margin-right\" src=\"/w3images/workshop.jpg\" style=\"width:50px\"/>\n",
       " <span class=\"w3-large\">Lorem</span><br/>\n",
       " <span>Sed mattis nunc</span>\n",
       " </li>\n",
       " <li class=\"w3-padding-16\">\n",
       " <img class=\"w3-left w3-margin-right\" src=\"/w3images/gondol.jpg\" style=\"width:50px\"/>\n",
       " <span class=\"w3-large\">Ipsum</span><br/>\n",
       " <span>Praes tinci sed</span>\n",
       " </li>\n",
       " </ul>\n",
       " </div>\n",
       " <div class=\"w3-third w3-serif\">\n",
       " <h3>POPULAR TAGS</h3>\n",
       " <p>\n",
       " <span class=\"w3-tag w3-black w3-margin-bottom\">Travel</span> <span class=\"w3-tag w3-dark-grey w3-small w3-margin-bottom\">New York</span> <span class=\"w3-tag w3-dark-grey w3-small w3-margin-bottom\">Dinner</span>\n",
       " <span class=\"w3-tag w3-dark-grey w3-small w3-margin-bottom\">Salmon</span> <span class=\"w3-tag w3-dark-grey w3-small w3-margin-bottom\">France</span> <span class=\"w3-tag w3-dark-grey w3-small w3-margin-bottom\">Drinks</span>\n",
       " <span class=\"w3-tag w3-dark-grey w3-small w3-margin-bottom\">Ideas</span> <span class=\"w3-tag w3-dark-grey w3-small w3-margin-bottom\">Flavors</span> <span class=\"w3-tag w3-dark-grey w3-small w3-margin-bottom\">Cuisine</span>\n",
       " <span class=\"w3-tag w3-dark-grey w3-small w3-margin-bottom\">Chicken</span> <span class=\"w3-tag w3-dark-grey w3-small w3-margin-bottom\">Dressing</span> <span class=\"w3-tag w3-dark-grey w3-small w3-margin-bottom\">Fried</span>\n",
       " <span class=\"w3-tag w3-dark-grey w3-small w3-margin-bottom\">Fish</span> <span class=\"w3-tag w3-dark-grey w3-small w3-margin-bottom\">Duck</span>\n",
       " </p>\n",
       " </div>\n",
       " </footer>\n",
       " <!-- End page content -->\n",
       " </div>]"
      ]
     },
     "execution_count": 30,
     "metadata": {},
     "output_type": "execute_result"
    }
   ],
   "source": [
    "headers =soup.find_all(\"div\", class_=\"w3-main\")\n",
    "headers"
   ]
  },
  {
   "cell_type": "code",
   "execution_count": 31,
   "id": "9b1becc3",
   "metadata": {},
   "outputs": [
    {
     "data": {
      "text/plain": [
       "1"
      ]
     },
     "execution_count": 31,
     "metadata": {},
     "output_type": "execute_result"
    }
   ],
   "source": [
    "len(headers)"
   ]
  },
  {
   "cell_type": "code",
   "execution_count": 55,
   "id": "b743b13f",
   "metadata": {
    "scrolled": true
   },
   "outputs": [
    {
     "data": {
      "text/plain": [
       "[<div class=\"w3-quarter\">\n",
       " <img alt=\"Sandwich\" src=\"/w3images/sandwich.jpg\" style=\"width:100%\"/>\n",
       " <h3>The Perfect Sandwich, A Real NYC Classic</h3>\n",
       " <p>Just some random text, lorem ipsum text praesent tincidunt ipsum lipsum.</p>\n",
       " </div>,\n",
       " <div class=\"w3-quarter\">\n",
       " <img alt=\"Steak\" src=\"/w3images/steak.jpg\" style=\"width:100%\"/>\n",
       " <h3>Let Me Tell You About This Steak</h3>\n",
       " <p>Once again, some random text to lorem lorem lorem lorem ipsum text praesent tincidunt ipsum lipsum.</p>\n",
       " </div>,\n",
       " <div class=\"w3-quarter\">\n",
       " <img alt=\"Cherries\" src=\"/w3images/cherries.jpg\" style=\"width:100%\"/>\n",
       " <h3>Cherries, interrupted</h3>\n",
       " <p>Lorem ipsum text praesent tincidunt ipsum lipsum.</p>\n",
       " <p>What else?</p>\n",
       " </div>,\n",
       " <div class=\"w3-quarter\">\n",
       " <img alt=\"Pasta and Wine\" src=\"/w3images/wine.jpg\" style=\"width:100%\"/>\n",
       " <h3>Once Again, Robust Wine and Vegetable Pasta</h3>\n",
       " <p>Lorem ipsum text praesent tincidunt ipsum lipsum.</p>\n",
       " </div>,\n",
       " <div class=\"w3-quarter\">\n",
       " <img alt=\"Popsicle\" src=\"/w3images/popsicle.jpg\" style=\"width:100%\"/>\n",
       " <h3>All I Need Is a Popsicle</h3>\n",
       " <p>Lorem ipsum text praesent tincidunt ipsum lipsum.</p>\n",
       " </div>,\n",
       " <div class=\"w3-quarter\">\n",
       " <img alt=\"Salmon\" src=\"/w3images/salmon.jpg\" style=\"width:100%\"/>\n",
       " <h3>Salmon For Your Skin</h3>\n",
       " <p>Once again, some random text to lorem lorem lorem lorem ipsum text praesent tincidunt ipsum lipsum.</p>\n",
       " </div>,\n",
       " <div class=\"w3-quarter\">\n",
       " <img alt=\"Sandwich\" src=\"/w3images/sandwich.jpg\" style=\"width:100%\"/>\n",
       " <h3>The Perfect Sandwich, A Real Classic</h3>\n",
       " <p>Just some random text, lorem ipsum text praesent tincidunt ipsum lipsum.</p>\n",
       " </div>,\n",
       " <div class=\"w3-quarter\">\n",
       " <img alt=\"Croissant\" src=\"/w3images/croissant.jpg\" style=\"width:100%\"/>\n",
       " <h3>Le French</h3>\n",
       " <p>Lorem lorem lorem lorem ipsum text praesent tincidunt ipsum lipsum.</p>\n",
       " </div>]"
      ]
     },
     "execution_count": 55,
     "metadata": {},
     "output_type": "execute_result"
    }
   ],
   "source": [
    "quarter = soup.find_all(\"div\", class_=\"w3-quarter\")\n",
    "quarter"
   ]
  },
  {
   "cell_type": "code",
   "execution_count": 34,
   "id": "fb019708",
   "metadata": {},
   "outputs": [
    {
     "data": {
      "text/plain": [
       "8"
      ]
     },
     "execution_count": 34,
     "metadata": {},
     "output_type": "execute_result"
    }
   ],
   "source": [
    "len(soup.find_all(\"div\", class_=\"w3-quarter\"))"
   ]
  },
  {
   "cell_type": "code",
   "execution_count": 38,
   "id": "27b60034",
   "metadata": {},
   "outputs": [
    {
     "data": {
      "text/plain": [
       "<div class=\"w3-quarter\">\n",
       "<img alt=\"Popsicle\" src=\"/w3images/popsicle.jpg\" style=\"width:100%\"/>\n",
       "<h3>All I Need Is a Popsicle</h3>\n",
       "<p>Lorem ipsum text praesent tincidunt ipsum lipsum.</p>\n",
       "</div>"
      ]
     },
     "execution_count": 38,
     "metadata": {},
     "output_type": "execute_result"
    }
   ],
   "source": [
    "quarter[4]"
   ]
  },
  {
   "cell_type": "code",
   "execution_count": 40,
   "id": "c5686cc0",
   "metadata": {},
   "outputs": [
    {
     "data": {
      "text/plain": [
       "'\\n\\n\\nW3.CSS Template\\n\\n\\n\\n\\n\\n\\n\\n\\n\\nClose Menu\\nFood\\nAbout\\n\\n\\n\\n\\n☰\\nMail\\nMy Food\\n\\n\\n\\n\\n\\n\\n\\n\\nThe Perfect Sandwich, A Real NYC Classic\\nJust some random text, lorem ipsum text praesent tincidunt ipsum lipsum.\\n\\n\\n\\nLet Me Tell You About This Steak\\nOnce again, some random text to lorem lorem lorem lorem ipsum text praesent tincidunt ipsum lipsum.\\n\\n\\n\\nCherries, interrupted\\nLorem ipsum text praesent tincidunt ipsum lipsum.\\nWhat else?\\n\\n\\n\\nOnce Again, Robust Wine and Vegetable Pasta\\nLorem ipsum text praesent tincidunt ipsum lipsum.\\n\\n\\n\\n\\n\\n\\nAll I Need Is a Popsicle\\nLorem ipsum text praesent tincidunt ipsum lipsum.\\n\\n\\n\\nSalmon For Your Skin\\nOnce again, some random text to lorem lorem lorem lorem ipsum text praesent tincidunt ipsum lipsum.\\n\\n\\n\\nThe Perfect Sandwich, A Real Classic\\nJust some random text, lorem ipsum text praesent tincidunt ipsum lipsum.\\n\\n\\n\\nLe French\\nLorem lorem lorem lorem ipsum text praesent tincidunt ipsum lipsum.\\n\\n\\n\\n\\n\\n«\\n1\\n2\\n3\\n4\\n»\\n\\n\\n\\n\\n\\nAbout Me, The Food Man\\n\\n\\nI am Who I Am!\\nWith Passion For Real, Good Food\\nJust me, myself and I, exploring the universe of unknownment. I have a heart of love and an interest of lorem ipsum and mauris neque quam blog. I want to share my world with you. Praesent tincidunt sed tellus ut rutrum. Sed vitae justo condimentum, porta lectus vitae, ultricies congue gravida diam non fringilla. Praesent tincidunt sed tellus ut rutrum. Sed vitae justo condimentum, porta lectus vitae, ultricies congue gravida diam non fringilla.\\n\\n\\n\\n\\n\\n\\nFOOTER\\nPraesent tincidunt sed tellus ut rutrum. Sed vitae justo condimentum, porta lectus vitae, ultricies congue gravida diam non fringilla.\\nPowered by w3.css\\n\\n\\nBLOG POSTS\\n\\n\\n\\nLorem\\nSed mattis nunc\\n\\n\\n\\nIpsum\\nPraes tinci sed\\n\\n\\n\\n\\nPOPULAR TAGS\\n\\nTravel New York Dinner\\nSalmon France Drinks\\nIdeas Flavors Cuisine\\nChicken Dressing Fried\\nFish Duck\\n\\n\\n\\n\\n\\n\\n\\n'"
      ]
     },
     "execution_count": 40,
     "metadata": {},
     "output_type": "execute_result"
    }
   ],
   "source": [
    "soup.get_text()"
   ]
  },
  {
   "cell_type": "code",
   "execution_count": 41,
   "id": "ee7882d2",
   "metadata": {},
   "outputs": [
    {
     "data": {
      "text/plain": [
       "'W3.CSS TemplateClose MenuFoodAbout☰MailMy FoodThe Perfect Sandwich, A Real NYC ClassicJust some random text, lorem ipsum text praesent tincidunt ipsum lipsum.Let Me Tell You About This SteakOnce again, some random text to lorem lorem lorem lorem ipsum text praesent tincidunt ipsum lipsum.Cherries, interruptedLorem ipsum text praesent tincidunt ipsum lipsum.What else?Once Again, Robust Wine and Vegetable PastaLorem ipsum text praesent tincidunt ipsum lipsum.All I Need Is a PopsicleLorem ipsum text praesent tincidunt ipsum lipsum.Salmon For Your SkinOnce again, some random text to lorem lorem lorem lorem ipsum text praesent tincidunt ipsum lipsum.The Perfect Sandwich, A Real ClassicJust some random text, lorem ipsum text praesent tincidunt ipsum lipsum.Le FrenchLorem lorem lorem lorem ipsum text praesent tincidunt ipsum lipsum.«1234»About Me, The Food ManI am Who I Am!With Passion For Real, Good FoodJust me, myself and I, exploring the universe of unknownment. I have a heart of love and an interest of lorem ipsum and mauris neque quam blog. I want to share my world with you. Praesent tincidunt sed tellus ut rutrum. Sed vitae justo condimentum, porta lectus vitae, ultricies congue gravida diam non fringilla. Praesent tincidunt sed tellus ut rutrum. Sed vitae justo condimentum, porta lectus vitae, ultricies congue gravida diam non fringilla.FOOTERPraesent tincidunt sed tellus ut rutrum. Sed vitae justo condimentum, porta lectus vitae, ultricies congue gravida diam non fringilla.Powered byw3.cssBLOG POSTSLoremSed mattis nuncIpsumPraes tinci sedPOPULAR TAGSTravelNew YorkDinnerSalmonFranceDrinksIdeasFlavorsCuisineChickenDressingFriedFishDuck'"
      ]
     },
     "execution_count": 41,
     "metadata": {},
     "output_type": "execute_result"
    }
   ],
   "source": [
    "soup.get_text(strip = \"True\")"
   ]
  },
  {
   "cell_type": "code",
   "execution_count": 43,
   "id": "262e2ec1",
   "metadata": {},
   "outputs": [
    {
     "data": {
      "text/plain": [
       "'The Perfect Sandwich, A Real NYC Classic'"
      ]
     },
     "execution_count": 43,
     "metadata": {},
     "output_type": "execute_result"
    }
   ],
   "source": [
    "soup.h3.get_text()"
   ]
  },
  {
   "cell_type": "code",
   "execution_count": 44,
   "id": "0bdf83fa",
   "metadata": {},
   "outputs": [
    {
     "data": {
      "text/plain": [
       "[<div class=\"w3-quarter\">\n",
       " <img alt=\"Sandwich\" src=\"/w3images/sandwich.jpg\" style=\"width:100%\"/>\n",
       " <h3>The Perfect Sandwich, A Real NYC Classic</h3>\n",
       " <p>Just some random text, lorem ipsum text praesent tincidunt ipsum lipsum.</p>\n",
       " </div>,\n",
       " <div class=\"w3-quarter\">\n",
       " <img alt=\"Steak\" src=\"/w3images/steak.jpg\" style=\"width:100%\"/>\n",
       " <h3>Let Me Tell You About This Steak</h3>\n",
       " <p>Once again, some random text to lorem lorem lorem lorem ipsum text praesent tincidunt ipsum lipsum.</p>\n",
       " </div>,\n",
       " <div class=\"w3-quarter\">\n",
       " <img alt=\"Cherries\" src=\"/w3images/cherries.jpg\" style=\"width:100%\"/>\n",
       " <h3>Cherries, interrupted</h3>\n",
       " <p>Lorem ipsum text praesent tincidunt ipsum lipsum.</p>\n",
       " <p>What else?</p>\n",
       " </div>,\n",
       " <div class=\"w3-quarter\">\n",
       " <img alt=\"Pasta and Wine\" src=\"/w3images/wine.jpg\" style=\"width:100%\"/>\n",
       " <h3>Once Again, Robust Wine and Vegetable Pasta</h3>\n",
       " <p>Lorem ipsum text praesent tincidunt ipsum lipsum.</p>\n",
       " </div>,\n",
       " <div class=\"w3-quarter\">\n",
       " <img alt=\"Popsicle\" src=\"/w3images/popsicle.jpg\" style=\"width:100%\"/>\n",
       " <h3>All I Need Is a Popsicle</h3>\n",
       " <p>Lorem ipsum text praesent tincidunt ipsum lipsum.</p>\n",
       " </div>,\n",
       " <div class=\"w3-quarter\">\n",
       " <img alt=\"Salmon\" src=\"/w3images/salmon.jpg\" style=\"width:100%\"/>\n",
       " <h3>Salmon For Your Skin</h3>\n",
       " <p>Once again, some random text to lorem lorem lorem lorem ipsum text praesent tincidunt ipsum lipsum.</p>\n",
       " </div>,\n",
       " <div class=\"w3-quarter\">\n",
       " <img alt=\"Sandwich\" src=\"/w3images/sandwich.jpg\" style=\"width:100%\"/>\n",
       " <h3>The Perfect Sandwich, A Real Classic</h3>\n",
       " <p>Just some random text, lorem ipsum text praesent tincidunt ipsum lipsum.</p>\n",
       " </div>,\n",
       " <div class=\"w3-quarter\">\n",
       " <img alt=\"Croissant\" src=\"/w3images/croissant.jpg\" style=\"width:100%\"/>\n",
       " <h3>Le French</h3>\n",
       " <p>Lorem lorem lorem lorem ipsum text praesent tincidunt ipsum lipsum.</p>\n",
       " </div>]"
      ]
     },
     "execution_count": 44,
     "metadata": {},
     "output_type": "execute_result"
    }
   ],
   "source": [
    "quarter"
   ]
  },
  {
   "cell_type": "raw",
   "id": "335cb878",
   "metadata": {},
   "source": []
  },
  {
   "cell_type": "code",
   "execution_count": 50,
   "id": "bbb04326",
   "metadata": {},
   "outputs": [
    {
     "name": "stdout",
     "output_type": "stream",
     "text": [
      "\n",
      "\n",
      "The Perfect Sandwich, A Real NYC Classic\n",
      "Just some random text, lorem ipsum text praesent tincidunt ipsum lipsum.\n",
      "\n",
      "*******\n",
      "\n",
      "\n",
      "Let Me Tell You About This Steak\n",
      "Once again, some random text to lorem lorem lorem lorem ipsum text praesent tincidunt ipsum lipsum.\n",
      "\n",
      "*******\n",
      "\n",
      "\n",
      "Cherries, interrupted\n",
      "Lorem ipsum text praesent tincidunt ipsum lipsum.\n",
      "What else?\n",
      "\n",
      "*******\n",
      "\n",
      "\n",
      "Once Again, Robust Wine and Vegetable Pasta\n",
      "Lorem ipsum text praesent tincidunt ipsum lipsum.\n",
      "\n",
      "*******\n",
      "\n",
      "\n",
      "All I Need Is a Popsicle\n",
      "Lorem ipsum text praesent tincidunt ipsum lipsum.\n",
      "\n",
      "*******\n",
      "\n",
      "\n",
      "Salmon For Your Skin\n",
      "Once again, some random text to lorem lorem lorem lorem ipsum text praesent tincidunt ipsum lipsum.\n",
      "\n",
      "*******\n",
      "\n",
      "\n",
      "The Perfect Sandwich, A Real Classic\n",
      "Just some random text, lorem ipsum text praesent tincidunt ipsum lipsum.\n",
      "\n",
      "*******\n",
      "\n",
      "\n",
      "Le French\n",
      "Lorem lorem lorem lorem ipsum text praesent tincidunt ipsum lipsum.\n",
      "\n",
      "*******\n"
     ]
    }
   ],
   "source": [
    "for quart in quarter:\n",
    "    print(quart.get_text())\n",
    "    print(\"*******\")"
   ]
  },
  {
   "cell_type": "code",
   "execution_count": 51,
   "id": "b86ab31a",
   "metadata": {},
   "outputs": [
    {
     "data": {
      "text/plain": [
       "['\\n\\nThe Perfect Sandwich, A Real NYC Classic\\nJust some random text, lorem ipsum text praesent tincidunt ipsum lipsum.\\n',\n",
       " '\\n\\nLet Me Tell You About This Steak\\nOnce again, some random text to lorem lorem lorem lorem ipsum text praesent tincidunt ipsum lipsum.\\n',\n",
       " '\\n\\nCherries, interrupted\\nLorem ipsum text praesent tincidunt ipsum lipsum.\\nWhat else?\\n',\n",
       " '\\n\\nOnce Again, Robust Wine and Vegetable Pasta\\nLorem ipsum text praesent tincidunt ipsum lipsum.\\n',\n",
       " '\\n\\nAll I Need Is a Popsicle\\nLorem ipsum text praesent tincidunt ipsum lipsum.\\n',\n",
       " '\\n\\nSalmon For Your Skin\\nOnce again, some random text to lorem lorem lorem lorem ipsum text praesent tincidunt ipsum lipsum.\\n',\n",
       " '\\n\\nThe Perfect Sandwich, A Real Classic\\nJust some random text, lorem ipsum text praesent tincidunt ipsum lipsum.\\n',\n",
       " '\\n\\nLe French\\nLorem lorem lorem lorem ipsum text praesent tincidunt ipsum lipsum.\\n']"
      ]
     },
     "execution_count": 51,
     "metadata": {},
     "output_type": "execute_result"
    }
   ],
   "source": [
    "quarter_fl = []\n",
    "for quart in quarter:\n",
    "    quarter_fl.append(quart.get_text())\n",
    "    \n",
    "quarter_fl"
   ]
  },
  {
   "cell_type": "code",
   "execution_count": 57,
   "id": "c75851a5",
   "metadata": {},
   "outputs": [
    {
     "data": {
      "text/plain": [
       "['\\n\\nThe Perfect Sandwich, A Real NYC Classic\\nJust some random text, lorem ipsum text praesent tincidunt ipsum lipsum.\\n',\n",
       " '\\n\\nLet Me Tell You About This Steak\\nOnce again, some random text to lorem lorem lorem lorem ipsum text praesent tincidunt ipsum lipsum.\\n',\n",
       " '\\n\\nCherries, interrupted\\nLorem ipsum text praesent tincidunt ipsum lipsum.\\nWhat else?\\n',\n",
       " '\\n\\nOnce Again, Robust Wine and Vegetable Pasta\\nLorem ipsum text praesent tincidunt ipsum lipsum.\\n',\n",
       " '\\n\\nAll I Need Is a Popsicle\\nLorem ipsum text praesent tincidunt ipsum lipsum.\\n',\n",
       " '\\n\\nSalmon For Your Skin\\nOnce again, some random text to lorem lorem lorem lorem ipsum text praesent tincidunt ipsum lipsum.\\n',\n",
       " '\\n\\nThe Perfect Sandwich, A Real Classic\\nJust some random text, lorem ipsum text praesent tincidunt ipsum lipsum.\\n',\n",
       " '\\n\\nLe French\\nLorem lorem lorem lorem ipsum text praesent tincidunt ipsum lipsum.\\n']"
      ]
     },
     "execution_count": 57,
     "metadata": {},
     "output_type": "execute_result"
    }
   ],
   "source": [
    "quarter_lc = [quart.get_text() for quart in quarter]\n",
    "quarter_lc"
   ]
  },
  {
   "cell_type": "code",
   "execution_count": 61,
   "id": "abda5553",
   "metadata": {
    "scrolled": true
   },
   "outputs": [
    {
     "data": {
      "text/plain": [
       "[<div class=\"w3-quarter\">\n",
       " <img alt=\"Sandwich\" src=\"/w3images/sandwich.jpg\" style=\"width:100%\"/>\n",
       " <h3>The Perfect Sandwich, A Real NYC Classic</h3>\n",
       " <p>Just some random text, lorem ipsum text praesent tincidunt ipsum lipsum.</p>\n",
       " </div>,\n",
       " <div class=\"w3-quarter\">\n",
       " <img alt=\"Steak\" src=\"/w3images/steak.jpg\" style=\"width:100%\"/>\n",
       " <h3>Let Me Tell You About This Steak</h3>\n",
       " <p>Once again, some random text to lorem lorem lorem lorem ipsum text praesent tincidunt ipsum lipsum.</p>\n",
       " </div>,\n",
       " <div class=\"w3-quarter\">\n",
       " <img alt=\"Cherries\" src=\"/w3images/cherries.jpg\" style=\"width:100%\"/>\n",
       " <h3>Cherries, interrupted</h3>\n",
       " <p>Lorem ipsum text praesent tincidunt ipsum lipsum.</p>\n",
       " <p>What else?</p>\n",
       " </div>,\n",
       " <div class=\"w3-quarter\">\n",
       " <img alt=\"Pasta and Wine\" src=\"/w3images/wine.jpg\" style=\"width:100%\"/>\n",
       " <h3>Once Again, Robust Wine and Vegetable Pasta</h3>\n",
       " <p>Lorem ipsum text praesent tincidunt ipsum lipsum.</p>\n",
       " </div>,\n",
       " <div class=\"w3-quarter\">\n",
       " <img alt=\"Popsicle\" src=\"/w3images/popsicle.jpg\" style=\"width:100%\"/>\n",
       " <h3>All I Need Is a Popsicle</h3>\n",
       " <p>Lorem ipsum text praesent tincidunt ipsum lipsum.</p>\n",
       " </div>,\n",
       " <div class=\"w3-quarter\">\n",
       " <img alt=\"Salmon\" src=\"/w3images/salmon.jpg\" style=\"width:100%\"/>\n",
       " <h3>Salmon For Your Skin</h3>\n",
       " <p>Once again, some random text to lorem lorem lorem lorem ipsum text praesent tincidunt ipsum lipsum.</p>\n",
       " </div>,\n",
       " <div class=\"w3-quarter\">\n",
       " <img alt=\"Sandwich\" src=\"/w3images/sandwich.jpg\" style=\"width:100%\"/>\n",
       " <h3>The Perfect Sandwich, A Real Classic</h3>\n",
       " <p>Just some random text, lorem ipsum text praesent tincidunt ipsum lipsum.</p>\n",
       " </div>,\n",
       " <div class=\"w3-quarter\">\n",
       " <img alt=\"Croissant\" src=\"/w3images/croissant.jpg\" style=\"width:100%\"/>\n",
       " <h3>Le French</h3>\n",
       " <p>Lorem lorem lorem lorem ipsum text praesent tincidunt ipsum lipsum.</p>\n",
       " </div>]"
      ]
     },
     "execution_count": 61,
     "metadata": {},
     "output_type": "execute_result"
    }
   ],
   "source": [
    "quarter = soup.find_all(\"div\", class_=\"w3-quarter\")\n",
    "quarter"
   ]
  },
  {
   "cell_type": "code",
   "execution_count": 68,
   "id": "8848ab66",
   "metadata": {},
   "outputs": [
    {
     "data": {
      "text/plain": [
       "[<h3>The Perfect Sandwich, A Real NYC Classic</h3>,\n",
       " <h3>Let Me Tell You About This Steak</h3>,\n",
       " <h3>Cherries, interrupted</h3>,\n",
       " <h3>Once Again, Robust Wine and Vegetable Pasta</h3>,\n",
       " <h3>All I Need Is a Popsicle</h3>,\n",
       " <h3>Salmon For Your Skin</h3>,\n",
       " <h3>The Perfect Sandwich, A Real Classic</h3>,\n",
       " <h3>Le French</h3>,\n",
       " <h3>About Me, The Food Man</h3>,\n",
       " <h3>FOOTER</h3>,\n",
       " <h3>BLOG POSTS</h3>,\n",
       " <h3>POPULAR TAGS</h3>]"
      ]
     },
     "execution_count": 68,
     "metadata": {},
     "output_type": "execute_result"
    }
   ],
   "source": [
    "quarter_h = soup.find_all(\"h3\")\n",
    "quarter_h"
   ]
  },
  {
   "cell_type": "code",
   "execution_count": 69,
   "id": "7b990241",
   "metadata": {},
   "outputs": [
    {
     "name": "stdout",
     "output_type": "stream",
     "text": [
      "None\n",
      "None\n",
      "None\n",
      "None\n",
      "None\n",
      "None\n",
      "None\n",
      "None\n",
      "None\n",
      "None\n",
      "None\n",
      "None\n"
     ]
    }
   ],
   "source": [
    "for url in quarter_h:\n",
    "    print(url.get(\"href\"))"
   ]
  },
  {
   "cell_type": "code",
   "execution_count": 65,
   "id": "8d969d3b",
   "metadata": {},
   "outputs": [
    {
     "data": {
      "text/plain": [
       "[None, None, None, None, None, None, None, None, None, None, None, None]"
      ]
     },
     "execution_count": 65,
     "metadata": {},
     "output_type": "execute_result"
    }
   ],
   "source": [
    "links_fl = []\n",
    "for url in quarter_h:\n",
    "    links_fl.append(url.get(\"href\"))\n",
    "    \n",
    "links_fl"
   ]
  },
  {
   "cell_type": "code",
   "execution_count": 70,
   "id": "4b180f79",
   "metadata": {},
   "outputs": [
    {
     "data": {
      "text/plain": [
       "[None, None, None, None, None, None, None, None, None, None, None, None]"
      ]
     },
     "execution_count": 70,
     "metadata": {},
     "output_type": "execute_result"
    }
   ],
   "source": [
    "links_lc = [links.get(\"href\") for links in quarter_h]\n",
    "links_lc"
   ]
  },
  {
   "cell_type": "code",
   "execution_count": 71,
   "id": "16b877c7",
   "metadata": {},
   "outputs": [
    {
     "data": {
      "text/plain": [
       "[<h3>The Perfect Sandwich, A Real NYC Classic</h3>,\n",
       " <h3>Let Me Tell You About This Steak</h3>,\n",
       " <h3>Cherries, interrupted</h3>,\n",
       " <h3>Once Again, Robust Wine and Vegetable Pasta</h3>,\n",
       " <h3>All I Need Is a Popsicle</h3>,\n",
       " <h3>Salmon For Your Skin</h3>,\n",
       " <h3>The Perfect Sandwich, A Real Classic</h3>,\n",
       " <h3>Le French</h3>,\n",
       " <h3>About Me, The Food Man</h3>,\n",
       " <h3>FOOTER</h3>,\n",
       " <h3>BLOG POSTS</h3>,\n",
       " <h3>POPULAR TAGS</h3>]"
      ]
     },
     "execution_count": 71,
     "metadata": {},
     "output_type": "execute_result"
    }
   ],
   "source": [
    "quarter"
   ]
  },
  {
   "cell_type": "code",
   "execution_count": 72,
   "id": "d3447bae",
   "metadata": {},
   "outputs": [
    {
     "data": {
      "text/plain": [
       "[<div class=\"w3-quarter\">\n",
       " <img alt=\"Sandwich\" src=\"/w3images/sandwich.jpg\" style=\"width:100%\"/>\n",
       " <h3>The Perfect Sandwich, A Real NYC Classic</h3>\n",
       " <p>Just some random text, lorem ipsum text praesent tincidunt ipsum lipsum.</p>\n",
       " </div>,\n",
       " <div class=\"w3-quarter\">\n",
       " <img alt=\"Steak\" src=\"/w3images/steak.jpg\" style=\"width:100%\"/>\n",
       " <h3>Let Me Tell You About This Steak</h3>\n",
       " <p>Once again, some random text to lorem lorem lorem lorem ipsum text praesent tincidunt ipsum lipsum.</p>\n",
       " </div>,\n",
       " <div class=\"w3-quarter\">\n",
       " <img alt=\"Cherries\" src=\"/w3images/cherries.jpg\" style=\"width:100%\"/>\n",
       " <h3>Cherries, interrupted</h3>\n",
       " <p>Lorem ipsum text praesent tincidunt ipsum lipsum.</p>\n",
       " <p>What else?</p>\n",
       " </div>,\n",
       " <div class=\"w3-quarter\">\n",
       " <img alt=\"Pasta and Wine\" src=\"/w3images/wine.jpg\" style=\"width:100%\"/>\n",
       " <h3>Once Again, Robust Wine and Vegetable Pasta</h3>\n",
       " <p>Lorem ipsum text praesent tincidunt ipsum lipsum.</p>\n",
       " </div>,\n",
       " <div class=\"w3-quarter\">\n",
       " <img alt=\"Popsicle\" src=\"/w3images/popsicle.jpg\" style=\"width:100%\"/>\n",
       " <h3>All I Need Is a Popsicle</h3>\n",
       " <p>Lorem ipsum text praesent tincidunt ipsum lipsum.</p>\n",
       " </div>,\n",
       " <div class=\"w3-quarter\">\n",
       " <img alt=\"Salmon\" src=\"/w3images/salmon.jpg\" style=\"width:100%\"/>\n",
       " <h3>Salmon For Your Skin</h3>\n",
       " <p>Once again, some random text to lorem lorem lorem lorem ipsum text praesent tincidunt ipsum lipsum.</p>\n",
       " </div>,\n",
       " <div class=\"w3-quarter\">\n",
       " <img alt=\"Sandwich\" src=\"/w3images/sandwich.jpg\" style=\"width:100%\"/>\n",
       " <h3>The Perfect Sandwich, A Real Classic</h3>\n",
       " <p>Just some random text, lorem ipsum text praesent tincidunt ipsum lipsum.</p>\n",
       " </div>,\n",
       " <div class=\"w3-quarter\">\n",
       " <img alt=\"Croissant\" src=\"/w3images/croissant.jpg\" style=\"width:100%\"/>\n",
       " <h3>Le French</h3>\n",
       " <p>Lorem lorem lorem lorem ipsum text praesent tincidunt ipsum lipsum.</p>\n",
       " </div>]"
      ]
     },
     "execution_count": 72,
     "metadata": {},
     "output_type": "execute_result"
    }
   ],
   "source": [
    "quarter = soup.find_all(\"div\", class_=\"w3-quarter\")\n",
    "quarter"
   ]
  },
  {
   "cell_type": "code",
   "execution_count": 73,
   "id": "6ee0c048",
   "metadata": {
    "scrolled": true
   },
   "outputs": [
    {
     "data": {
      "text/plain": [
       "[<div class=\"w3-quarter\">\n",
       " <img alt=\"Sandwich\" src=\"/w3images/sandwich.jpg\" style=\"width:100%\"/>\n",
       " <h3>The Perfect Sandwich, A Real NYC Classic</h3>\n",
       " <p>Just some random text, lorem ipsum text praesent tincidunt ipsum lipsum.</p>\n",
       " </div>,\n",
       " <div class=\"w3-quarter\">\n",
       " <img alt=\"Steak\" src=\"/w3images/steak.jpg\" style=\"width:100%\"/>\n",
       " <h3>Let Me Tell You About This Steak</h3>\n",
       " <p>Once again, some random text to lorem lorem lorem lorem ipsum text praesent tincidunt ipsum lipsum.</p>\n",
       " </div>,\n",
       " <div class=\"w3-quarter\">\n",
       " <img alt=\"Cherries\" src=\"/w3images/cherries.jpg\" style=\"width:100%\"/>\n",
       " <h3>Cherries, interrupted</h3>\n",
       " <p>Lorem ipsum text praesent tincidunt ipsum lipsum.</p>\n",
       " <p>What else?</p>\n",
       " </div>,\n",
       " <div class=\"w3-quarter\">\n",
       " <img alt=\"Pasta and Wine\" src=\"/w3images/wine.jpg\" style=\"width:100%\"/>\n",
       " <h3>Once Again, Robust Wine and Vegetable Pasta</h3>\n",
       " <p>Lorem ipsum text praesent tincidunt ipsum lipsum.</p>\n",
       " </div>,\n",
       " <div class=\"w3-quarter\">\n",
       " <img alt=\"Popsicle\" src=\"/w3images/popsicle.jpg\" style=\"width:100%\"/>\n",
       " <h3>All I Need Is a Popsicle</h3>\n",
       " <p>Lorem ipsum text praesent tincidunt ipsum lipsum.</p>\n",
       " </div>,\n",
       " <div class=\"w3-quarter\">\n",
       " <img alt=\"Salmon\" src=\"/w3images/salmon.jpg\" style=\"width:100%\"/>\n",
       " <h3>Salmon For Your Skin</h3>\n",
       " <p>Once again, some random text to lorem lorem lorem lorem ipsum text praesent tincidunt ipsum lipsum.</p>\n",
       " </div>,\n",
       " <div class=\"w3-quarter\">\n",
       " <img alt=\"Sandwich\" src=\"/w3images/sandwich.jpg\" style=\"width:100%\"/>\n",
       " <h3>The Perfect Sandwich, A Real Classic</h3>\n",
       " <p>Just some random text, lorem ipsum text praesent tincidunt ipsum lipsum.</p>\n",
       " </div>,\n",
       " <div class=\"w3-quarter\">\n",
       " <img alt=\"Croissant\" src=\"/w3images/croissant.jpg\" style=\"width:100%\"/>\n",
       " <h3>Le French</h3>\n",
       " <p>Lorem lorem lorem lorem ipsum text praesent tincidunt ipsum lipsum.</p>\n",
       " </div>]"
      ]
     },
     "execution_count": 73,
     "metadata": {},
     "output_type": "execute_result"
    }
   ],
   "source": [
    "quarter"
   ]
  },
  {
   "cell_type": "code",
   "execution_count": 74,
   "id": "ffeb114f",
   "metadata": {
    "scrolled": true
   },
   "outputs": [
    {
     "data": {
      "text/plain": [
       "[<div class=\"w3-quarter\">\n",
       " <img alt=\"Sandwich\" src=\"/w3images/sandwich.jpg\" style=\"width:100%\"/>\n",
       " <h3>The Perfect Sandwich, A Real NYC Classic</h3>\n",
       " <p>Just some random text, lorem ipsum text praesent tincidunt ipsum lipsum.</p>\n",
       " </div>,\n",
       " <div class=\"w3-quarter\">\n",
       " <img alt=\"Steak\" src=\"/w3images/steak.jpg\" style=\"width:100%\"/>\n",
       " <h3>Let Me Tell You About This Steak</h3>\n",
       " <p>Once again, some random text to lorem lorem lorem lorem ipsum text praesent tincidunt ipsum lipsum.</p>\n",
       " </div>,\n",
       " <div class=\"w3-quarter\">\n",
       " <img alt=\"Cherries\" src=\"/w3images/cherries.jpg\" style=\"width:100%\"/>\n",
       " <h3>Cherries, interrupted</h3>\n",
       " <p>Lorem ipsum text praesent tincidunt ipsum lipsum.</p>\n",
       " <p>What else?</p>\n",
       " </div>,\n",
       " <div class=\"w3-quarter\">\n",
       " <img alt=\"Pasta and Wine\" src=\"/w3images/wine.jpg\" style=\"width:100%\"/>\n",
       " <h3>Once Again, Robust Wine and Vegetable Pasta</h3>\n",
       " <p>Lorem ipsum text praesent tincidunt ipsum lipsum.</p>\n",
       " </div>,\n",
       " <div class=\"w3-quarter\">\n",
       " <img alt=\"Popsicle\" src=\"/w3images/popsicle.jpg\" style=\"width:100%\"/>\n",
       " <h3>All I Need Is a Popsicle</h3>\n",
       " <p>Lorem ipsum text praesent tincidunt ipsum lipsum.</p>\n",
       " </div>,\n",
       " <div class=\"w3-quarter\">\n",
       " <img alt=\"Salmon\" src=\"/w3images/salmon.jpg\" style=\"width:100%\"/>\n",
       " <h3>Salmon For Your Skin</h3>\n",
       " <p>Once again, some random text to lorem lorem lorem lorem ipsum text praesent tincidunt ipsum lipsum.</p>\n",
       " </div>,\n",
       " <div class=\"w3-quarter\">\n",
       " <img alt=\"Sandwich\" src=\"/w3images/sandwich.jpg\" style=\"width:100%\"/>\n",
       " <h3>The Perfect Sandwich, A Real Classic</h3>\n",
       " <p>Just some random text, lorem ipsum text praesent tincidunt ipsum lipsum.</p>\n",
       " </div>,\n",
       " <div class=\"w3-quarter\">\n",
       " <img alt=\"Croissant\" src=\"/w3images/croissant.jpg\" style=\"width:100%\"/>\n",
       " <h3>Le French</h3>\n",
       " <p>Lorem lorem lorem lorem ipsum text praesent tincidunt ipsum lipsum.</p>\n",
       " </div>]"
      ]
     },
     "execution_count": 74,
     "metadata": {},
     "output_type": "execute_result"
    }
   ],
   "source": [
    "titles = soup.find_all(\"div\", class_=\"w3-quarter\")\n",
    "titles"
   ]
  },
  {
   "cell_type": "code",
   "execution_count": 75,
   "id": "1df9daac",
   "metadata": {},
   "outputs": [
    {
     "data": {
      "text/plain": [
       "['\\n\\nThe Perfect Sandwich, A Real NYC Classic\\nJust some random text, lorem ipsum text praesent tincidunt ipsum lipsum.\\n',\n",
       " '\\n\\nLet Me Tell You About This Steak\\nOnce again, some random text to lorem lorem lorem lorem ipsum text praesent tincidunt ipsum lipsum.\\n',\n",
       " '\\n\\nCherries, interrupted\\nLorem ipsum text praesent tincidunt ipsum lipsum.\\nWhat else?\\n',\n",
       " '\\n\\nOnce Again, Robust Wine and Vegetable Pasta\\nLorem ipsum text praesent tincidunt ipsum lipsum.\\n',\n",
       " '\\n\\nAll I Need Is a Popsicle\\nLorem ipsum text praesent tincidunt ipsum lipsum.\\n',\n",
       " '\\n\\nSalmon For Your Skin\\nOnce again, some random text to lorem lorem lorem lorem ipsum text praesent tincidunt ipsum lipsum.\\n',\n",
       " '\\n\\nThe Perfect Sandwich, A Real Classic\\nJust some random text, lorem ipsum text praesent tincidunt ipsum lipsum.\\n',\n",
       " '\\n\\nLe French\\nLorem lorem lorem lorem ipsum text praesent tincidunt ipsum lipsum.\\n']"
      ]
     },
     "execution_count": 75,
     "metadata": {},
     "output_type": "execute_result"
    }
   ],
   "source": [
    "title_fl = []\n",
    "for title in titles:\n",
    "    title_fl.append(title.get_text())\n",
    "    \n",
    "title_fl"
   ]
  },
  {
   "cell_type": "code",
   "execution_count": 76,
   "id": "bfe71191",
   "metadata": {},
   "outputs": [
    {
     "data": {
      "text/plain": [
       "['\\n\\nThe Perfect Sandwich, A Real NYC Classic\\nJust some random text, lorem ipsum text praesent tincidunt ipsum lipsum.\\n',\n",
       " '\\n\\nLet Me Tell You About This Steak\\nOnce again, some random text to lorem lorem lorem lorem ipsum text praesent tincidunt ipsum lipsum.\\n',\n",
       " '\\n\\nCherries, interrupted\\nLorem ipsum text praesent tincidunt ipsum lipsum.\\nWhat else?\\n',\n",
       " '\\n\\nOnce Again, Robust Wine and Vegetable Pasta\\nLorem ipsum text praesent tincidunt ipsum lipsum.\\n',\n",
       " '\\n\\nAll I Need Is a Popsicle\\nLorem ipsum text praesent tincidunt ipsum lipsum.\\n',\n",
       " '\\n\\nSalmon For Your Skin\\nOnce again, some random text to lorem lorem lorem lorem ipsum text praesent tincidunt ipsum lipsum.\\n',\n",
       " '\\n\\nThe Perfect Sandwich, A Real Classic\\nJust some random text, lorem ipsum text praesent tincidunt ipsum lipsum.\\n',\n",
       " '\\n\\nLe French\\nLorem lorem lorem lorem ipsum text praesent tincidunt ipsum lipsum.\\n']"
      ]
     },
     "execution_count": 76,
     "metadata": {},
     "output_type": "execute_result"
    }
   ],
   "source": [
    "title_lc = [title.get_text() for title in titles]\n",
    "title_lc"
   ]
  },
  {
   "cell_type": "code",
   "execution_count": null,
   "id": "61e6f3db",
   "metadata": {},
   "outputs": [],
   "source": []
  }
 ],
 "metadata": {
  "kernelspec": {
   "display_name": "Python 3 (ipykernel)",
   "language": "python",
   "name": "python3"
  },
  "language_info": {
   "codemirror_mode": {
    "name": "ipython",
    "version": 3
   },
   "file_extension": ".py",
   "mimetype": "text/x-python",
   "name": "python",
   "nbconvert_exporter": "python",
   "pygments_lexer": "ipython3",
   "version": "3.11.5"
  }
 },
 "nbformat": 4,
 "nbformat_minor": 5
}
