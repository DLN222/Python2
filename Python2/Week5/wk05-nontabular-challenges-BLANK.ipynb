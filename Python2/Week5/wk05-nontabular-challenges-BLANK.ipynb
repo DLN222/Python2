{
 "cells": [
  {
   "cell_type": "markdown",
   "metadata": {
    "id": "s1gmCxq4kQCP"
   },
   "source": [
    "# Challenges Scraping Non-Tabular Data\n",
    "\n",
    "On <a href=\"https://sandeepmj.github.io/scrape-example-page\">this demo page</a> I've reproduced several variations of issues we are likely to encounter when scraping.\n",
    "\n",
    "- Review scrape of an well-organized page.\n",
    "- Dynamically getting column names.\n",
    "- Scraping a challenging page.\n",
    "- Excluding multi-classes.\n",
    "\n",
    "\n",
    "Let's start by scraping <a href=\"https://sandeepmj.github.io/scrape-example-page/#organized\">the organized CEO data</a>."
   ]
  },
  {
   "cell_type": "code",
   "execution_count": 8,
   "metadata": {},
   "outputs": [],
   "source": [
    "## import libraries\n",
    "\n",
    "import pandas as pd\n",
    "from bs4 import BeautifulSoup\n",
    "import requests"
   ]
  },
  {
   "cell_type": "code",
   "execution_count": 9,
   "metadata": {},
   "outputs": [],
   "source": [
    "## target url\n",
    "url = \"https://sandeepmj.github.io/scrape-example-page/#organized\""
   ]
  },
  {
   "cell_type": "code",
   "execution_count": 10,
   "metadata": {},
   "outputs": [],
   "source": [
    "## response\n",
    "\n",
    "response = requests.get(url)"
   ]
  },
  {
   "cell_type": "code",
   "execution_count": 12,
   "metadata": {},
   "outputs": [],
   "source": [
    "## turn into soup\n",
    "\n",
    "soup = BeautifulSoup(response.text, \"html.parser\")"
   ]
  },
  {
   "cell_type": "code",
   "execution_count": 15,
   "metadata": {
    "collapsed": true
   },
   "outputs": [
    {
     "data": {
      "text/plain": [
       "<section id=\"organized\">\n",
       "<h2>Organized - Top 5 Compensated CEOs in 2018</h2>\n",
       "<div class=\"ceo\">\n",
       "<p class=\"rank\">Rank: 1</p>\n",
       "<p class=\"name\">Name: Hock E. Tan</p>\n",
       "<p class=\"annual_compensation\">Annual Compensation: $103.2 million</p>\n",
       "<p class=\"company\">Company: Broadcom</p>\n",
       "</div>\n",
       "<div class=\"ceo\">\n",
       "<p class=\"rank\">Rank: 2</p>\n",
       "<p class=\"name\">Name: Frank Bisignano</p>\n",
       "<p class=\"annual_compensation\">Annual Compensation: $102.2 million</p>\n",
       "<p class=\"company\">Company: First Data (FDC)</p>\n",
       "</div>\n",
       "<div class=\"ceo\">\n",
       "<p class=\"rank\">Rank: 3</p>\n",
       "<p class=\"name\">Name: Michael Rapino</p>\n",
       "<p class=\"annual_compensation\">Annual Compensation: $70.6 million</p>\n",
       "<p class=\"company\">Company: Live Nation Entertainment (LYV)</p>\n",
       "</div>\n",
       "<div class=\"ceo\">\n",
       "<p class=\"rank\">Rank: 4</p>\n",
       "<p class=\"name\">Name: Leslie Moonves</p>\n",
       "<p class=\"annual_compensation\">Annual Compensation: 68.4 million</p>\n",
       "<p class=\"company\">Company: CBS</p>\n",
       "</div>\n",
       "<div class=\"ceo\">\n",
       "<p class=\"rank\">Rank: 5</p>\n",
       "<p class=\"name\">Name: Gregory Maffei</p>\n",
       "<p class=\"annual_compensation\">Annual Compensation: $67.2 million</p>\n",
       "<p class=\"company\">Company: Liberty Media &amp; Qurate Retail Group</p>\n",
       "</div>\n",
       "</section>"
      ]
     },
     "execution_count": 15,
     "metadata": {},
     "output_type": "execute_result"
    }
   ],
   "source": [
    "## scrape\n",
    "\n",
    "organized = soup.find(id=\"organized\")\n",
    "organized"
   ]
  },
  {
   "cell_type": "code",
   "execution_count": 16,
   "metadata": {},
   "outputs": [
    {
     "data": {
      "text/plain": [
       "bs4.element.Tag"
      ]
     },
     "execution_count": 16,
     "metadata": {},
     "output_type": "execute_result"
    }
   ],
   "source": [
    "type(organized)"
   ]
  },
  {
   "cell_type": "code",
   "execution_count": 31,
   "metadata": {},
   "outputs": [
    {
     "data": {
      "text/plain": [
       "[<div class=\"ceo\">\n",
       " <p class=\"rank\">Rank: 1</p>\n",
       " <p class=\"name\">Name: Hock E. Tan</p>\n",
       " <p class=\"annual_compensation\">Annual Compensation: $103.2 million</p>\n",
       " <p class=\"company\">Company: Broadcom</p>\n",
       " </div>,\n",
       " <div class=\"ceo\">\n",
       " <p class=\"rank\">Rank: 2</p>\n",
       " <p class=\"name\">Name: Frank Bisignano</p>\n",
       " <p class=\"annual_compensation\">Annual Compensation: $102.2 million</p>\n",
       " <p class=\"company\">Company: First Data (FDC)</p>\n",
       " </div>,\n",
       " <div class=\"ceo\">\n",
       " <p class=\"rank\">Rank: 3</p>\n",
       " <p class=\"name\">Name: Michael Rapino</p>\n",
       " <p class=\"annual_compensation\">Annual Compensation: $70.6 million</p>\n",
       " <p class=\"company\">Company: Live Nation Entertainment (LYV)</p>\n",
       " </div>,\n",
       " <div class=\"ceo\">\n",
       " <p class=\"rank\">Rank: 4</p>\n",
       " <p class=\"name\">Name: Leslie Moonves</p>\n",
       " <p class=\"annual_compensation\">Annual Compensation: 68.4 million</p>\n",
       " <p class=\"company\">Company: CBS</p>\n",
       " </div>,\n",
       " <div class=\"ceo\">\n",
       " <p class=\"rank\">Rank: 5</p>\n",
       " <p class=\"name\">Name: Gregory Maffei</p>\n",
       " <p class=\"annual_compensation\">Annual Compensation: $67.2 million</p>\n",
       " <p class=\"company\">Company: Liberty Media &amp; Qurate Retail Group</p>\n",
       " </div>]"
      ]
     },
     "execution_count": 31,
     "metadata": {},
     "output_type": "execute_result"
    }
   ],
   "source": [
    "## isolate ceos\n",
    "\n",
    "ceos = organized.find_all('div', class_=\"ceo\")\n",
    "ceos"
   ]
  },
  {
   "cell_type": "code",
   "execution_count": 32,
   "metadata": {},
   "outputs": [
    {
     "data": {
      "text/plain": [
       "['Hock E. Tan',\n",
       " 'Frank Bisignano',\n",
       " 'Michael Rapino',\n",
       " 'Leslie Moonves',\n",
       " 'Gregory Maffei']"
      ]
     },
     "execution_count": 32,
     "metadata": {},
     "output_type": "execute_result"
    }
   ],
   "source": [
    "## find all the names using FL\n",
    "names_fl = []\n",
    "for ceo in ceos:\n",
    "    names_fl.append(ceo.find(\"p\", class_=\"name\").get_text().replace(\"Name: \", \"\"))\n",
    "    \n",
    "names_fl"
   ]
  },
  {
   "cell_type": "code",
   "execution_count": 34,
   "metadata": {},
   "outputs": [
    {
     "data": {
      "text/plain": [
       "['Hock E. Tan',\n",
       " 'Frank Bisignano',\n",
       " 'Michael Rapino',\n",
       " 'Leslie Moonves',\n",
       " 'Gregory Maffei']"
      ]
     },
     "execution_count": 34,
     "metadata": {},
     "output_type": "execute_result"
    }
   ],
   "source": [
    "names_lc = [name.find(\"p\", class_=\"name\").get_text().replace(\"Name: \", \"\") for name in ceos]\n",
    "names_lc"
   ]
  },
  {
   "cell_type": "code",
   "execution_count": null,
   "metadata": {},
   "outputs": [],
   "source": [
    "for artist in artists:\n",
    "    print(artist.get_text())"
   ]
  },
  {
   "cell_type": "code",
   "execution_count": 35,
   "metadata": {},
   "outputs": [
    {
     "data": {
      "text/plain": [
       "<p class=\"name\">Name: Hock E. Tan</p>"
      ]
     },
     "execution_count": 35,
     "metadata": {},
     "output_type": "execute_result"
    }
   ],
   "source": [
    "name = soup.find(\"p\", class_=\"name\")\n",
    "name"
   ]
  },
  {
   "cell_type": "code",
   "execution_count": 22,
   "metadata": {
    "collapsed": true
   },
   "outputs": [
    {
     "data": {
      "text/plain": [
       "[<p class=\"annual_compensation\">Annual Compensation: $103.2 million</p>,\n",
       " <p class=\"annual_compensation\">Annual Compensation: $102.2 million</p>,\n",
       " <p class=\"annual_compensation\">Annual Compensation: $70.6 million</p>,\n",
       " <p class=\"annual_compensation\">Annual Compensation: 68.4 million</p>,\n",
       " <p class=\"annual_compensation\">Annual Compensation: $67.2 million</p>,\n",
       " <p class=\"annual_compensation\"><span>Annual compensation:</span> $103.2 million</p>,\n",
       " <p class=\"annual_compensation\"><span>Annual Compensation:</span> $102.2 million</p>,\n",
       " <p class=\"annual_compensation\"><span>Annual Compensation:</span> $70.6 million</p>,\n",
       " <p class=\"annual_compensation\"><span>Annual Compensation:</span> 68.4 million</p>,\n",
       " <p class=\"annual_compensation\"><span>Annual Compensation:</span> $67.2 million</p>,\n",
       " <p class=\"annual_compensation\">Annual Compensation: $103.2 million</p>,\n",
       " <p class=\"annual_compensation\">Annual Compensation: $102.2 million</p>,\n",
       " <p class=\"annual_compensation\">Annual Compensation: $70.6 million</p>,\n",
       " <p class=\"annual_compensation\">Annual Compensation: 68.4 million</p>,\n",
       " <p class=\"annual_compensation\">Annual Compensation: $67.2 million</p>]"
      ]
     },
     "execution_count": 22,
     "metadata": {},
     "output_type": "execute_result"
    }
   ],
   "source": [
    "annual_compensation = soup.find_all(\"p\", class_=\"annual_compensation\")\n",
    "annual_compensation"
   ]
  },
  {
   "cell_type": "code",
   "execution_count": 40,
   "metadata": {},
   "outputs": [
    {
     "ename": "AttributeError",
     "evalue": "'NoneType' object has no attribute 'get_text'",
     "output_type": "error",
     "traceback": [
      "\u001b[0;31m---------------------------------------------------------------------------\u001b[0m",
      "\u001b[0;31mAttributeError\u001b[0m                            Traceback (most recent call last)",
      "Cell \u001b[0;32mIn[40], line 3\u001b[0m\n\u001b[1;32m      1\u001b[0m annual_compensation_fl \u001b[38;5;241m=\u001b[39m []\n\u001b[1;32m      2\u001b[0m \u001b[38;5;28;01mfor\u001b[39;00m comp \u001b[38;5;129;01min\u001b[39;00m annual_compensation:\n\u001b[0;32m----> 3\u001b[0m     names_fl\u001b[38;5;241m.\u001b[39mappend(comp\u001b[38;5;241m.\u001b[39mfind(\u001b[38;5;124m\"\u001b[39m\u001b[38;5;124mp\u001b[39m\u001b[38;5;124m\"\u001b[39m, class_\u001b[38;5;241m=\u001b[39m\u001b[38;5;124m\"\u001b[39m\u001b[38;5;124mannual_compensation\u001b[39m\u001b[38;5;124m\"\u001b[39m)\u001b[38;5;241m.\u001b[39mget_text()\u001b[38;5;241m.\u001b[39mreplace(\u001b[38;5;124m\"\u001b[39m\u001b[38;5;124mannual compensation: \u001b[39m\u001b[38;5;124m\"\u001b[39m, \u001b[38;5;124m\"\u001b[39m\u001b[38;5;124m\"\u001b[39m))\n\u001b[1;32m      5\u001b[0m annual_compensation_fl\n\u001b[1;32m      9\u001b[0m names_fl \u001b[38;5;241m=\u001b[39m []\n",
      "\u001b[0;31mAttributeError\u001b[0m: 'NoneType' object has no attribute 'get_text'"
     ]
    }
   ],
   "source": [
    "annual_compensation_fl = []\n",
    "for comp in annual_compensation:\n",
    "    names_fl.append(comp.find(\"p\", class_=\"annual_compensation\").get_text().replace(\"annual compensation: \", \"\"))\n",
    "    \n",
    "annual_compensation_fl\n",
    "\n"
   ]
  },
  {
   "cell_type": "code",
   "execution_count": null,
   "metadata": {},
   "outputs": [],
   "source": []
  },
  {
   "cell_type": "code",
   "execution_count": 41,
   "metadata": {},
   "outputs": [
    {
     "ename": "NameError",
     "evalue": "name 'ceo_list' is not defined",
     "output_type": "error",
     "traceback": [
      "\u001b[0;31m---------------------------------------------------------------------------\u001b[0m",
      "\u001b[0;31mNameError\u001b[0m                                 Traceback (most recent call last)",
      "Cell \u001b[0;32mIn[41], line 1\u001b[0m\n\u001b[0;32m----> 1\u001b[0m pd\u001b[38;5;241m.\u001b[39mDataFrame(ceo_list)\n",
      "\u001b[0;31mNameError\u001b[0m: name 'ceo_list' is not defined"
     ]
    }
   ],
   "source": [
    "pd.DataFrame(ceo_list)"
   ]
  },
  {
   "cell_type": "code",
   "execution_count": 37,
   "metadata": {},
   "outputs": [
    {
     "data": {
      "text/plain": [
       "['Annual Compensation: $103.2 million',\n",
       " 'Annual Compensation: $102.2 million',\n",
       " 'Annual Compensation: $70.6 million',\n",
       " 'Annual Compensation: 68.4 million',\n",
       " 'Annual Compensation: $67.2 million']"
      ]
     },
     "execution_count": 37,
     "metadata": {},
     "output_type": "execute_result"
    }
   ],
   "source": [
    "compensation_lc = [annual_comp.find(\"p\", class_=\"annual_compensation\").get_text().replace(\"annual_compensation: \", \"\") for annual_comp in ceos]\n",
    "compensation_lc"
   ]
  },
  {
   "cell_type": "code",
   "execution_count": 50,
   "metadata": {},
   "outputs": [
    {
     "data": {
      "text/plain": [
       "[<p class=\"company\">Company: Broadcom</p>,\n",
       " <p class=\"company\">Company: First Data (FDC)</p>,\n",
       " <p class=\"company\">Company: Live Nation Entertainment (LYV)</p>,\n",
       " <p class=\"company\">Company: CBS</p>,\n",
       " <p class=\"company\">Company: Liberty Media &amp; Qurate Retail Group</p>,\n",
       " <p class=\"company\"><span>Company:</span> Broadcom</p>,\n",
       " <p class=\"company\"><span>Company:</span> First Data (FDC)</p>,\n",
       " <p class=\"company\"><span>Company:</span> Live Nation Entertainment (LYV)</p>,\n",
       " <p class=\"company\"><span>Company:</span> CBS</p>,\n",
       " <p class=\"company\"><span>Company:</span> Liberty Media &amp; Qurate Retail Group</p>,\n",
       " <p class=\"company\">Company: Broadcom</p>,\n",
       " <p class=\"company\">Company: First Data (FDC)</p>,\n",
       " <p class=\"company\">Company: Live Nation Entertainment (LYV)</p>,\n",
       " <p class=\"company\">Company: CBS</p>,\n",
       " <p class=\"company\">Company: Qurate Retail Group</p>]"
      ]
     },
     "execution_count": 50,
     "metadata": {},
     "output_type": "execute_result"
    }
   ],
   "source": [
    "company_names = soup.find_all(\"p\", class_=\"company\")\n",
    "company_names"
   ]
  },
  {
   "cell_type": "code",
   "execution_count": 46,
   "metadata": {},
   "outputs": [
    {
     "ename": "NameError",
     "evalue": "name 'company_names' is not defined",
     "output_type": "error",
     "traceback": [
      "\u001b[0;31m---------------------------------------------------------------------------\u001b[0m",
      "\u001b[0;31mNameError\u001b[0m                                 Traceback (most recent call last)",
      "Cell \u001b[0;32mIn[46], line 2\u001b[0m\n\u001b[1;32m      1\u001b[0m ceo_list \u001b[38;5;241m=\u001b[39m []\n\u001b[0;32m----> 2\u001b[0m \u001b[38;5;28;01mfor\u001b[39;00m item \u001b[38;5;129;01min\u001b[39;00m \u001b[38;5;28mzip\u001b[39m(names_fl, company_names, compensation_lc):\n\u001b[1;32m      3\u001b[0m     ceo_list\u001b[38;5;241m.\u001b[39mappend(item)\n\u001b[1;32m      5\u001b[0m ceo_list\n",
      "\u001b[0;31mNameError\u001b[0m: name 'company_names' is not defined"
     ]
    }
   ],
   "source": [
    "ceo_list = []\n",
    "for item in zip(names_fl, company_names, compensation_lc):\n",
    "    ceo_list.append(item)\n",
    "    \n",
    "ceo_list"
   ]
  },
  {
   "cell_type": "code",
   "execution_count": null,
   "metadata": {},
   "outputs": [],
   "source": [
    "ceo_list = []\n",
    "company = []\n",
    "annual_compensation = []\n",
    "for all_data in zip(artists_list, albums_list, sales_list, albums_url_list):\n",
    "    album_data.append(all_data)\n",
    "    \n",
    "print(album_data)"
   ]
  },
  {
   "cell_type": "code",
   "execution_count": 47,
   "metadata": {},
   "outputs": [
    {
     "data": {
      "text/plain": [
       "['cat', 'dog', 'mouse']"
      ]
     },
     "execution_count": 47,
     "metadata": {},
     "output_type": "execute_result"
    }
   ],
   "source": [
    "list((\"cat\", \"dog\", \"mouse\"))"
   ]
  },
  {
   "cell_type": "code",
   "execution_count": 48,
   "metadata": {},
   "outputs": [
    {
     "data": {
      "text/plain": [
       "tuple"
      ]
     },
     "execution_count": 48,
     "metadata": {},
     "output_type": "execute_result"
    }
   ],
   "source": [
    "type((\"cat\", \"dog\", \"mouse\"))"
   ]
  },
  {
   "cell_type": "markdown",
   "metadata": {},
   "source": [
    "## Built-in Functions are always\n",
    "\n",
    "-list and zip instead of for loops"
   ]
  },
  {
   "cell_type": "code",
   "execution_count": 51,
   "metadata": {},
   "outputs": [
    {
     "data": {
      "text/plain": [
       "<zip at 0x12d40f740>"
      ]
     },
     "execution_count": 51,
     "metadata": {},
     "output_type": "execute_result"
    }
   ],
   "source": [
    "zip(names_fl, company_names, compensation_lc)\n"
   ]
  },
  {
   "cell_type": "code",
   "execution_count": 103,
   "metadata": {},
   "outputs": [
    {
     "data": {
      "text/plain": [
       "[('Hock E. Tan',\n",
       "  <p class=\"company\">Company: Broadcom</p>,\n",
       "  'Annual Compensation: $103.2 million'),\n",
       " ('Frank Bisignano',\n",
       "  <p class=\"company\">Company: First Data (FDC)</p>,\n",
       "  'Annual Compensation: $102.2 million'),\n",
       " ('Michael Rapino',\n",
       "  <p class=\"company\">Company: Live Nation Entertainment (LYV)</p>,\n",
       "  'Annual Compensation: $70.6 million'),\n",
       " ('Leslie Moonves',\n",
       "  <p class=\"company\">Company: CBS</p>,\n",
       "  'Annual Compensation: 68.4 million'),\n",
       " ('Gregory Maffei',\n",
       "  <p class=\"company\">Company: Liberty Media &amp; Qurate Retail Group</p>,\n",
       "  'Annual Compensation: $67.2 million')]"
      ]
     },
     "execution_count": 103,
     "metadata": {},
     "output_type": "execute_result"
    }
   ],
   "source": [
    "mydata = list(zip(names_fl, company_names, compensation_lc))\n",
    "mydata"
   ]
  },
  {
   "cell_type": "markdown",
   "metadata": {},
   "source": [
    "### if the lists are different lengths then it will ignore the excess data and your data will be wrong"
   ]
  },
  {
   "cell_type": "code",
   "execution_count": 54,
   "metadata": {},
   "outputs": [
    {
     "data": {
      "text/html": [
       "<div>\n",
       "<style scoped>\n",
       "    .dataframe tbody tr th:only-of-type {\n",
       "        vertical-align: middle;\n",
       "    }\n",
       "\n",
       "    .dataframe tbody tr th {\n",
       "        vertical-align: top;\n",
       "    }\n",
       "\n",
       "    .dataframe thead th {\n",
       "        text-align: right;\n",
       "    }\n",
       "</style>\n",
       "<table border=\"1\" class=\"dataframe\">\n",
       "  <thead>\n",
       "    <tr style=\"text-align: right;\">\n",
       "      <th></th>\n",
       "    </tr>\n",
       "  </thead>\n",
       "  <tbody>\n",
       "  </tbody>\n",
       "</table>\n",
       "</div>"
      ],
      "text/plain": [
       "Empty DataFrame\n",
       "Columns: []\n",
       "Index: []"
      ]
     },
     "execution_count": 54,
     "metadata": {},
     "output_type": "execute_result"
    }
   ],
   "source": [
    "pd.DataFrame(mydata, columns = [\"name\", \"company\", \"annual_comp\"])"
   ]
  },
  {
   "cell_type": "code",
   "execution_count": 56,
   "metadata": {},
   "outputs": [
    {
     "data": {
      "text/plain": [
       "<div class=\"ceo\">\n",
       "<p class=\"rank\">Rank: 1</p>\n",
       "<p class=\"name\">Name: Hock E. Tan</p>\n",
       "<p class=\"annual_compensation\">Annual Compensation: $103.2 million</p>\n",
       "<p class=\"company\">Company: Broadcom</p>\n",
       "</div>"
      ]
     },
     "execution_count": 56,
     "metadata": {},
     "output_type": "execute_result"
    }
   ],
   "source": [
    "ceos[0]"
   ]
  },
  {
   "cell_type": "code",
   "execution_count": null,
   "metadata": {},
   "outputs": [],
   "source": [
    "HTML Attributes\n",
    "\n",
    "div is a tag.\n",
    "class is an attribute\n",
    "some_class holds a value"
   ]
  },
  {
   "cell_type": "code",
   "execution_count": 58,
   "metadata": {},
   "outputs": [
    {
     "data": {
      "text/plain": [
       "['ceo']"
      ]
     },
     "execution_count": 58,
     "metadata": {},
     "output_type": "execute_result"
    }
   ],
   "source": [
    "ceos[0][\"class\"]\n",
    "## if you just call 0 it will produce the first thing it finds, first on a list"
   ]
  },
  {
   "cell_type": "code",
   "execution_count": null,
   "metadata": {},
   "outputs": [],
   "source": []
  },
  {
   "cell_type": "code",
   "execution_count": 59,
   "metadata": {},
   "outputs": [
    {
     "data": {
      "text/plain": [
       "<div class=\"ceo\">\n",
       "<p class=\"rank\">Rank: 1</p>\n",
       "<p class=\"name\">Name: Hock E. Tan</p>\n",
       "<p class=\"annual_compensation\">Annual Compensation: $103.2 million</p>\n",
       "<p class=\"company\">Company: Broadcom</p>\n",
       "</div>"
      ]
     },
     "execution_count": 59,
     "metadata": {},
     "output_type": "execute_result"
    }
   ],
   "source": [
    "ceos[0]"
   ]
  },
  {
   "cell_type": "code",
   "execution_count": 64,
   "metadata": {},
   "outputs": [
    {
     "data": {
      "text/plain": [
       "[<p class=\"rank\">Rank: 1</p>,\n",
       " <p class=\"name\">Name: Hock E. Tan</p>,\n",
       " <p class=\"annual_compensation\">Annual Compensation: $103.2 million</p>,\n",
       " <p class=\"company\">Company: Broadcom</p>]"
      ]
     },
     "execution_count": 64,
     "metadata": {},
     "output_type": "execute_result"
    }
   ],
   "source": [
    "my_ptags = ceos[0].find_all(\"p\")\n",
    "my_ptags"
   ]
  },
  {
   "cell_type": "code",
   "execution_count": 67,
   "metadata": {},
   "outputs": [
    {
     "data": {
      "text/plain": [
       "['rank']"
      ]
     },
     "execution_count": 67,
     "metadata": {},
     "output_type": "execute_result"
    }
   ],
   "source": [
    "my_ptags[0][\"class\"]"
   ]
  },
  {
   "cell_type": "code",
   "execution_count": 81,
   "metadata": {},
   "outputs": [
    {
     "name": "stdout",
     "output_type": "stream",
     "text": [
      "rank\n",
      "name\n",
      "annual_compensation\n",
      "company\n"
     ]
    },
    {
     "data": {
      "text/plain": [
       "['rank', 'name', 'annual_compensation', 'company']"
      ]
     },
     "execution_count": 81,
     "metadata": {},
     "output_type": "execute_result"
    }
   ],
   "source": [
    "col_names = []\n",
    "for my_ptag in my_ptags:\n",
    "    #print(my_ptag)\n",
    "    print(my_ptag[\"class\"][0])\n",
    "    col_names.append(my_ptag[\"class\"][0])\n",
    "    \n",
    "col_names"
   ]
  },
  {
   "cell_type": "code",
   "execution_count": 80,
   "metadata": {},
   "outputs": [
    {
     "ename": "NameError",
     "evalue": "name 'ceos_list' is not defined",
     "output_type": "error",
     "traceback": [
      "\u001b[0;31m---------------------------------------------------------------------------\u001b[0m",
      "\u001b[0;31mNameError\u001b[0m                                 Traceback (most recent call last)",
      "Cell \u001b[0;32mIn[80], line 1\u001b[0m\n\u001b[0;32m----> 1\u001b[0m pd\u001b[38;5;241m.\u001b[39mDataFrame(ceos_list, columns \u001b[38;5;241m=\u001b[39m col_names)\n",
      "\u001b[0;31mNameError\u001b[0m: name 'ceos_list' is not defined"
     ]
    }
   ],
   "source": [
    "pd.DataFrame(ceos_list, columns = col_names)"
   ]
  },
  {
   "cell_type": "code",
   "execution_count": 82,
   "metadata": {},
   "outputs": [
    {
     "data": {
      "text/plain": [
       "<div class=\"ceo\">\n",
       "<p class=\"rank\">Rank: 1</p>\n",
       "<p class=\"name\">Name: Hock E. Tan</p>\n",
       "<p class=\"annual_compensation\">Annual Compensation: $103.2 million</p>\n",
       "<p class=\"company\">Company: Broadcom</p>\n",
       "</div>"
      ]
     },
     "execution_count": 82,
     "metadata": {},
     "output_type": "execute_result"
    }
   ],
   "source": [
    "ceos[0]\n",
    "## Parents\n",
    "## siblings\n",
    "## children"
   ]
  },
  {
   "cell_type": "code",
   "execution_count": 83,
   "metadata": {},
   "outputs": [
    {
     "ename": "NameError",
     "evalue": "name 'mydata' is not defined",
     "output_type": "error",
     "traceback": [
      "\u001b[0;31m---------------------------------------------------------------------------\u001b[0m",
      "\u001b[0;31mNameError\u001b[0m                                 Traceback (most recent call last)",
      "Cell \u001b[0;32mIn[83], line 1\u001b[0m\n\u001b[0;32m----> 1\u001b[0m pd\u001b[38;5;241m.\u001b[39mDataFrame(mydata, columns \u001b[38;5;241m=\u001b[39m col_names[\u001b[38;5;241m1\u001b[39m:\u001b[38;5;241m4\u001b[39m])\n",
      "\u001b[0;31mNameError\u001b[0m: name 'mydata' is not defined"
     ]
    }
   ],
   "source": [
    "pd.DataFrame(mydata, columns = col_names[1:4])"
   ]
  },
  {
   "cell_type": "code",
   "execution_count": 85,
   "metadata": {},
   "outputs": [
    {
     "data": {
      "text/plain": [
       "<section id=\"disorganized\">\n",
       "<h2>Disorganized - Top 5 Compensated CEOs in 2018</h2>\n",
       "<div class=\"ceo\">\n",
       "<span>Rank:</span><dt> 1</dt>\n",
       "<span>Name:</span><dt> Hock E. Tan</dt>\n",
       "<span>Annual compensation:</span><dt> $103.2 million</dt>\n",
       "<span>Company:</span><dt> Broadcom</dt>\n",
       "</div>\n",
       "<div class=\"ceo\">\n",
       "<span>Rank: </span><dt> 2</dt>\n",
       "<span>Name:</span><dt> Frank Bisignano</dt>\n",
       "<span>Annual Compensation:</span><dt> $102.2 million</dt>\n",
       "<span>Company:</span><dt> First Data (FDC)</dt>\n",
       "</div>\n",
       "<div class=\"ceo\">\n",
       "<span>Rank: </span><dt> 3</dt>\n",
       "<span>Name:</span><dt> Michael Rapino</dt>\n",
       "<span>Annual Compensation:</span><dt> $70.6 million</dt>\n",
       "<span>Company:</span><dt> Live Nation Entertainment (LYV)</dt>\n",
       "</div>\n",
       "<div class=\"ceo\">\n",
       "<span>Rank: </span><dt> 4</dt>\n",
       "<span>Name:</span><dt> Leslie Moonves</dt>\n",
       "<span>Annual Compensation:</span><dt> 68.4 million</dt>\n",
       "<span>Company:</span><dt> CBS</dt>\n",
       "</div>\n",
       "<div class=\"ceo\">\n",
       "<span>Rank: </span><dt> 5</dt>\n",
       "<span>Name:</span> <dt> Gregory Maffei</dt>\n",
       "<span>Annual Compensation:</span><dt> $67.2 million</dt>\n",
       "<span>Company:</span><dt> Liberty Media &amp; Qurate Retail Group</dt>\n",
       "</div>\n",
       "</section>"
      ]
     },
     "execution_count": 85,
     "metadata": {},
     "output_type": "execute_result"
    }
   ],
   "source": [
    "target = soup.find(id = \"disorganized\")\n",
    "target"
   ]
  },
  {
   "cell_type": "code",
   "execution_count": 86,
   "metadata": {},
   "outputs": [
    {
     "data": {
      "text/plain": [
       "[<div class=\"ceo\">\n",
       " <span>Rank:</span><dt> 1</dt>\n",
       " <span>Name:</span><dt> Hock E. Tan</dt>\n",
       " <span>Annual compensation:</span><dt> $103.2 million</dt>\n",
       " <span>Company:</span><dt> Broadcom</dt>\n",
       " </div>,\n",
       " <div class=\"ceo\">\n",
       " <span>Rank: </span><dt> 2</dt>\n",
       " <span>Name:</span><dt> Frank Bisignano</dt>\n",
       " <span>Annual Compensation:</span><dt> $102.2 million</dt>\n",
       " <span>Company:</span><dt> First Data (FDC)</dt>\n",
       " </div>,\n",
       " <div class=\"ceo\">\n",
       " <span>Rank: </span><dt> 3</dt>\n",
       " <span>Name:</span><dt> Michael Rapino</dt>\n",
       " <span>Annual Compensation:</span><dt> $70.6 million</dt>\n",
       " <span>Company:</span><dt> Live Nation Entertainment (LYV)</dt>\n",
       " </div>,\n",
       " <div class=\"ceo\">\n",
       " <span>Rank: </span><dt> 4</dt>\n",
       " <span>Name:</span><dt> Leslie Moonves</dt>\n",
       " <span>Annual Compensation:</span><dt> 68.4 million</dt>\n",
       " <span>Company:</span><dt> CBS</dt>\n",
       " </div>,\n",
       " <div class=\"ceo\">\n",
       " <span>Rank: </span><dt> 5</dt>\n",
       " <span>Name:</span> <dt> Gregory Maffei</dt>\n",
       " <span>Annual Compensation:</span><dt> $67.2 million</dt>\n",
       " <span>Company:</span><dt> Liberty Media &amp; Qurate Retail Group</dt>\n",
       " </div>]"
      ]
     },
     "execution_count": 86,
     "metadata": {},
     "output_type": "execute_result"
    }
   ],
   "source": [
    "ceos = target.find_all(\"div\", class_=\"ceo\")\n",
    "ceos"
   ]
  },
  {
   "cell_type": "code",
   "execution_count": 101,
   "metadata": {},
   "outputs": [
    {
     "name": "stdout",
     "output_type": "stream",
     "text": [
      " Hock E. Tan\n",
      "***********\n",
      " Frank Bisignano\n",
      "***********\n",
      " Michael Rapino\n",
      "***********\n",
      " Leslie Moonves\n",
      "***********\n",
      " Gregory Maffei\n",
      "***********\n"
     ]
    }
   ],
   "source": [
    "for ceo in ceos:\n",
    "    #print(ceo)\n",
    "    #print(\"***********\")\n",
    "    #ceo.find_all(\"dt\")\n",
    "    \n",
    "    print(ceo.find_all(\"dt\")[1].get_text())\n",
    "    print(\"***********\")\n",
    "    \n",
    "    \n",
    "### find all results in a list\n",
    "### BeautifulSoup result set is the same as a list. You can then slice like a list"
   ]
  },
  {
   "cell_type": "code",
   "execution_count": 105,
   "metadata": {},
   "outputs": [
    {
     "name": "stdout",
     "output_type": "stream",
     "text": [
      "[<dt> 1</dt>, <dt> Hock E. Tan</dt>, <dt> $103.2 million</dt>, <dt> Broadcom</dt>]\n",
      "***********\n",
      "[<dt> 2</dt>, <dt> Frank Bisignano</dt>, <dt> $102.2 million</dt>, <dt> First Data (FDC)</dt>]\n",
      "***********\n",
      "[<dt> 3</dt>, <dt> Michael Rapino</dt>, <dt> $70.6 million</dt>, <dt> Live Nation Entertainment (LYV)</dt>]\n",
      "***********\n",
      "[<dt> 4</dt>, <dt> Leslie Moonves</dt>, <dt> 68.4 million</dt>, <dt> CBS</dt>]\n",
      "***********\n",
      "[<dt> 5</dt>, <dt> Gregory Maffei</dt>, <dt> $67.2 million</dt>, <dt> Liberty Media &amp; Qurate Retail Group</dt>]\n",
      "***********\n"
     ]
    }
   ],
   "source": [
    "for ceo in ceos:\n",
    "    #print(ceo)\n",
    "    \n",
    "    print(ceo.find_all(\"dt\")[0:4])\n",
    "    print(\"***********\")\n",
    "    "
   ]
  },
  {
   "cell_type": "code",
   "execution_count": 108,
   "metadata": {},
   "outputs": [
    {
     "name": "stdout",
     "output_type": "stream",
     "text": [
      "Data_CEO: [<dt> 1</dt>, <dt> Hock E. Tan</dt>, <dt> $103.2 million</dt>, <dt> Broadcom</dt>]\n",
      " 1\n",
      " Hock E. Tan\n",
      " $103.2 million\n",
      " Broadcom\n",
      "Data_CEO: [<dt> 2</dt>, <dt> Frank Bisignano</dt>, <dt> $102.2 million</dt>, <dt> First Data (FDC)</dt>]\n",
      " 2\n",
      " Frank Bisignano\n",
      " $102.2 million\n",
      " First Data (FDC)\n",
      "Data_CEO: [<dt> 3</dt>, <dt> Michael Rapino</dt>, <dt> $70.6 million</dt>, <dt> Live Nation Entertainment (LYV)</dt>]\n",
      " 3\n",
      " Michael Rapino\n",
      " $70.6 million\n",
      " Live Nation Entertainment (LYV)\n",
      "Data_CEO: [<dt> 4</dt>, <dt> Leslie Moonves</dt>, <dt> 68.4 million</dt>, <dt> CBS</dt>]\n",
      " 4\n",
      " Leslie Moonves\n",
      " 68.4 million\n",
      " CBS\n",
      "Data_CEO: [<dt> 5</dt>, <dt> Gregory Maffei</dt>, <dt> $67.2 million</dt>, <dt> Liberty Media &amp; Qurate Retail Group</dt>]\n",
      " 5\n",
      " Gregory Maffei\n",
      " $67.2 million\n",
      " Liberty Media & Qurate Retail Group\n"
     ]
    }
   ],
   "source": [
    "for ceo in ceos:\n",
    "    #print(ceo)\n",
    "    \n",
    "    data_ceo = [ceo for ceo in ceo.find_all(\"dt\")[0:4]]\n",
    "    print(f\"Data_CEO: {data_ceo}\")\n",
    "    for ceo in data_ceo:\n",
    "        print(ceo.get_text())\n",
    "        ceo_values.append()\n",
    "\n",
    "## start with second end \"for ceo in ceo\""
   ]
  },
  {
   "cell_type": "code",
   "execution_count": 121,
   "metadata": {},
   "outputs": [
    {
     "data": {
      "text/plain": [
       "[{'rank': '1',\n",
       "  'name': 'Hock E. Tan',\n",
       "  'annual companesation': '$103.2 million',\n",
       "  'company': 'Broadcom'},\n",
       " {'rank': '2',\n",
       "  'name': 'Frank Bisignano',\n",
       "  'annual companesation': '$102.2 million',\n",
       "  'company': 'First Data (FDC)'},\n",
       " {'rank': '3',\n",
       "  'name': 'Michael Rapino',\n",
       "  'annual companesation': '$70.6 million',\n",
       "  'company': 'Live Nation Entertainment (LYV)'},\n",
       " {'rank': '4',\n",
       "  'name': 'Leslie Moonves',\n",
       "  'annual companesation': '68.4 million',\n",
       "  'company': 'CBS'},\n",
       " {'rank': '5',\n",
       "  'name': 'Gregory Maffei',\n",
       "  'annual companesation': '$67.2 million',\n",
       "  'company': 'Liberty Media & Qurate Retail Group'}]"
      ]
     },
     "execution_count": 121,
     "metadata": {},
     "output_type": "execute_result"
    }
   ],
   "source": [
    "ceo_data_list = []\n",
    "for ceo in ceos:\n",
    "    all_targets = ceo.find_all(\"dt\")\n",
    "    rank = all_targets[0].get_text(strip = True)\n",
    "    name = all_targets[1].get_text(strip = True)\n",
    "    annual_comp = all_targets[2].get_text(strip = True)\n",
    "    company = all_targets[3].get_text(strip = True)\n",
    "    ceo_data_list.append({\"rank\": rank,\n",
    "                \"name\": name,\n",
    "                \"annual companesation\": annual_comp,\n",
    "                 \"company\": company})\n",
    "    \n",
    "ceo_data_list"
   ]
  },
  {
   "cell_type": "code",
   "execution_count": 122,
   "metadata": {},
   "outputs": [
    {
     "data": {
      "text/html": [
       "<div>\n",
       "<style scoped>\n",
       "    .dataframe tbody tr th:only-of-type {\n",
       "        vertical-align: middle;\n",
       "    }\n",
       "\n",
       "    .dataframe tbody tr th {\n",
       "        vertical-align: top;\n",
       "    }\n",
       "\n",
       "    .dataframe thead th {\n",
       "        text-align: right;\n",
       "    }\n",
       "</style>\n",
       "<table border=\"1\" class=\"dataframe\">\n",
       "  <thead>\n",
       "    <tr style=\"text-align: right;\">\n",
       "      <th></th>\n",
       "      <th>rank</th>\n",
       "      <th>name</th>\n",
       "      <th>annual companesation</th>\n",
       "      <th>company</th>\n",
       "    </tr>\n",
       "  </thead>\n",
       "  <tbody>\n",
       "    <tr>\n",
       "      <th>0</th>\n",
       "      <td>1</td>\n",
       "      <td>Hock E. Tan</td>\n",
       "      <td>$103.2 million</td>\n",
       "      <td>Broadcom</td>\n",
       "    </tr>\n",
       "    <tr>\n",
       "      <th>1</th>\n",
       "      <td>2</td>\n",
       "      <td>Frank Bisignano</td>\n",
       "      <td>$102.2 million</td>\n",
       "      <td>First Data (FDC)</td>\n",
       "    </tr>\n",
       "    <tr>\n",
       "      <th>2</th>\n",
       "      <td>3</td>\n",
       "      <td>Michael Rapino</td>\n",
       "      <td>$70.6 million</td>\n",
       "      <td>Live Nation Entertainment (LYV)</td>\n",
       "    </tr>\n",
       "    <tr>\n",
       "      <th>3</th>\n",
       "      <td>4</td>\n",
       "      <td>Leslie Moonves</td>\n",
       "      <td>68.4 million</td>\n",
       "      <td>CBS</td>\n",
       "    </tr>\n",
       "    <tr>\n",
       "      <th>4</th>\n",
       "      <td>5</td>\n",
       "      <td>Gregory Maffei</td>\n",
       "      <td>$67.2 million</td>\n",
       "      <td>Liberty Media &amp; Qurate Retail Group</td>\n",
       "    </tr>\n",
       "  </tbody>\n",
       "</table>\n",
       "</div>"
      ],
      "text/plain": [
       "  rank             name annual companesation  \\\n",
       "0    1      Hock E. Tan       $103.2 million   \n",
       "1    2  Frank Bisignano       $102.2 million   \n",
       "2    3   Michael Rapino        $70.6 million   \n",
       "3    4   Leslie Moonves         68.4 million   \n",
       "4    5   Gregory Maffei        $67.2 million   \n",
       "\n",
       "                               company  \n",
       "0                             Broadcom  \n",
       "1                     First Data (FDC)  \n",
       "2      Live Nation Entertainment (LYV)  \n",
       "3                                  CBS  \n",
       "4  Liberty Media & Qurate Retail Group  "
      ]
     },
     "execution_count": 122,
     "metadata": {},
     "output_type": "execute_result"
    }
   ],
   "source": [
    "df = pd.DataFrame(ceo_data_list)\n",
    "df"
   ]
  },
  {
   "cell_type": "markdown",
   "metadata": {
    "id": "YfF9k_35kQCS"
   },
   "source": [
    "### The same steps each time:\n",
    "\n",
    "* Is the content on the page (use ```Reveal Source```)?\n",
    "* Where and how is the content held on the page?\n",
    "* Which classes and IDs do we target?\n",
    "* Is there a pattern?\n",
    "* Is there anything that breaks the pattern?"
   ]
  },
  {
   "cell_type": "markdown",
   "metadata": {
    "id": "TTxmq3ZJkQCa"
   },
   "source": [
    "# Excluding classes\n",
    "\n",
    "Most modern sites have tags that include multiple classes.\n",
    "\n",
    "What if you want to target a tag with a single class but that class also appears in tags with others that holds other types of content.\n",
    "\n",
    "For example, capture ```Excluding Some Classes``` section of our page in ```BeautifulSoup``` object.\n",
    "\n"
   ]
  },
  {
   "cell_type": "code",
   "execution_count": 42,
   "metadata": {
    "id": "AnYKKYHFHNTi"
   },
   "outputs": [],
   "source": [
    "## RUN this cell that holds some html\n",
    "some_html = '''<li> Silly List </li>\n",
    "<li class=\"a\"> A alone  - UNWANTED </li>\n",
    "<li class=\"a z\"> A and Z  - UNWANTED </li>\n",
    "<li class=\"z\"> Z first - my target</li>\n",
    "<li class=\"b z\"> B and Z  - UNWANTED</li>\n",
    "<li class=\"x z\"> X and Z - UNWANTED </li>\n",
    "<li class=\"z\"> Z second - my target</li>'''\n",
    "\n"
   ]
  },
  {
   "cell_type": "markdown",
   "metadata": {
    "id": "GVXYAOG_HNTi"
   },
   "source": [
    "### Back to our CEOs"
   ]
  },
  {
   "cell_type": "code",
   "execution_count": null,
   "metadata": {},
   "outputs": [],
   "source": []
  }
 ],
 "metadata": {
  "celltoolbar": "Slideshow",
  "colab": {
   "provenance": []
  },
  "kernelspec": {
   "display_name": "Python 3 (ipykernel)",
   "language": "python",
   "name": "python3"
  },
  "language_info": {
   "codemirror_mode": {
    "name": "ipython",
    "version": 3
   },
   "file_extension": ".py",
   "mimetype": "text/x-python",
   "name": "python",
   "nbconvert_exporter": "python",
   "pygments_lexer": "ipython3",
   "version": "3.11.5"
  }
 },
 "nbformat": 4,
 "nbformat_minor": 1
}
