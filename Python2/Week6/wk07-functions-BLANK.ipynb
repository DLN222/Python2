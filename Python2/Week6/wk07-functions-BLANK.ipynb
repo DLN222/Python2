{
 "cells": [
  {
   "cell_type": "markdown",
   "id": "5320cbbf",
   "metadata": {},
   "source": [
    "# Homework for Week 7\n",
    "## Functions and Downloading documents"
   ]
  },
  {
   "cell_type": "markdown",
   "id": "da5db5b3",
   "metadata": {},
   "source": [
    "### Write modular functions for the following:\n",
    "\n",
    "1. Making a ```request```\n",
    "2. Converting a ```response``` into ```soup```\n"
   ]
  },
  {
   "cell_type": "code",
   "execution_count": 1,
   "id": "8b96b6e4",
   "metadata": {},
   "outputs": [],
   "source": [
    "## 1. code here for requests function (create cells if/as needed)"
   ]
  },
  {
   "cell_type": "code",
   "execution_count": 8,
   "id": "650b1070",
   "metadata": {},
   "outputs": [],
   "source": [
    "from bs4 import BeautifulSoup\n",
    "import requests\n",
    "import time\n",
    "from random import randrange\n",
    "import pandas as pd\n",
    "import itertools "
   ]
  },
  {
   "cell_type": "code",
   "execution_count": 55,
   "id": "2e011943",
   "metadata": {},
   "outputs": [],
   "source": [
    "def request(url):\n",
    "    response = requests.get(url)\n",
    "    if 200<=response.status_code<400:\n",
    "        return response\n",
    "    else:\n",
    "        print(f\"Code is broken because {response.status_code}\")\n",
    "        \n",
    "    "
   ]
  },
  {
   "cell_type": "code",
   "execution_count": 59,
   "id": "dcea571f",
   "metadata": {},
   "outputs": [
    {
     "data": {
      "text/plain": [
       "<Response [200]>"
      ]
     },
     "execution_count": 59,
     "metadata": {},
     "output_type": "execute_result"
    }
   ],
   "source": [
    "my_url = \"https://sandeepmj.github.io/scrape-example-page/pages.html\"\n",
    "request(my_url)"
   ]
  },
  {
   "cell_type": "code",
   "execution_count": 58,
   "id": "804f72dd",
   "metadata": {},
   "outputs": [],
   "source": [
    "def get_soup(url):\n",
    "    return BeautifulSoup(response.text, 'html.parser')"
   ]
  },
  {
   "cell_type": "code",
   "execution_count": 60,
   "id": "16b80463",
   "metadata": {},
   "outputs": [
    {
     "data": {
      "text/plain": [
       "<html lang=\"en\">\n",
       "<head>\n",
       "<!-- Makes the page responsive and scaled to be read easily -->\n",
       "<meta content=\"width=device-width, initial-scale=1\" name=\"viewport\"/>\n",
       "<!-- Links to stylesheet -->\n",
       "<link href=\"style.css\" rel=\"stylesheet\" type=\"text/css\"/>\n",
       "<!-- Remember to update page title -->\n",
       "<title>List of Documents</title>\n",
       "</head>\n",
       "<body>\n",
       "<!-- All content goes here -->\n",
       "<div class=\"container\">\n",
       "<h1>Documents to Download</h1>\n",
       "<li>Junk Li <a href=\"\">tag 1</a></li>\n",
       "<li>Junk Li <a href=\"\">tag 2</a></li>\n",
       "<ul class=\"txts downloadable\">\n",
       "<p class=\"pages\">Download this first set of text documents</p>\n",
       "<li>Text Document <a href=\"files/text_doc_01.txt\">1</a> </li>\n",
       "<li>Text Document <a href=\"files/text_doc_02.txt\">2</a></li>\n",
       "<li>Text Document <a href=\"files/text_doc_03.txt\">3</a></li>\n",
       "<li>Text Document <a href=\"files/text_doc_04.txt\">4</a></li>\n",
       "<li>Text Document <a href=\"files/text_doc_05.txt\">5</a></li>\n",
       "<li>Text Document <a href=\"files/text_doc_06.txt\">6</a></li>\n",
       "<li>Text Document <a href=\"files/text_doc_07.txt\">7</a></li>\n",
       "<li>Text Document <a href=\"files/text_doc_08.txt\">8</a></li>\n",
       "<li>Text Document <a href=\"files/text_doc_09.txt\">9</a></li>\n",
       "<li>Text Document <a href=\"files/text_doc_10.txt\">10</a></li>\n",
       "</ul>\n",
       "<li>Junk Li <a href=\"\">tag 3</a></li>\n",
       "<li>Junk Li <a href=\"\">tag 4</a></li>\n",
       "<ul class=\"pdfs downloadable\">\n",
       "<p class=\"pages\">Download this list of PDFs</p>\n",
       "<li>PDF Document <a href=\"files/pdf_1.pdf\">1</a> </li>\n",
       "<li>PDF Document <a href=\"files/pdf_2.pdf\">2</a></li>\n",
       "<li>PDF Document <a href=\"files/pdf_3.pdf\">3</a></li>\n",
       "<li>PDF Document <a href=\"files/pdf_4.pdf\">4</a></li>\n",
       "<li>PDF Document <a href=\"files/pdf_5.pdf\">5</a></li>\n",
       "<li>PDF Document <a href=\"files/pdf_6.pdf\">6</a></li>\n",
       "<li>PDF Document <a href=\"files/pdf_7.pdf\">7</a></li>\n",
       "<li>PDF Document <a href=\"files/pdf_8.pdf\">8</a></li>\n",
       "<li>PDF Document <a href=\"files/pdf_9.pdf\">9</a></li>\n",
       "<li>PDF Document <a href=\"files/pdf_10.pdf\">10</a></li>\n",
       "</ul>\n",
       "<li>Junk Li <a href=\"\">tag 5</a></li>\n",
       "<li>Junk Li <a href=\"\">tag 6</a></li>\n",
       "<ul class=\"txts downloadable\">\n",
       "<p class=\"pages\">Download this second set of text documents</p>\n",
       "<li>Text Document <a href=\"files/text_doc_A.txt\">1</a> </li>\n",
       "<li>Text Document <a href=\"files/text_doc_B.txt\">2</a></li>\n",
       "<li>Text Document <a href=\"files/text_doc_C.txt\">3</a></li>\n",
       "<li>Text Document <a href=\"files/text_doc_D.txt\">4</a></li>\n",
       "<li>Text Document <a href=\"files/text_doc_E.txt\">5</a></li>\n",
       "<li>Text Document <a href=\"files/text_doc_F.txt\">6</a></li>\n",
       "<li>Text Document <a href=\"files/text_doc_G.txt\">7</a></li>\n",
       "<li>Text Document <a href=\"files/text_doc_H.txt\">8</a></li>\n",
       "<li>Text Document <a href=\"files/text_doc_I.txt\">9</a></li>\n",
       "<li>Text Document <a href=\"files/text_doc_J.txt\">10</a></li>\n",
       "</ul>\n",
       "</div>\n",
       "</body>\n",
       "</html>"
      ]
     },
     "execution_count": 60,
     "metadata": {},
     "output_type": "execute_result"
    }
   ],
   "source": [
    "get_soup(my_url)"
   ]
  },
  {
   "cell_type": "code",
   "execution_count": null,
   "id": "5ea6f6a8",
   "metadata": {},
   "outputs": [],
   "source": []
  },
  {
   "cell_type": "markdown",
   "id": "799270ad",
   "metadata": {},
   "source": [
    "\n",
    "def soup(url):\n",
    "\n",
    "\n",
    "\n"
   ]
  },
  {
   "cell_type": "code",
   "execution_count": 52,
   "id": "55d90760",
   "metadata": {},
   "outputs": [],
   "source": []
  },
  {
   "cell_type": "code",
   "execution_count": 27,
   "id": "e7924ac3",
   "metadata": {},
   "outputs": [],
   "source": [
    "def get_soup(url):\n",
    "    response = requests.get(url)\n",
    "    response.raise_for_status()\n",
    "    soup = BeautifulSoup(response.content, \"html.parser\")\n",
    "    return soup"
   ]
  },
  {
   "cell_type": "code",
   "execution_count": 31,
   "id": "0e95f9ca",
   "metadata": {},
   "outputs": [],
   "source": [
    "url = \"https://sandeepmj.github.io/scrape-example-page/pages.html\"\n",
    "soup = get_soup(url)"
   ]
  },
  {
   "cell_type": "code",
   "execution_count": null,
   "id": "9f778130",
   "metadata": {},
   "outputs": [],
   "source": []
  },
  {
   "cell_type": "code",
   "execution_count": null,
   "id": "ed75718f",
   "metadata": {},
   "outputs": [],
   "source": []
  },
  {
   "cell_type": "code",
   "execution_count": 47,
   "id": "14be00dc",
   "metadata": {
    "collapsed": true
   },
   "outputs": [
    {
     "data": {
      "text/plain": [
       "<html lang=\"en\">\n",
       "<head>\n",
       "<!-- Makes the page responsive and scaled to be read easily -->\n",
       "<meta content=\"width=device-width, initial-scale=1\" name=\"viewport\"/>\n",
       "<!-- Links to stylesheet -->\n",
       "<link href=\"style.css\" rel=\"stylesheet\" type=\"text/css\"/>\n",
       "<!-- Remember to update page title -->\n",
       "<title>List of Documents</title>\n",
       "</head>\n",
       "<body>\n",
       "<!-- All content goes here -->\n",
       "<div class=\"container\">\n",
       "<h1>Documents to Download</h1>\n",
       "<li>Junk Li <a href=\"\">tag 1</a></li>\n",
       "<li>Junk Li <a href=\"\">tag 2</a></li>\n",
       "<ul class=\"txts downloadable\">\n",
       "<p class=\"pages\">Download this first set of text documents</p>\n",
       "<li>Text Document <a href=\"files/text_doc_01.txt\">1</a> </li>\n",
       "<li>Text Document <a href=\"files/text_doc_02.txt\">2</a></li>\n",
       "<li>Text Document <a href=\"files/text_doc_03.txt\">3</a></li>\n",
       "<li>Text Document <a href=\"files/text_doc_04.txt\">4</a></li>\n",
       "<li>Text Document <a href=\"files/text_doc_05.txt\">5</a></li>\n",
       "<li>Text Document <a href=\"files/text_doc_06.txt\">6</a></li>\n",
       "<li>Text Document <a href=\"files/text_doc_07.txt\">7</a></li>\n",
       "<li>Text Document <a href=\"files/text_doc_08.txt\">8</a></li>\n",
       "<li>Text Document <a href=\"files/text_doc_09.txt\">9</a></li>\n",
       "<li>Text Document <a href=\"files/text_doc_10.txt\">10</a></li>\n",
       "</ul>\n",
       "<li>Junk Li <a href=\"\">tag 3</a></li>\n",
       "<li>Junk Li <a href=\"\">tag 4</a></li>\n",
       "<ul class=\"pdfs downloadable\">\n",
       "<p class=\"pages\">Download this list of PDFs</p>\n",
       "<li>PDF Document <a href=\"files/pdf_1.pdf\">1</a> </li>\n",
       "<li>PDF Document <a href=\"files/pdf_2.pdf\">2</a></li>\n",
       "<li>PDF Document <a href=\"files/pdf_3.pdf\">3</a></li>\n",
       "<li>PDF Document <a href=\"files/pdf_4.pdf\">4</a></li>\n",
       "<li>PDF Document <a href=\"files/pdf_5.pdf\">5</a></li>\n",
       "<li>PDF Document <a href=\"files/pdf_6.pdf\">6</a></li>\n",
       "<li>PDF Document <a href=\"files/pdf_7.pdf\">7</a></li>\n",
       "<li>PDF Document <a href=\"files/pdf_8.pdf\">8</a></li>\n",
       "<li>PDF Document <a href=\"files/pdf_9.pdf\">9</a></li>\n",
       "<li>PDF Document <a href=\"files/pdf_10.pdf\">10</a></li>\n",
       "</ul>\n",
       "<li>Junk Li <a href=\"\">tag 5</a></li>\n",
       "<li>Junk Li <a href=\"\">tag 6</a></li>\n",
       "<ul class=\"txts downloadable\">\n",
       "<p class=\"pages\">Download this second set of text documents</p>\n",
       "<li>Text Document <a href=\"files/text_doc_A.txt\">1</a> </li>\n",
       "<li>Text Document <a href=\"files/text_doc_B.txt\">2</a></li>\n",
       "<li>Text Document <a href=\"files/text_doc_C.txt\">3</a></li>\n",
       "<li>Text Document <a href=\"files/text_doc_D.txt\">4</a></li>\n",
       "<li>Text Document <a href=\"files/text_doc_E.txt\">5</a></li>\n",
       "<li>Text Document <a href=\"files/text_doc_F.txt\">6</a></li>\n",
       "<li>Text Document <a href=\"files/text_doc_G.txt\">7</a></li>\n",
       "<li>Text Document <a href=\"files/text_doc_H.txt\">8</a></li>\n",
       "<li>Text Document <a href=\"files/text_doc_I.txt\">9</a></li>\n",
       "<li>Text Document <a href=\"files/text_doc_J.txt\">10</a></li>\n",
       "</ul>\n",
       "</div>\n",
       "</body>\n",
       "</html>"
      ]
     },
     "execution_count": 47,
     "metadata": {},
     "output_type": "execute_result"
    }
   ],
   "source": [
    "soup = BeautifulSoup(html.text, 'html.parser')\n",
    "soup"
   ]
  },
  {
   "cell_type": "code",
   "execution_count": 48,
   "id": "f0a00f5c",
   "metadata": {
    "collapsed": true
   },
   "outputs": [
    {
     "name": "stdout",
     "output_type": "stream",
     "text": [
      "<html lang=\"en\">\n",
      " <head>\n",
      "  <!-- Makes the page responsive and scaled to be read easily -->\n",
      "  <meta content=\"width=device-width, initial-scale=1\" name=\"viewport\"/>\n",
      "  <!-- Links to stylesheet -->\n",
      "  <link href=\"style.css\" rel=\"stylesheet\" type=\"text/css\"/>\n",
      "  <!-- Remember to update page title -->\n",
      "  <title>\n",
      "   List of Documents\n",
      "  </title>\n",
      " </head>\n",
      " <body>\n",
      "  <!-- All content goes here -->\n",
      "  <div class=\"container\">\n",
      "   <h1>\n",
      "    Documents to Download\n",
      "   </h1>\n",
      "   <li>\n",
      "    Junk Li\n",
      "    <a href=\"\">\n",
      "     tag 1\n",
      "    </a>\n",
      "   </li>\n",
      "   <li>\n",
      "    Junk Li\n",
      "    <a href=\"\">\n",
      "     tag 2\n",
      "    </a>\n",
      "   </li>\n",
      "   <ul class=\"txts downloadable\">\n",
      "    <p class=\"pages\">\n",
      "     Download this first set of text documents\n",
      "    </p>\n",
      "    <li>\n",
      "     Text Document\n",
      "     <a href=\"files/text_doc_01.txt\">\n",
      "      1\n",
      "     </a>\n",
      "    </li>\n",
      "    <li>\n",
      "     Text Document\n",
      "     <a href=\"files/text_doc_02.txt\">\n",
      "      2\n",
      "     </a>\n",
      "    </li>\n",
      "    <li>\n",
      "     Text Document\n",
      "     <a href=\"files/text_doc_03.txt\">\n",
      "      3\n",
      "     </a>\n",
      "    </li>\n",
      "    <li>\n",
      "     Text Document\n",
      "     <a href=\"files/text_doc_04.txt\">\n",
      "      4\n",
      "     </a>\n",
      "    </li>\n",
      "    <li>\n",
      "     Text Document\n",
      "     <a href=\"files/text_doc_05.txt\">\n",
      "      5\n",
      "     </a>\n",
      "    </li>\n",
      "    <li>\n",
      "     Text Document\n",
      "     <a href=\"files/text_doc_06.txt\">\n",
      "      6\n",
      "     </a>\n",
      "    </li>\n",
      "    <li>\n",
      "     Text Document\n",
      "     <a href=\"files/text_doc_07.txt\">\n",
      "      7\n",
      "     </a>\n",
      "    </li>\n",
      "    <li>\n",
      "     Text Document\n",
      "     <a href=\"files/text_doc_08.txt\">\n",
      "      8\n",
      "     </a>\n",
      "    </li>\n",
      "    <li>\n",
      "     Text Document\n",
      "     <a href=\"files/text_doc_09.txt\">\n",
      "      9\n",
      "     </a>\n",
      "    </li>\n",
      "    <li>\n",
      "     Text Document\n",
      "     <a href=\"files/text_doc_10.txt\">\n",
      "      10\n",
      "     </a>\n",
      "    </li>\n",
      "   </ul>\n",
      "   <li>\n",
      "    Junk Li\n",
      "    <a href=\"\">\n",
      "     tag 3\n",
      "    </a>\n",
      "   </li>\n",
      "   <li>\n",
      "    Junk Li\n",
      "    <a href=\"\">\n",
      "     tag 4\n",
      "    </a>\n",
      "   </li>\n",
      "   <ul class=\"pdfs downloadable\">\n",
      "    <p class=\"pages\">\n",
      "     Download this list of PDFs\n",
      "    </p>\n",
      "    <li>\n",
      "     PDF Document\n",
      "     <a href=\"files/pdf_1.pdf\">\n",
      "      1\n",
      "     </a>\n",
      "    </li>\n",
      "    <li>\n",
      "     PDF Document\n",
      "     <a href=\"files/pdf_2.pdf\">\n",
      "      2\n",
      "     </a>\n",
      "    </li>\n",
      "    <li>\n",
      "     PDF Document\n",
      "     <a href=\"files/pdf_3.pdf\">\n",
      "      3\n",
      "     </a>\n",
      "    </li>\n",
      "    <li>\n",
      "     PDF Document\n",
      "     <a href=\"files/pdf_4.pdf\">\n",
      "      4\n",
      "     </a>\n",
      "    </li>\n",
      "    <li>\n",
      "     PDF Document\n",
      "     <a href=\"files/pdf_5.pdf\">\n",
      "      5\n",
      "     </a>\n",
      "    </li>\n",
      "    <li>\n",
      "     PDF Document\n",
      "     <a href=\"files/pdf_6.pdf\">\n",
      "      6\n",
      "     </a>\n",
      "    </li>\n",
      "    <li>\n",
      "     PDF Document\n",
      "     <a href=\"files/pdf_7.pdf\">\n",
      "      7\n",
      "     </a>\n",
      "    </li>\n",
      "    <li>\n",
      "     PDF Document\n",
      "     <a href=\"files/pdf_8.pdf\">\n",
      "      8\n",
      "     </a>\n",
      "    </li>\n",
      "    <li>\n",
      "     PDF Document\n",
      "     <a href=\"files/pdf_9.pdf\">\n",
      "      9\n",
      "     </a>\n",
      "    </li>\n",
      "    <li>\n",
      "     PDF Document\n",
      "     <a href=\"files/pdf_10.pdf\">\n",
      "      10\n",
      "     </a>\n",
      "    </li>\n",
      "   </ul>\n",
      "   <li>\n",
      "    Junk Li\n",
      "    <a href=\"\">\n",
      "     tag 5\n",
      "    </a>\n",
      "   </li>\n",
      "   <li>\n",
      "    Junk Li\n",
      "    <a href=\"\">\n",
      "     tag 6\n",
      "    </a>\n",
      "   </li>\n",
      "   <ul class=\"txts downloadable\">\n",
      "    <p class=\"pages\">\n",
      "     Download this second set of text documents\n",
      "    </p>\n",
      "    <li>\n",
      "     Text Document\n",
      "     <a href=\"files/text_doc_A.txt\">\n",
      "      1\n",
      "     </a>\n",
      "    </li>\n",
      "    <li>\n",
      "     Text Document\n",
      "     <a href=\"files/text_doc_B.txt\">\n",
      "      2\n",
      "     </a>\n",
      "    </li>\n",
      "    <li>\n",
      "     Text Document\n",
      "     <a href=\"files/text_doc_C.txt\">\n",
      "      3\n",
      "     </a>\n",
      "    </li>\n",
      "    <li>\n",
      "     Text Document\n",
      "     <a href=\"files/text_doc_D.txt\">\n",
      "      4\n",
      "     </a>\n",
      "    </li>\n",
      "    <li>\n",
      "     Text Document\n",
      "     <a href=\"files/text_doc_E.txt\">\n",
      "      5\n",
      "     </a>\n",
      "    </li>\n",
      "    <li>\n",
      "     Text Document\n",
      "     <a href=\"files/text_doc_F.txt\">\n",
      "      6\n",
      "     </a>\n",
      "    </li>\n",
      "    <li>\n",
      "     Text Document\n",
      "     <a href=\"files/text_doc_G.txt\">\n",
      "      7\n",
      "     </a>\n",
      "    </li>\n",
      "    <li>\n",
      "     Text Document\n",
      "     <a href=\"files/text_doc_H.txt\">\n",
      "      8\n",
      "     </a>\n",
      "    </li>\n",
      "    <li>\n",
      "     Text Document\n",
      "     <a href=\"files/text_doc_I.txt\">\n",
      "      9\n",
      "     </a>\n",
      "    </li>\n",
      "    <li>\n",
      "     Text Document\n",
      "     <a href=\"files/text_doc_J.txt\">\n",
      "      10\n",
      "     </a>\n",
      "    </li>\n",
      "   </ul>\n",
      "  </div>\n",
      " </body>\n",
      "</html>\n",
      "\n"
     ]
    }
   ],
   "source": []
  },
  {
   "cell_type": "code",
   "execution_count": null,
   "id": "95eba5ed",
   "metadata": {},
   "outputs": [],
   "source": []
  },
  {
   "cell_type": "code",
   "execution_count": null,
   "id": "888b0baa",
   "metadata": {},
   "outputs": [],
   "source": []
  },
  {
   "cell_type": "code",
   "execution_count": 6,
   "id": "ed087ffc",
   "metadata": {},
   "outputs": [],
   "source": [
    "## 2. code here for response function (create cells if/as needed)"
   ]
  },
  {
   "cell_type": "markdown",
   "id": "2350b62c",
   "metadata": {},
   "source": [
    "### 3. Demo downloading files from websites \n",
    "\n",
    "There are ```txt``` and ```pdf``` files <a href=\"https://sandeepmj.github.io/scrape-example-page/pages.html\">on this site</a>. During class we downloaded on e set of text files and one set of PDF files.\n",
    "\n",
    "Now download **ALL files at one time**.\n"
   ]
  },
  {
   "cell_type": "code",
   "execution_count": 7,
   "id": "6a209478",
   "metadata": {},
   "outputs": [],
   "source": [
    "## code here (create cells if/as needed)"
   ]
  },
  {
   "cell_type": "code",
   "execution_count": 73,
   "id": "87e10706",
   "metadata": {},
   "outputs": [],
   "source": [
    "url = \"https://sandeepmj.github.io/scrape-example-page/pages.html\"\n",
    "response = requests.get(url)\n",
    "soup = BeautifulSoup(response.text, \"html.parser\")\n",
    "base_url = \"https://sandeepmj.github.io/scrape-example-page/\""
   ]
  },
  {
   "cell_type": "code",
   "execution_count": 74,
   "id": "7b526af2",
   "metadata": {},
   "outputs": [
    {
     "data": {
      "text/plain": [
       "[<ul class=\"txts downloadable\">\n",
       " <p class=\"pages\">Download this first set of text documents</p>\n",
       " <li>Text Document <a href=\"files/text_doc_01.txt\">1</a> </li>\n",
       " <li>Text Document <a href=\"files/text_doc_02.txt\">2</a></li>\n",
       " <li>Text Document <a href=\"files/text_doc_03.txt\">3</a></li>\n",
       " <li>Text Document <a href=\"files/text_doc_04.txt\">4</a></li>\n",
       " <li>Text Document <a href=\"files/text_doc_05.txt\">5</a></li>\n",
       " <li>Text Document <a href=\"files/text_doc_06.txt\">6</a></li>\n",
       " <li>Text Document <a href=\"files/text_doc_07.txt\">7</a></li>\n",
       " <li>Text Document <a href=\"files/text_doc_08.txt\">8</a></li>\n",
       " <li>Text Document <a href=\"files/text_doc_09.txt\">9</a></li>\n",
       " <li>Text Document <a href=\"files/text_doc_10.txt\">10</a></li>\n",
       " </ul>,\n",
       " <ul class=\"pdfs downloadable\">\n",
       " <p class=\"pages\">Download this list of PDFs</p>\n",
       " <li>PDF Document <a href=\"files/pdf_1.pdf\">1</a> </li>\n",
       " <li>PDF Document <a href=\"files/pdf_2.pdf\">2</a></li>\n",
       " <li>PDF Document <a href=\"files/pdf_3.pdf\">3</a></li>\n",
       " <li>PDF Document <a href=\"files/pdf_4.pdf\">4</a></li>\n",
       " <li>PDF Document <a href=\"files/pdf_5.pdf\">5</a></li>\n",
       " <li>PDF Document <a href=\"files/pdf_6.pdf\">6</a></li>\n",
       " <li>PDF Document <a href=\"files/pdf_7.pdf\">7</a></li>\n",
       " <li>PDF Document <a href=\"files/pdf_8.pdf\">8</a></li>\n",
       " <li>PDF Document <a href=\"files/pdf_9.pdf\">9</a></li>\n",
       " <li>PDF Document <a href=\"files/pdf_10.pdf\">10</a></li>\n",
       " </ul>,\n",
       " <ul class=\"txts downloadable\">\n",
       " <p class=\"pages\">Download this second set of text documents</p>\n",
       " <li>Text Document <a href=\"files/text_doc_A.txt\">1</a> </li>\n",
       " <li>Text Document <a href=\"files/text_doc_B.txt\">2</a></li>\n",
       " <li>Text Document <a href=\"files/text_doc_C.txt\">3</a></li>\n",
       " <li>Text Document <a href=\"files/text_doc_D.txt\">4</a></li>\n",
       " <li>Text Document <a href=\"files/text_doc_E.txt\">5</a></li>\n",
       " <li>Text Document <a href=\"files/text_doc_F.txt\">6</a></li>\n",
       " <li>Text Document <a href=\"files/text_doc_G.txt\">7</a></li>\n",
       " <li>Text Document <a href=\"files/text_doc_H.txt\">8</a></li>\n",
       " <li>Text Document <a href=\"files/text_doc_I.txt\">9</a></li>\n",
       " <li>Text Document <a href=\"files/text_doc_J.txt\">10</a></li>\n",
       " </ul>]"
      ]
     },
     "execution_count": 74,
     "metadata": {},
     "output_type": "execute_result"
    }
   ],
   "source": [
    "dl_all = soup.find_all(\"ul\")\n",
    "dl_all"
   ]
  },
  {
   "cell_type": "code",
   "execution_count": 75,
   "id": "829b41fa",
   "metadata": {},
   "outputs": [
    {
     "data": {
      "text/plain": [
       "[<ul class=\"txts downloadable\">\n",
       " <p class=\"pages\">Download this first set of text documents</p>\n",
       " <li>Text Document <a href=\"files/text_doc_01.txt\">1</a> </li>\n",
       " <li>Text Document <a href=\"files/text_doc_02.txt\">2</a></li>\n",
       " <li>Text Document <a href=\"files/text_doc_03.txt\">3</a></li>\n",
       " <li>Text Document <a href=\"files/text_doc_04.txt\">4</a></li>\n",
       " <li>Text Document <a href=\"files/text_doc_05.txt\">5</a></li>\n",
       " <li>Text Document <a href=\"files/text_doc_06.txt\">6</a></li>\n",
       " <li>Text Document <a href=\"files/text_doc_07.txt\">7</a></li>\n",
       " <li>Text Document <a href=\"files/text_doc_08.txt\">8</a></li>\n",
       " <li>Text Document <a href=\"files/text_doc_09.txt\">9</a></li>\n",
       " <li>Text Document <a href=\"files/text_doc_10.txt\">10</a></li>\n",
       " </ul>,\n",
       " <ul class=\"txts downloadable\">\n",
       " <p class=\"pages\">Download this second set of text documents</p>\n",
       " <li>Text Document <a href=\"files/text_doc_A.txt\">1</a> </li>\n",
       " <li>Text Document <a href=\"files/text_doc_B.txt\">2</a></li>\n",
       " <li>Text Document <a href=\"files/text_doc_C.txt\">3</a></li>\n",
       " <li>Text Document <a href=\"files/text_doc_D.txt\">4</a></li>\n",
       " <li>Text Document <a href=\"files/text_doc_E.txt\">5</a></li>\n",
       " <li>Text Document <a href=\"files/text_doc_F.txt\">6</a></li>\n",
       " <li>Text Document <a href=\"files/text_doc_G.txt\">7</a></li>\n",
       " <li>Text Document <a href=\"files/text_doc_H.txt\">8</a></li>\n",
       " <li>Text Document <a href=\"files/text_doc_I.txt\">9</a></li>\n",
       " <li>Text Document <a href=\"files/text_doc_J.txt\">10</a></li>\n",
       " </ul>]"
      ]
     },
     "execution_count": 75,
     "metadata": {},
     "output_type": "execute_result"
    }
   ],
   "source": [
    "txt_class = soup.find_all(\"ul\", class_=\"txts\")\n",
    "txt_class"
   ]
  },
  {
   "cell_type": "code",
   "execution_count": 76,
   "id": "e9464011",
   "metadata": {},
   "outputs": [
    {
     "name": "stdout",
     "output_type": "stream",
     "text": [
      "[[<a href=\"files/text_doc_01.txt\">1</a>, <a href=\"files/text_doc_02.txt\">2</a>, <a href=\"files/text_doc_03.txt\">3</a>, <a href=\"files/text_doc_04.txt\">4</a>, <a href=\"files/text_doc_05.txt\">5</a>, <a href=\"files/text_doc_06.txt\">6</a>, <a href=\"files/text_doc_07.txt\">7</a>, <a href=\"files/text_doc_08.txt\">8</a>, <a href=\"files/text_doc_09.txt\">9</a>, <a href=\"files/text_doc_10.txt\">10</a>], [<a href=\"files/text_doc_A.txt\">1</a>, <a href=\"files/text_doc_B.txt\">2</a>, <a href=\"files/text_doc_C.txt\">3</a>, <a href=\"files/text_doc_D.txt\">4</a>, <a href=\"files/text_doc_E.txt\">5</a>, <a href=\"files/text_doc_F.txt\">6</a>, <a href=\"files/text_doc_G.txt\">7</a>, <a href=\"files/text_doc_H.txt\">8</a>, <a href=\"files/text_doc_I.txt\">9</a>, <a href=\"files/text_doc_J.txt\">10</a>]]\n"
     ]
    }
   ],
   "source": [
    "aTags = []\n",
    "\n",
    "for tag in txt_class:\n",
    "    aTags.append(tag.find_all(\"a\"))\n",
    "print(aTags)"
   ]
  },
  {
   "cell_type": "code",
   "execution_count": 77,
   "id": "cd391dce",
   "metadata": {},
   "outputs": [],
   "source": [
    "import itertools"
   ]
  },
  {
   "cell_type": "code",
   "execution_count": 78,
   "id": "b15ec680",
   "metadata": {},
   "outputs": [
    {
     "data": {
      "text/plain": [
       "[<a href=\"files/text_doc_01.txt\">1</a>,\n",
       " <a href=\"files/text_doc_02.txt\">2</a>,\n",
       " <a href=\"files/text_doc_03.txt\">3</a>,\n",
       " <a href=\"files/text_doc_04.txt\">4</a>,\n",
       " <a href=\"files/text_doc_05.txt\">5</a>,\n",
       " <a href=\"files/text_doc_06.txt\">6</a>,\n",
       " <a href=\"files/text_doc_07.txt\">7</a>,\n",
       " <a href=\"files/text_doc_08.txt\">8</a>,\n",
       " <a href=\"files/text_doc_09.txt\">9</a>,\n",
       " <a href=\"files/text_doc_10.txt\">10</a>,\n",
       " <a href=\"files/text_doc_A.txt\">1</a>,\n",
       " <a href=\"files/text_doc_B.txt\">2</a>,\n",
       " <a href=\"files/text_doc_C.txt\">3</a>,\n",
       " <a href=\"files/text_doc_D.txt\">4</a>,\n",
       " <a href=\"files/text_doc_E.txt\">5</a>,\n",
       " <a href=\"files/text_doc_F.txt\">6</a>,\n",
       " <a href=\"files/text_doc_G.txt\">7</a>,\n",
       " <a href=\"files/text_doc_H.txt\">8</a>,\n",
       " <a href=\"files/text_doc_I.txt\">9</a>,\n",
       " <a href=\"files/text_doc_J.txt\">10</a>]"
      ]
     },
     "execution_count": 78,
     "metadata": {},
     "output_type": "execute_result"
    }
   ],
   "source": [
    "aTags_list = list(itertools.chain(*aTags))\n",
    "aTags_list"
   ]
  },
  {
   "cell_type": "code",
   "execution_count": 79,
   "id": "e968abe6",
   "metadata": {},
   "outputs": [
    {
     "data": {
      "text/plain": [
       "[<a href=\"files/pdf_1.pdf\">1</a>,\n",
       " <a href=\"files/pdf_2.pdf\">2</a>,\n",
       " <a href=\"files/pdf_3.pdf\">3</a>,\n",
       " <a href=\"files/pdf_4.pdf\">4</a>,\n",
       " <a href=\"files/pdf_5.pdf\">5</a>,\n",
       " <a href=\"files/pdf_6.pdf\">6</a>,\n",
       " <a href=\"files/pdf_7.pdf\">7</a>,\n",
       " <a href=\"files/pdf_8.pdf\">8</a>,\n",
       " <a href=\"files/pdf_9.pdf\">9</a>,\n",
       " <a href=\"files/pdf_10.pdf\">10</a>]"
      ]
     },
     "execution_count": 79,
     "metadata": {},
     "output_type": "execute_result"
    }
   ],
   "source": [
    "pdf_class = soup.find(\"ul\", class_=\"pdfs\").find_all(\"a\")\n",
    "pdf_class"
   ]
  },
  {
   "cell_type": "code",
   "execution_count": 82,
   "id": "19ce32c5",
   "metadata": {},
   "outputs": [
    {
     "data": {
      "text/plain": [
       "['https://sandeepmj.github.io/scrape-example-page/files/text_doc_01.txt',\n",
       " 'https://sandeepmj.github.io/scrape-example-page/files/text_doc_02.txt',\n",
       " 'https://sandeepmj.github.io/scrape-example-page/files/text_doc_03.txt',\n",
       " 'https://sandeepmj.github.io/scrape-example-page/files/text_doc_04.txt',\n",
       " 'https://sandeepmj.github.io/scrape-example-page/files/text_doc_05.txt',\n",
       " 'https://sandeepmj.github.io/scrape-example-page/files/text_doc_06.txt',\n",
       " 'https://sandeepmj.github.io/scrape-example-page/files/text_doc_07.txt',\n",
       " 'https://sandeepmj.github.io/scrape-example-page/files/text_doc_08.txt',\n",
       " 'https://sandeepmj.github.io/scrape-example-page/files/text_doc_09.txt',\n",
       " 'https://sandeepmj.github.io/scrape-example-page/files/text_doc_10.txt',\n",
       " 'https://sandeepmj.github.io/scrape-example-page/files/text_doc_A.txt',\n",
       " 'https://sandeepmj.github.io/scrape-example-page/files/text_doc_B.txt',\n",
       " 'https://sandeepmj.github.io/scrape-example-page/files/text_doc_C.txt',\n",
       " 'https://sandeepmj.github.io/scrape-example-page/files/text_doc_D.txt',\n",
       " 'https://sandeepmj.github.io/scrape-example-page/files/text_doc_E.txt',\n",
       " 'https://sandeepmj.github.io/scrape-example-page/files/text_doc_F.txt',\n",
       " 'https://sandeepmj.github.io/scrape-example-page/files/text_doc_G.txt',\n",
       " 'https://sandeepmj.github.io/scrape-example-page/files/text_doc_H.txt',\n",
       " 'https://sandeepmj.github.io/scrape-example-page/files/text_doc_I.txt',\n",
       " 'https://sandeepmj.github.io/scrape-example-page/files/text_doc_J.txt']"
      ]
     },
     "execution_count": 82,
     "metadata": {},
     "output_type": "execute_result"
    }
   ],
   "source": [
    "links_txt = [base_url + aTag.get(\"href\") for aTag in aTags_list]\n",
    "links_txt"
   ]
  },
  {
   "cell_type": "code",
   "execution_count": 83,
   "id": "08a489c8",
   "metadata": {},
   "outputs": [
    {
     "data": {
      "text/plain": [
       "['https://sandeepmj.github.io/scrape-example-page/files/pdf_1.pdf',\n",
       " 'https://sandeepmj.github.io/scrape-example-page/files/pdf_2.pdf',\n",
       " 'https://sandeepmj.github.io/scrape-example-page/files/pdf_3.pdf',\n",
       " 'https://sandeepmj.github.io/scrape-example-page/files/pdf_4.pdf',\n",
       " 'https://sandeepmj.github.io/scrape-example-page/files/pdf_5.pdf',\n",
       " 'https://sandeepmj.github.io/scrape-example-page/files/pdf_6.pdf',\n",
       " 'https://sandeepmj.github.io/scrape-example-page/files/pdf_7.pdf',\n",
       " 'https://sandeepmj.github.io/scrape-example-page/files/pdf_8.pdf',\n",
       " 'https://sandeepmj.github.io/scrape-example-page/files/pdf_9.pdf',\n",
       " 'https://sandeepmj.github.io/scrape-example-page/files/pdf_10.pdf']"
      ]
     },
     "execution_count": 83,
     "metadata": {},
     "output_type": "execute_result"
    }
   ],
   "source": [
    "links_pdf = [base_url + aTag.get(\"href\") for aTag in pdf_class]\n",
    "links_pdf"
   ]
  },
  {
   "cell_type": "code",
   "execution_count": 84,
   "id": "e6775393",
   "metadata": {},
   "outputs": [
    {
     "data": {
      "text/plain": [
       "['https://sandeepmj.github.io/scrape-example-page/files/pdf_1.pdf',\n",
       " 'https://sandeepmj.github.io/scrape-example-page/files/pdf_2.pdf',\n",
       " 'https://sandeepmj.github.io/scrape-example-page/files/pdf_3.pdf',\n",
       " 'https://sandeepmj.github.io/scrape-example-page/files/pdf_4.pdf',\n",
       " 'https://sandeepmj.github.io/scrape-example-page/files/pdf_5.pdf',\n",
       " 'https://sandeepmj.github.io/scrape-example-page/files/pdf_6.pdf',\n",
       " 'https://sandeepmj.github.io/scrape-example-page/files/pdf_7.pdf',\n",
       " 'https://sandeepmj.github.io/scrape-example-page/files/pdf_8.pdf',\n",
       " 'https://sandeepmj.github.io/scrape-example-page/files/pdf_9.pdf',\n",
       " 'https://sandeepmj.github.io/scrape-example-page/files/pdf_10.pdf',\n",
       " 'https://sandeepmj.github.io/scrape-example-page/files/text_doc_01.txt',\n",
       " 'https://sandeepmj.github.io/scrape-example-page/files/text_doc_02.txt',\n",
       " 'https://sandeepmj.github.io/scrape-example-page/files/text_doc_03.txt',\n",
       " 'https://sandeepmj.github.io/scrape-example-page/files/text_doc_04.txt',\n",
       " 'https://sandeepmj.github.io/scrape-example-page/files/text_doc_05.txt',\n",
       " 'https://sandeepmj.github.io/scrape-example-page/files/text_doc_06.txt',\n",
       " 'https://sandeepmj.github.io/scrape-example-page/files/text_doc_07.txt',\n",
       " 'https://sandeepmj.github.io/scrape-example-page/files/text_doc_08.txt',\n",
       " 'https://sandeepmj.github.io/scrape-example-page/files/text_doc_09.txt',\n",
       " 'https://sandeepmj.github.io/scrape-example-page/files/text_doc_10.txt',\n",
       " 'https://sandeepmj.github.io/scrape-example-page/files/text_doc_A.txt',\n",
       " 'https://sandeepmj.github.io/scrape-example-page/files/text_doc_B.txt',\n",
       " 'https://sandeepmj.github.io/scrape-example-page/files/text_doc_C.txt',\n",
       " 'https://sandeepmj.github.io/scrape-example-page/files/text_doc_D.txt',\n",
       " 'https://sandeepmj.github.io/scrape-example-page/files/text_doc_E.txt',\n",
       " 'https://sandeepmj.github.io/scrape-example-page/files/text_doc_F.txt',\n",
       " 'https://sandeepmj.github.io/scrape-example-page/files/text_doc_G.txt',\n",
       " 'https://sandeepmj.github.io/scrape-example-page/files/text_doc_H.txt',\n",
       " 'https://sandeepmj.github.io/scrape-example-page/files/text_doc_I.txt',\n",
       " 'https://sandeepmj.github.io/scrape-example-page/files/text_doc_J.txt']"
      ]
     },
     "execution_count": 84,
     "metadata": {},
     "output_type": "execute_result"
    }
   ],
   "source": [
    "all_links = links_pdf + links_txt\n",
    "all_links"
   ]
  },
  {
   "cell_type": "code",
   "execution_count": 86,
   "id": "2d9c59a3",
   "metadata": {},
   "outputs": [],
   "source": [
    "import wget"
   ]
  },
  {
   "cell_type": "code",
   "execution_count": 87,
   "id": "5956ee3d",
   "metadata": {},
   "outputs": [
    {
     "name": "stdout",
     "output_type": "stream",
     "text": [
      "Requirement already satisfied: wget in /Users/GSB/anaconda3/lib/python3.11/site-packages (3.2)\n",
      "Note: you may need to restart the kernel to use updated packages.\n"
     ]
    }
   ],
   "source": [
    "pip install wget"
   ]
  },
  {
   "cell_type": "code",
   "execution_count": 88,
   "id": "d53d24d1",
   "metadata": {},
   "outputs": [],
   "source": [
    "import time\n",
    "from random import randrange\n",
    "\n",
    "def timer(start_time, end_time):\n",
    "    snoozer = randrange(start_time, end_time)\n",
    "    print(f\"Snoozing for {snoozer} seconds\")\n",
    "    time.sleep(snoozer)"
   ]
  },
  {
   "cell_type": "code",
   "execution_count": 89,
   "id": "c4c82398",
   "metadata": {},
   "outputs": [
    {
     "name": "stdout",
     "output_type": "stream",
     "text": [
      "Downloading link 1 of 30\n",
      "100% [..........................................................] 12812 / 12812Snoozing for 12 seconds\n",
      "Downloading link 2 of 30\n",
      "100% [..........................................................] 12897 / 12897Snoozing for 12 seconds\n",
      "Downloading link 3 of 30\n",
      "100% [..........................................................] 12908 / 12908Snoozing for 12 seconds\n",
      "Downloading link 4 of 30\n",
      "100% [..........................................................] 12843 / 12843Snoozing for 10 seconds\n",
      "Downloading link 5 of 30\n",
      "100% [..........................................................] 12881 / 12881Snoozing for 19 seconds\n",
      "Downloading link 6 of 30\n",
      "100% [..........................................................] 12906 / 12906Snoozing for 19 seconds\n",
      "Downloading link 7 of 30\n",
      "100% [..........................................................] 12816 / 12816Snoozing for 10 seconds\n",
      "Downloading link 8 of 30\n",
      "100% [..........................................................] 12921 / 12921Snoozing for 10 seconds\n",
      "Downloading link 9 of 30\n",
      "100% [..........................................................] 12901 / 12901Snoozing for 19 seconds\n",
      "Downloading link 10 of 30\n",
      "100% [..........................................................] 13049 / 13049Snoozing for 19 seconds\n",
      "Downloading link 11 of 30\n",
      "100% [................................................................] 76 / 76Snoozing for 16 seconds\n",
      "Downloading link 12 of 30\n",
      "100% [................................................................] 66 / 66Snoozing for 12 seconds\n",
      "Downloading link 13 of 30\n",
      "100% [................................................................] 70 / 70Snoozing for 12 seconds\n",
      "Downloading link 14 of 30\n",
      "100% [................................................................] 63 / 63Snoozing for 16 seconds\n",
      "Downloading link 15 of 30\n",
      "100% [................................................................] 66 / 66Snoozing for 20 seconds\n",
      "Downloading link 16 of 30\n",
      "100% [................................................................] 66 / 66Snoozing for 13 seconds\n",
      "Downloading link 17 of 30\n",
      "100% [................................................................] 69 / 69Snoozing for 10 seconds\n",
      "Downloading link 18 of 30\n",
      "100% [................................................................] 65 / 65Snoozing for 17 seconds\n",
      "Downloading link 19 of 30\n",
      "100% [................................................................] 66 / 66Snoozing for 16 seconds\n",
      "Downloading link 20 of 30\n",
      "100% [................................................................] 60 / 60Snoozing for 12 seconds\n",
      "Downloading link 21 of 30\n",
      "100% [................................................................] 69 / 69Snoozing for 16 seconds\n",
      "Downloading link 22 of 30\n",
      "100% [................................................................] 61 / 61Snoozing for 14 seconds\n",
      "Downloading link 23 of 30\n",
      "100% [................................................................] 72 / 72Snoozing for 15 seconds\n",
      "Downloading link 24 of 30\n",
      "100% [................................................................] 68 / 68Snoozing for 16 seconds\n",
      "Downloading link 25 of 30\n",
      "100% [................................................................] 70 / 70Snoozing for 18 seconds\n",
      "Downloading link 26 of 30\n",
      "100% [................................................................] 66 / 66Snoozing for 14 seconds\n",
      "Downloading link 27 of 30\n",
      "100% [................................................................] 76 / 76Snoozing for 14 seconds\n",
      "Downloading link 28 of 30\n",
      "100% [................................................................] 71 / 71Snoozing for 17 seconds\n",
      "Downloading link 29 of 30\n",
      "100% [................................................................] 63 / 63Snoozing for 12 seconds\n",
      "Downloading link 30 of 30\n",
      "100% [................................................................] 71 / 71Snoozing for 14 seconds\n"
     ]
    },
    {
     "ename": "NameError",
     "evalue": "name 'links' is not defined",
     "output_type": "error",
     "traceback": [
      "\u001b[0;31m---------------------------------------------------------------------------\u001b[0m",
      "\u001b[0;31mNameError\u001b[0m                                 Traceback (most recent call last)",
      "Cell \u001b[0;32mIn[89], line 9\u001b[0m\n\u001b[1;32m      7\u001b[0m     wget\u001b[38;5;241m.\u001b[39mdownload(link)\n\u001b[1;32m      8\u001b[0m     timer(start_range, end_range)\n\u001b[0;32m----> 9\u001b[0m \u001b[38;5;28mprint\u001b[39m(\u001b[38;5;124mf\u001b[39m\u001b[38;5;124m\"\u001b[39m\u001b[38;5;124mDone downloading \u001b[39m\u001b[38;5;132;01m{\u001b[39;00mlink_count\u001b[38;5;132;01m}\u001b[39;00m\u001b[38;5;124m of \u001b[39m\u001b[38;5;132;01m{\u001b[39;00m\u001b[38;5;28mlen\u001b[39m(links)\u001b[38;5;132;01m}\u001b[39;00m\u001b[38;5;124m\"\u001b[39m)\n",
      "\u001b[0;31mNameError\u001b[0m: name 'links' is not defined"
     ]
    }
   ],
   "source": [
    "link_count = 0\n",
    "start_range, end_range = 10,21\n",
    "\n",
    "for link in all_links:\n",
    "    link_count+=1\n",
    "    print(f\"Downloading link {link_count} of {len(all_links)}\")\n",
    "    wget.download(link)\n",
    "    timer(start_range, end_range)\n",
    "print(f\"Done downloading {link_count} of {len(links)}\")\n"
   ]
  },
  {
   "cell_type": "code",
   "execution_count": null,
   "id": "1968aadb",
   "metadata": {},
   "outputs": [],
   "source": []
  },
  {
   "cell_type": "code",
   "execution_count": null,
   "id": "c8fca76d",
   "metadata": {},
   "outputs": [],
   "source": []
  },
  {
   "cell_type": "code",
   "execution_count": null,
   "id": "526733b6",
   "metadata": {},
   "outputs": [],
   "source": []
  },
  {
   "cell_type": "code",
   "execution_count": null,
   "id": "88061428",
   "metadata": {},
   "outputs": [],
   "source": []
  },
  {
   "cell_type": "code",
   "execution_count": null,
   "id": "4163867a",
   "metadata": {},
   "outputs": [],
   "source": []
  },
  {
   "cell_type": "code",
   "execution_count": null,
   "id": "b2cd6b52",
   "metadata": {},
   "outputs": [],
   "source": []
  },
  {
   "cell_type": "code",
   "execution_count": null,
   "id": "e39f2b90",
   "metadata": {},
   "outputs": [],
   "source": []
  }
 ],
 "metadata": {
  "kernelspec": {
   "display_name": "Python 3 (ipykernel)",
   "language": "python",
   "name": "python3"
  },
  "language_info": {
   "codemirror_mode": {
    "name": "ipython",
    "version": 3
   },
   "file_extension": ".py",
   "mimetype": "text/x-python",
   "name": "python",
   "nbconvert_exporter": "python",
   "pygments_lexer": "ipython3",
   "version": "3.11.5"
  }
 },
 "nbformat": 4,
 "nbformat_minor": 5
}
